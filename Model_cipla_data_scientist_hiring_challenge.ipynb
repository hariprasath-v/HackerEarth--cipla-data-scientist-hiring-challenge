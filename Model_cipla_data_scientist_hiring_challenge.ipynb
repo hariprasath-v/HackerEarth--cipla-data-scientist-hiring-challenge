{
  "nbformat": 4,
  "nbformat_minor": 0,
  "metadata": {
    "colab": {
      "name": "Model---cipla-data-scientist-hiring-challenge.ipynb",
      "provenance": [],
      "collapsed_sections": []
    },
    "kernelspec": {
      "display_name": "Python 3",
      "name": "python3"
    },
    "language_info": {
      "name": "python"
    }
  },
  "cells": [
    {
      "cell_type": "code",
      "metadata": {
        "colab": {
          "base_uri": "https://localhost:8080/"
        },
        "id": "ymp0EU2NIPZI",
        "outputId": "46771aea-a7f1-4005-c5ab-c1f6c05579eb"
      },
      "source": [
        "from google.colab import drive\n",
        "drive.mount('/content/gdrive')"
      ],
      "execution_count": 2,
      "outputs": [
        {
          "output_type": "stream",
          "text": [
            "Mounted at /content/gdrive\n"
          ],
          "name": "stdout"
        }
      ]
    },
    {
      "cell_type": "code",
      "metadata": {
        "colab": {
          "base_uri": "https://localhost:8080/"
        },
        "id": "Xo596DXR19oT",
        "outputId": "71136f2c-6e5c-43f2-c16e-831e0a6111b5"
      },
      "source": [
        "!pip install -U scikit-learn"
      ],
      "execution_count": null,
      "outputs": [
        {
          "output_type": "stream",
          "text": [
            "Collecting scikit-learn\n",
            "\u001b[?25l  Downloading https://files.pythonhosted.org/packages/a8/eb/a48f25c967526b66d5f1fa7a984594f0bf0a5afafa94a8c4dbc317744620/scikit_learn-0.24.2-cp37-cp37m-manylinux2010_x86_64.whl (22.3MB)\n",
            "\u001b[K     |████████████████████████████████| 22.3MB 1.5MB/s \n",
            "\u001b[?25hCollecting threadpoolctl>=2.0.0\n",
            "  Downloading https://files.pythonhosted.org/packages/f7/12/ec3f2e203afa394a149911729357aa48affc59c20e2c1c8297a60f33f133/threadpoolctl-2.1.0-py3-none-any.whl\n",
            "Requirement already satisfied, skipping upgrade: joblib>=0.11 in /usr/local/lib/python3.7/dist-packages (from scikit-learn) (1.0.1)\n",
            "Requirement already satisfied, skipping upgrade: scipy>=0.19.1 in /usr/local/lib/python3.7/dist-packages (from scikit-learn) (1.4.1)\n",
            "Requirement already satisfied, skipping upgrade: numpy>=1.13.3 in /usr/local/lib/python3.7/dist-packages (from scikit-learn) (1.19.5)\n",
            "Installing collected packages: threadpoolctl, scikit-learn\n",
            "  Found existing installation: scikit-learn 0.22.2.post1\n",
            "    Uninstalling scikit-learn-0.22.2.post1:\n",
            "      Successfully uninstalled scikit-learn-0.22.2.post1\n",
            "Successfully installed scikit-learn-0.24.2 threadpoolctl-2.1.0\n"
          ],
          "name": "stdout"
        }
      ]
    },
    {
      "cell_type": "markdown",
      "metadata": {
        "id": "pzp-pwyRSYK-"
      },
      "source": [
        "#### Load necessary packages"
      ]
    },
    {
      "cell_type": "code",
      "metadata": {
        "id": "BNuCooABIlik"
      },
      "source": [
        "import pandas as pd\n",
        "import numpy as np\n",
        "from matplotlib import pyplot as plt\n",
        "%matplotlib inline\n",
        "import seaborn as sns\n",
        "import statistics as st\n",
        "import warnings\n",
        "warnings.filterwarnings(\"ignore\")\n",
        "from sklearn.model_selection import cross_validate,GridSearchCV,RandomizedSearchCV\n",
        "import xgboost as xgb\n",
        "from sklearn.preprocessing import OrdinalEncoder,LabelEncoder,StandardScaler,LabelBinarizer,OneHotEncoder,Binarizer\n",
        "from sklearn.compose import ColumnTransformer\n",
        "from sklearn.pipeline import Pipeline\n",
        "from sklearn.model_selection import ShuffleSplit\n",
        "from numpy import isnan\n",
        "from sklearn.impute import SimpleImputer\n"
      ],
      "execution_count": 3,
      "outputs": []
    },
    {
      "cell_type": "markdown",
      "metadata": {
        "id": "ZCb_SbWoShYZ"
      },
      "source": [
        "### Load train and test dataset"
      ]
    },
    {
      "cell_type": "code",
      "metadata": {
        "id": "W9hiWgwMIoc_"
      },
      "source": [
        "train=pd.read_csv(\"/content/gdrive/MyDrive/cipla-data-scientist-hiring-challenge/train.csv\")\n",
        "test=pd.read_csv(\"/content/gdrive/MyDrive/cipla-data-scientist-hiring-challenge/test.csv\")"
      ],
      "execution_count": 138,
      "outputs": []
    },
    {
      "cell_type": "markdown",
      "metadata": {
        "id": "HHdXabIqSnsE"
      },
      "source": [
        "### One category column level is missing in test dataset. So combine the train and test and again split the data"
      ]
    },
    {
      "cell_type": "code",
      "metadata": {
        "id": "zQsCTwm3jWuI"
      },
      "source": [
        "full_data=pd.concat([train,test],axis=0)"
      ],
      "execution_count": 139,
      "outputs": []
    },
    {
      "cell_type": "code",
      "metadata": {
        "id": "MEU-PNVYjeji"
      },
      "source": [
        "train=full_data[full_data['Loan Sanction Amount (USD)'].notnull()]\n",
        "test=full_data[full_data['Loan Sanction Amount (USD)'].isnull()]"
      ],
      "execution_count": 140,
      "outputs": []
    },
    {
      "cell_type": "markdown",
      "metadata": {
        "id": "P6qDPxBTbVYD"
      },
      "source": [
        "### Let's see missing value counts in each column"
      ]
    },
    {
      "cell_type": "code",
      "metadata": {
        "colab": {
          "base_uri": "https://localhost:8080/"
        },
        "id": "1UZZzKhlbeOV",
        "outputId": "38d6dba7-29ba-40e6-d8be-fa35d5322cf8"
      },
      "source": [
        "train.isnull().sum()"
      ],
      "execution_count": 9,
      "outputs": [
        {
          "output_type": "execute_result",
          "data": {
            "text/plain": [
              "Customer ID                       0\n",
              "Name                              0\n",
              "Gender                           52\n",
              "Age                               0\n",
              "Income (USD)                   4493\n",
              "Income Stability               1658\n",
              "Profession                        0\n",
              "Type of Employment             7188\n",
              "Location                          0\n",
              "Loan Amount Request (USD)         0\n",
              "Current Loan Expenses (USD)     167\n",
              "Expense Type 1                    0\n",
              "Expense Type 2                    0\n",
              "Dependents                     2446\n",
              "Credit Score                   1670\n",
              "No. of Defaults                   0\n",
              "Has Active Credit Card         1546\n",
              "Property ID                       0\n",
              "Property Age                   4760\n",
              "Property Type                     0\n",
              "Property Location               347\n",
              "Co-Applicant                      0\n",
              "Property Price                    0\n",
              "Loan Sanction Amount (USD)        0\n",
              "dtype: int64"
            ]
          },
          "metadata": {
            "tags": []
          },
          "execution_count": 9
        }
      ]
    },
    {
      "cell_type": "markdown",
      "metadata": {
        "id": "11Wj0-ybbiLn"
      },
      "source": [
        "#### The above information explain that the target column(Loan Sanction Amount (USD)) also has missing value."
      ]
    },
    {
      "cell_type": "markdown",
      "metadata": {
        "id": "KhvSlpKsbydV"
      },
      "source": [
        "#### Let's remove the target column missing rows"
      ]
    },
    {
      "cell_type": "code",
      "metadata": {
        "id": "RAZfHf_RdwfM"
      },
      "source": [
        "new_train=train[train['Loan Sanction Amount (USD)'].notnull()]"
      ],
      "execution_count": 141,
      "outputs": []
    },
    {
      "cell_type": "markdown",
      "metadata": {
        "id": "flpnLczXb-Hb"
      },
      "source": [
        "#### Now again check the missing values"
      ]
    },
    {
      "cell_type": "code",
      "metadata": {
        "colab": {
          "base_uri": "https://localhost:8080/"
        },
        "id": "sDx4RUBHd7a2",
        "outputId": "b078cf48-4382-4af9-d815-f4c707214b3f"
      },
      "source": [
        "new_train.isnull().sum()"
      ],
      "execution_count": null,
      "outputs": [
        {
          "output_type": "execute_result",
          "data": {
            "text/plain": [
              "Customer ID                       0\n",
              "Name                              0\n",
              "Gender                           52\n",
              "Age                               0\n",
              "Income (USD)                   4493\n",
              "Income Stability               1658\n",
              "Profession                        0\n",
              "Type of Employment             7188\n",
              "Location                          0\n",
              "Loan Amount Request (USD)         0\n",
              "Current Loan Expenses (USD)     167\n",
              "Expense Type 1                    0\n",
              "Expense Type 2                    0\n",
              "Dependents                     2446\n",
              "Credit Score                   1670\n",
              "No. of Defaults                   0\n",
              "Has Active Credit Card         1546\n",
              "Property ID                       0\n",
              "Property Age                   4760\n",
              "Property Type                     0\n",
              "Property Location               347\n",
              "Co-Applicant                      0\n",
              "Property Price                    0\n",
              "Loan Sanction Amount (USD)        0\n",
              "dtype: int64"
            ]
          },
          "metadata": {
            "tags": []
          },
          "execution_count": 10
        }
      ]
    },
    {
      "cell_type": "markdown",
      "metadata": {
        "id": "YhF5cul75tXZ"
      },
      "source": [
        "### Create list of column name that has missing values."
      ]
    },
    {
      "cell_type": "code",
      "metadata": {
        "id": "iIcEdPwF5zPI"
      },
      "source": [
        "missing_val_cols=list(new_train.columns[new_train.isnull().any()])"
      ],
      "execution_count": 142,
      "outputs": []
    },
    {
      "cell_type": "markdown",
      "metadata": {
        "id": "zDNFL6od0k2m"
      },
      "source": [
        "### Let's create a missing value indicator column that is if column has missing value return 1 otherwise 0."
      ]
    },
    {
      "cell_type": "code",
      "metadata": {
        "id": "jrTE87Y21Ahy"
      },
      "source": [
        "indicator_col=new_train[missing_val_cols].isnull().astype(int).add_suffix('_indicator')"
      ],
      "execution_count": 143,
      "outputs": []
    },
    {
      "cell_type": "markdown",
      "metadata": {
        "id": "9XlcoMz73CBL"
      },
      "source": [
        "### Concatenate new_train and indicator_col"
      ]
    },
    {
      "cell_type": "code",
      "metadata": {
        "id": "sa7WV2qo1yeg"
      },
      "source": [
        "new_train=pd.concat([new_train,indicator_col],axis=1)"
      ],
      "execution_count": 144,
      "outputs": []
    },
    {
      "cell_type": "code",
      "metadata": {
        "colab": {
          "base_uri": "https://localhost:8080/",
          "height": 261
        },
        "id": "3veZHnMP3NNx",
        "outputId": "bdb34307-3154-4c68-bc83-f71ed79f93ec"
      },
      "source": [
        "new_train.head(3)"
      ],
      "execution_count": 145,
      "outputs": [
        {
          "output_type": "execute_result",
          "data": {
            "text/html": [
              "<div>\n",
              "<style scoped>\n",
              "    .dataframe tbody tr th:only-of-type {\n",
              "        vertical-align: middle;\n",
              "    }\n",
              "\n",
              "    .dataframe tbody tr th {\n",
              "        vertical-align: top;\n",
              "    }\n",
              "\n",
              "    .dataframe thead th {\n",
              "        text-align: right;\n",
              "    }\n",
              "</style>\n",
              "<table border=\"1\" class=\"dataframe\">\n",
              "  <thead>\n",
              "    <tr style=\"text-align: right;\">\n",
              "      <th></th>\n",
              "      <th>Customer ID</th>\n",
              "      <th>Name</th>\n",
              "      <th>Gender</th>\n",
              "      <th>Age</th>\n",
              "      <th>Income (USD)</th>\n",
              "      <th>Income Stability</th>\n",
              "      <th>Profession</th>\n",
              "      <th>Type of Employment</th>\n",
              "      <th>Location</th>\n",
              "      <th>Loan Amount Request (USD)</th>\n",
              "      <th>Current Loan Expenses (USD)</th>\n",
              "      <th>Expense Type 1</th>\n",
              "      <th>Expense Type 2</th>\n",
              "      <th>Dependents</th>\n",
              "      <th>Credit Score</th>\n",
              "      <th>No. of Defaults</th>\n",
              "      <th>Has Active Credit Card</th>\n",
              "      <th>Property ID</th>\n",
              "      <th>Property Age</th>\n",
              "      <th>Property Type</th>\n",
              "      <th>Property Location</th>\n",
              "      <th>Co-Applicant</th>\n",
              "      <th>Property Price</th>\n",
              "      <th>Loan Sanction Amount (USD)</th>\n",
              "      <th>Gender_indicator</th>\n",
              "      <th>Income (USD)_indicator</th>\n",
              "      <th>Income Stability_indicator</th>\n",
              "      <th>Type of Employment_indicator</th>\n",
              "      <th>Current Loan Expenses (USD)_indicator</th>\n",
              "      <th>Dependents_indicator</th>\n",
              "      <th>Credit Score_indicator</th>\n",
              "      <th>Has Active Credit Card_indicator</th>\n",
              "      <th>Property Age_indicator</th>\n",
              "      <th>Property Location_indicator</th>\n",
              "    </tr>\n",
              "  </thead>\n",
              "  <tbody>\n",
              "    <tr>\n",
              "      <th>0</th>\n",
              "      <td>C-36995</td>\n",
              "      <td>Frederica Shealy</td>\n",
              "      <td>F</td>\n",
              "      <td>56</td>\n",
              "      <td>1933.05</td>\n",
              "      <td>Low</td>\n",
              "      <td>Working</td>\n",
              "      <td>Sales staff</td>\n",
              "      <td>Semi-Urban</td>\n",
              "      <td>72809.58</td>\n",
              "      <td>241.08</td>\n",
              "      <td>N</td>\n",
              "      <td>N</td>\n",
              "      <td>3.0</td>\n",
              "      <td>809.44</td>\n",
              "      <td>0</td>\n",
              "      <td>NaN</td>\n",
              "      <td>746</td>\n",
              "      <td>1933.05</td>\n",
              "      <td>4</td>\n",
              "      <td>Rural</td>\n",
              "      <td>1</td>\n",
              "      <td>119933</td>\n",
              "      <td>54607.18</td>\n",
              "      <td>0</td>\n",
              "      <td>0</td>\n",
              "      <td>0</td>\n",
              "      <td>0</td>\n",
              "      <td>0</td>\n",
              "      <td>0</td>\n",
              "      <td>0</td>\n",
              "      <td>1</td>\n",
              "      <td>0</td>\n",
              "      <td>0</td>\n",
              "    </tr>\n",
              "    <tr>\n",
              "      <th>1</th>\n",
              "      <td>C-33999</td>\n",
              "      <td>America Calderone</td>\n",
              "      <td>M</td>\n",
              "      <td>32</td>\n",
              "      <td>4952.91</td>\n",
              "      <td>Low</td>\n",
              "      <td>Working</td>\n",
              "      <td>NaN</td>\n",
              "      <td>Semi-Urban</td>\n",
              "      <td>46837.47</td>\n",
              "      <td>495.81</td>\n",
              "      <td>N</td>\n",
              "      <td>Y</td>\n",
              "      <td>1.0</td>\n",
              "      <td>780.40</td>\n",
              "      <td>0</td>\n",
              "      <td>Unpossessed</td>\n",
              "      <td>608</td>\n",
              "      <td>4952.91</td>\n",
              "      <td>2</td>\n",
              "      <td>Rural</td>\n",
              "      <td>1</td>\n",
              "      <td>54791</td>\n",
              "      <td>37469.98</td>\n",
              "      <td>0</td>\n",
              "      <td>0</td>\n",
              "      <td>0</td>\n",
              "      <td>1</td>\n",
              "      <td>0</td>\n",
              "      <td>0</td>\n",
              "      <td>0</td>\n",
              "      <td>0</td>\n",
              "      <td>0</td>\n",
              "      <td>0</td>\n",
              "    </tr>\n",
              "    <tr>\n",
              "      <th>2</th>\n",
              "      <td>C-3770</td>\n",
              "      <td>Rosetta Verne</td>\n",
              "      <td>F</td>\n",
              "      <td>65</td>\n",
              "      <td>988.19</td>\n",
              "      <td>High</td>\n",
              "      <td>Pensioner</td>\n",
              "      <td>NaN</td>\n",
              "      <td>Semi-Urban</td>\n",
              "      <td>45593.04</td>\n",
              "      <td>171.95</td>\n",
              "      <td>N</td>\n",
              "      <td>Y</td>\n",
              "      <td>1.0</td>\n",
              "      <td>833.15</td>\n",
              "      <td>0</td>\n",
              "      <td>Unpossessed</td>\n",
              "      <td>546</td>\n",
              "      <td>988.19</td>\n",
              "      <td>2</td>\n",
              "      <td>Urban</td>\n",
              "      <td>0</td>\n",
              "      <td>72440.6</td>\n",
              "      <td>36474.43</td>\n",
              "      <td>0</td>\n",
              "      <td>0</td>\n",
              "      <td>0</td>\n",
              "      <td>1</td>\n",
              "      <td>0</td>\n",
              "      <td>0</td>\n",
              "      <td>0</td>\n",
              "      <td>0</td>\n",
              "      <td>0</td>\n",
              "      <td>0</td>\n",
              "    </tr>\n",
              "  </tbody>\n",
              "</table>\n",
              "</div>"
            ],
            "text/plain": [
              "  Customer ID  ... Property Location_indicator\n",
              "0     C-36995  ...                           0\n",
              "1     C-33999  ...                           0\n",
              "2      C-3770  ...                           0\n",
              "\n",
              "[3 rows x 34 columns]"
            ]
          },
          "metadata": {
            "tags": []
          },
          "execution_count": 145
        }
      ]
    },
    {
      "cell_type": "markdown",
      "metadata": {
        "id": "Bdt5BeeS4ANb"
      },
      "source": [
        "### Let's re-arrange the indicator column "
      ]
    },
    {
      "cell_type": "code",
      "metadata": {
        "id": "UdjF8EKN4I9G"
      },
      "source": [
        "new_train=new_train.iloc[:,np.r_[0:3,24,3,4,25,5,26,6,7,27,8,9,10,28,11:14,29,14,30,15,16,31,17,18,32,19,20,33,21:24]]"
      ],
      "execution_count": 146,
      "outputs": []
    },
    {
      "cell_type": "code",
      "metadata": {
        "colab": {
          "base_uri": "https://localhost:8080/",
          "height": 261
        },
        "id": "mqxF2svODsIM",
        "outputId": "0cbafb55-2246-40e5-b903-c7f38fabb8cf"
      },
      "source": [
        "new_train.head(3)"
      ],
      "execution_count": 147,
      "outputs": [
        {
          "output_type": "execute_result",
          "data": {
            "text/html": [
              "<div>\n",
              "<style scoped>\n",
              "    .dataframe tbody tr th:only-of-type {\n",
              "        vertical-align: middle;\n",
              "    }\n",
              "\n",
              "    .dataframe tbody tr th {\n",
              "        vertical-align: top;\n",
              "    }\n",
              "\n",
              "    .dataframe thead th {\n",
              "        text-align: right;\n",
              "    }\n",
              "</style>\n",
              "<table border=\"1\" class=\"dataframe\">\n",
              "  <thead>\n",
              "    <tr style=\"text-align: right;\">\n",
              "      <th></th>\n",
              "      <th>Customer ID</th>\n",
              "      <th>Name</th>\n",
              "      <th>Gender</th>\n",
              "      <th>Gender_indicator</th>\n",
              "      <th>Age</th>\n",
              "      <th>Income (USD)</th>\n",
              "      <th>Income (USD)_indicator</th>\n",
              "      <th>Income Stability</th>\n",
              "      <th>Income Stability_indicator</th>\n",
              "      <th>Profession</th>\n",
              "      <th>Type of Employment</th>\n",
              "      <th>Type of Employment_indicator</th>\n",
              "      <th>Location</th>\n",
              "      <th>Loan Amount Request (USD)</th>\n",
              "      <th>Current Loan Expenses (USD)</th>\n",
              "      <th>Current Loan Expenses (USD)_indicator</th>\n",
              "      <th>Expense Type 1</th>\n",
              "      <th>Expense Type 2</th>\n",
              "      <th>Dependents</th>\n",
              "      <th>Dependents_indicator</th>\n",
              "      <th>Credit Score</th>\n",
              "      <th>Credit Score_indicator</th>\n",
              "      <th>No. of Defaults</th>\n",
              "      <th>Has Active Credit Card</th>\n",
              "      <th>Has Active Credit Card_indicator</th>\n",
              "      <th>Property ID</th>\n",
              "      <th>Property Age</th>\n",
              "      <th>Property Age_indicator</th>\n",
              "      <th>Property Type</th>\n",
              "      <th>Property Location</th>\n",
              "      <th>Property Location_indicator</th>\n",
              "      <th>Co-Applicant</th>\n",
              "      <th>Property Price</th>\n",
              "      <th>Loan Sanction Amount (USD)</th>\n",
              "    </tr>\n",
              "  </thead>\n",
              "  <tbody>\n",
              "    <tr>\n",
              "      <th>0</th>\n",
              "      <td>C-36995</td>\n",
              "      <td>Frederica Shealy</td>\n",
              "      <td>F</td>\n",
              "      <td>0</td>\n",
              "      <td>56</td>\n",
              "      <td>1933.05</td>\n",
              "      <td>0</td>\n",
              "      <td>Low</td>\n",
              "      <td>0</td>\n",
              "      <td>Working</td>\n",
              "      <td>Sales staff</td>\n",
              "      <td>0</td>\n",
              "      <td>Semi-Urban</td>\n",
              "      <td>72809.58</td>\n",
              "      <td>241.08</td>\n",
              "      <td>0</td>\n",
              "      <td>N</td>\n",
              "      <td>N</td>\n",
              "      <td>3.0</td>\n",
              "      <td>0</td>\n",
              "      <td>809.44</td>\n",
              "      <td>0</td>\n",
              "      <td>0</td>\n",
              "      <td>NaN</td>\n",
              "      <td>1</td>\n",
              "      <td>746</td>\n",
              "      <td>1933.05</td>\n",
              "      <td>0</td>\n",
              "      <td>4</td>\n",
              "      <td>Rural</td>\n",
              "      <td>0</td>\n",
              "      <td>1</td>\n",
              "      <td>119933</td>\n",
              "      <td>54607.18</td>\n",
              "    </tr>\n",
              "    <tr>\n",
              "      <th>1</th>\n",
              "      <td>C-33999</td>\n",
              "      <td>America Calderone</td>\n",
              "      <td>M</td>\n",
              "      <td>0</td>\n",
              "      <td>32</td>\n",
              "      <td>4952.91</td>\n",
              "      <td>0</td>\n",
              "      <td>Low</td>\n",
              "      <td>0</td>\n",
              "      <td>Working</td>\n",
              "      <td>NaN</td>\n",
              "      <td>1</td>\n",
              "      <td>Semi-Urban</td>\n",
              "      <td>46837.47</td>\n",
              "      <td>495.81</td>\n",
              "      <td>0</td>\n",
              "      <td>N</td>\n",
              "      <td>Y</td>\n",
              "      <td>1.0</td>\n",
              "      <td>0</td>\n",
              "      <td>780.40</td>\n",
              "      <td>0</td>\n",
              "      <td>0</td>\n",
              "      <td>Unpossessed</td>\n",
              "      <td>0</td>\n",
              "      <td>608</td>\n",
              "      <td>4952.91</td>\n",
              "      <td>0</td>\n",
              "      <td>2</td>\n",
              "      <td>Rural</td>\n",
              "      <td>0</td>\n",
              "      <td>1</td>\n",
              "      <td>54791</td>\n",
              "      <td>37469.98</td>\n",
              "    </tr>\n",
              "    <tr>\n",
              "      <th>2</th>\n",
              "      <td>C-3770</td>\n",
              "      <td>Rosetta Verne</td>\n",
              "      <td>F</td>\n",
              "      <td>0</td>\n",
              "      <td>65</td>\n",
              "      <td>988.19</td>\n",
              "      <td>0</td>\n",
              "      <td>High</td>\n",
              "      <td>0</td>\n",
              "      <td>Pensioner</td>\n",
              "      <td>NaN</td>\n",
              "      <td>1</td>\n",
              "      <td>Semi-Urban</td>\n",
              "      <td>45593.04</td>\n",
              "      <td>171.95</td>\n",
              "      <td>0</td>\n",
              "      <td>N</td>\n",
              "      <td>Y</td>\n",
              "      <td>1.0</td>\n",
              "      <td>0</td>\n",
              "      <td>833.15</td>\n",
              "      <td>0</td>\n",
              "      <td>0</td>\n",
              "      <td>Unpossessed</td>\n",
              "      <td>0</td>\n",
              "      <td>546</td>\n",
              "      <td>988.19</td>\n",
              "      <td>0</td>\n",
              "      <td>2</td>\n",
              "      <td>Urban</td>\n",
              "      <td>0</td>\n",
              "      <td>0</td>\n",
              "      <td>72440.6</td>\n",
              "      <td>36474.43</td>\n",
              "    </tr>\n",
              "  </tbody>\n",
              "</table>\n",
              "</div>"
            ],
            "text/plain": [
              "  Customer ID               Name  ... Property Price  Loan Sanction Amount (USD)\n",
              "0     C-36995   Frederica Shealy  ...         119933                    54607.18\n",
              "1     C-33999  America Calderone  ...          54791                    37469.98\n",
              "2      C-3770      Rosetta Verne  ...        72440.6                    36474.43\n",
              "\n",
              "[3 rows x 34 columns]"
            ]
          },
          "metadata": {
            "tags": []
          },
          "execution_count": 147
        }
      ]
    },
    {
      "cell_type": "markdown",
      "metadata": {
        "id": "VVybCunS6Q7Z"
      },
      "source": [
        "### Let's check how many levels under each categorical column"
      ]
    },
    {
      "cell_type": "code",
      "metadata": {
        "colab": {
          "base_uri": "https://localhost:8080/"
        },
        "id": "JUlUa9CgH9vL",
        "outputId": "8c93d977-d231-4e43-a3ff-9416548dd5c9"
      },
      "source": [
        "for i in new_train.iloc[:,np.r_[2,5,7,9,10,12,16,17,18,22,23,28,29,31]].columns:\n",
        "  print(new_train[i].value_counts())\n"
      ],
      "execution_count": 17,
      "outputs": [
        {
          "output_type": "stream",
          "text": [
            "M    14890\n",
            "F    14718\n",
            "Name: Gender, dtype: int64\n",
            "1608.43    4\n",
            "2415.70    4\n",
            "1617.97    3\n",
            "1868.78    3\n",
            "1992.30    3\n",
            "          ..\n",
            "1545.90    1\n",
            "1440.24    1\n",
            "2131.37    1\n",
            "1409.10    1\n",
            "1216.00    1\n",
            "Name: Income (USD), Length: 24187, dtype: int64\n",
            "Low     25458\n",
            "High     2544\n",
            "Name: Income Stability, dtype: int64\n",
            "Working                 16739\n",
            "Commercial associate     7863\n",
            "Pensioner                2718\n",
            "State servant            2334\n",
            "Businessman                 2\n",
            "Unemployed                  2\n",
            "Maternity leave             1\n",
            "Student                     1\n",
            "Name: Profession, dtype: int64\n",
            "Laborers                 5516\n",
            "Sales staff              3698\n",
            "Core staff               3189\n",
            "Managers                 2464\n",
            "Drivers                  1588\n",
            "Accountants              1363\n",
            "High skill tech staff    1297\n",
            "Medicine staff            854\n",
            "Security staff            574\n",
            "Cooking staff             561\n",
            "Cleaning staff            338\n",
            "Private service staff     337\n",
            "Secretaries               158\n",
            "Low-skill Laborers        154\n",
            "Waiters/barmen staff      148\n",
            "Realty agents              85\n",
            "IT staff                   77\n",
            "HR staff                   71\n",
            "Name: Type of Employment, dtype: int64\n",
            "Semi-Urban    21317\n",
            "Rural          5280\n",
            "Urban          3063\n",
            "Name: Location, dtype: int64\n",
            "N    18984\n",
            "Y    10676\n",
            "Name: Expense Type 1, dtype: int64\n",
            "Y    19949\n",
            "N     9711\n",
            "Name: Expense Type 2, dtype: int64\n",
            "2.0     12963\n",
            "3.0      5653\n",
            "1.0      5488\n",
            "4.0      2680\n",
            "5.0       370\n",
            "6.0        50\n",
            "7.0         7\n",
            "10.0        1\n",
            "14.0        1\n",
            "8.0         1\n",
            "Name: Dependents, dtype: int64\n",
            "0    23904\n",
            "1     5756\n",
            "Name: No. of Defaults, dtype: int64\n",
            "Active         9668\n",
            "Inactive       9360\n",
            "Unpossessed    9086\n",
            "Name: Has Active Credit Card, dtype: int64\n",
            "1    7777\n",
            "2    7560\n",
            "3    7225\n",
            "4    7098\n",
            "Name: Property Type, dtype: int64\n",
            "Semi-Urban    10255\n",
            "Rural          9929\n",
            "Urban          9129\n",
            "Name: Property Location, dtype: int64\n",
            " 1      25202\n",
            " 0       4293\n",
            "-999      165\n",
            "Name: Co-Applicant, dtype: int64\n"
          ],
          "name": "stdout"
        }
      ]
    },
    {
      "cell_type": "markdown",
      "metadata": {
        "id": "Jb8wta6S6k8t"
      },
      "source": [
        "#### The above summary shows that property location column has unknown negative value. So change the negative value to null"
      ]
    },
    {
      "cell_type": "code",
      "metadata": {
        "id": "LESe78v_69_Z"
      },
      "source": [
        "new_train['Co-Applicant'].replace({-999:np.nan},inplace=True)"
      ],
      "execution_count": 148,
      "outputs": []
    },
    {
      "cell_type": "markdown",
      "metadata": {
        "id": "FgjFmhRxT7zm"
      },
      "source": [
        "#### Now co_applicant column has some missinng values.Let's create a missing value indicator column for co-applicant"
      ]
    },
    {
      "cell_type": "code",
      "metadata": {
        "id": "T35N2j90C_GU"
      },
      "source": [
        "new_train['Co-Applicant_Indicator']=new_train['Co-Applicant'].isnull().astype('int')"
      ],
      "execution_count": 149,
      "outputs": []
    },
    {
      "cell_type": "code",
      "metadata": {
        "colab": {
          "base_uri": "https://localhost:8080/"
        },
        "id": "tP25HSRMDwA7",
        "outputId": "62e8a25f-7e1e-434a-a876-486571aedc97"
      },
      "source": [
        "new_train['Co-Applicant_Indicator'].value_counts()"
      ],
      "execution_count": 92,
      "outputs": [
        {
          "output_type": "execute_result",
          "data": {
            "text/plain": [
              "0    29495\n",
              "1      165\n",
              "Name: Co-Applicant_Indicator, dtype: int64"
            ]
          },
          "metadata": {
            "tags": []
          },
          "execution_count": 92
        }
      ]
    },
    {
      "cell_type": "markdown",
      "metadata": {
        "id": "mHARfYtvUSUo"
      },
      "source": [
        "### Let's see numerical column number summary"
      ]
    },
    {
      "cell_type": "code",
      "metadata": {
        "colab": {
          "base_uri": "https://localhost:8080/"
        },
        "id": "X0xq73pS_qrR",
        "outputId": "2398941f-83f2-4c4f-86ce-3d864af754ea"
      },
      "source": [
        "for i in new_train.iloc[:,np.r_[4,5,13,14,18,20,26,31,32]].columns:\n",
        "  print(new_train[i].describe())"
      ],
      "execution_count": 21,
      "outputs": [
        {
          "output_type": "stream",
          "text": [
            "count    29660.000000\n",
            "mean        40.099225\n",
            "std         16.050024\n",
            "min         18.000000\n",
            "25%         25.000000\n",
            "50%         40.000000\n",
            "75%         55.000000\n",
            "max         65.000000\n",
            "Name: Age, dtype: float64\n",
            "count    2.516700e+04\n",
            "mean     2.630991e+03\n",
            "std      1.131902e+04\n",
            "min      3.777000e+02\n",
            "25%      1.650250e+03\n",
            "50%      2.223300e+03\n",
            "75%      3.090330e+03\n",
            "max      1.777460e+06\n",
            "Name: Income (USD), dtype: float64\n",
            "count     29660.000000\n",
            "mean      88792.057274\n",
            "std       59480.995253\n",
            "min        6048.240000\n",
            "25%       41200.112500\n",
            "50%       75114.085000\n",
            "75%      119890.857500\n",
            "max      621497.820000\n",
            "Name: Loan Amount Request (USD), dtype: float64\n",
            "count    29493.000000\n",
            "mean       400.893752\n",
            "std        242.265401\n",
            "min       -999.000000\n",
            "25%        247.780000\n",
            "50%        375.090000\n",
            "75%        521.050000\n",
            "max       3840.880000\n",
            "Name: Current Loan Expenses (USD), dtype: float64\n",
            "count    27214.000000\n",
            "mean         2.253399\n",
            "std          0.951987\n",
            "min          1.000000\n",
            "25%          2.000000\n",
            "50%          2.000000\n",
            "75%          3.000000\n",
            "max         14.000000\n",
            "Name: Dependents, dtype: float64\n",
            "count    27990.000000\n",
            "mean       739.853475\n",
            "std         72.152128\n",
            "min        580.000000\n",
            "25%        681.732500\n",
            "50%        739.815000\n",
            "75%        799.040000\n",
            "max        896.260000\n",
            "Name: Credit Score, dtype: float64\n",
            "count    2.490000e+04\n",
            "mean     2.631317e+03\n",
            "std      1.137831e+04\n",
            "min      3.777000e+02\n",
            "25%      1.649810e+03\n",
            "50%      2.223965e+03\n",
            "75%      3.090833e+03\n",
            "max      1.777460e+06\n",
            "Name: Property Age, dtype: float64\n",
            "count    29495.000000\n",
            "mean         0.854450\n",
            "std          0.352661\n",
            "min          0.000000\n",
            "25%          1.000000\n",
            "50%          1.000000\n",
            "75%          1.000000\n",
            "max          1.000000\n",
            "Name: Co-Applicant, dtype: float64\n",
            "count     29660.0\n",
            "unique    29303.0\n",
            "top        -999.0\n",
            "freq        341.0\n",
            "Name: Property Price, dtype: float64\n"
          ],
          "name": "stdout"
        }
      ]
    },
    {
      "cell_type": "markdown",
      "metadata": {
        "id": "Bg-vnKOgUZe2"
      },
      "source": [
        "#### The above column-wise numerical summary shows that there is the same type of negative value are in some rows. SO let's change this as a null value."
      ]
    },
    {
      "cell_type": "code",
      "metadata": {
        "id": "JpAJjaRjD6yX"
      },
      "source": [
        "new_train['Current Loan Expenses (USD)'].replace({-999:np.nan},inplace=True)"
      ],
      "execution_count": 150,
      "outputs": []
    },
    {
      "cell_type": "markdown",
      "metadata": {
        "id": "Z_9moPqCVgkP"
      },
      "source": [
        "#### Now current loan expenses column has some missing values so let's create a missing value indicator for the loan expenses column"
      ]
    },
    {
      "cell_type": "code",
      "metadata": {
        "id": "quf2sWckEaFm"
      },
      "source": [
        "new_train['Current Loan Expenses (USD)_indicator']=new_train['Current Loan Expenses (USD)'].isnull().astype('int')"
      ],
      "execution_count": 151,
      "outputs": []
    },
    {
      "cell_type": "markdown",
      "metadata": {
        "id": "w6Jkr0KNV3xG"
      },
      "source": [
        "#### Property price column has the same type of negative value are in some rows. SO let's change this as a null value."
      ]
    },
    {
      "cell_type": "code",
      "metadata": {
        "id": "g3viuv3HE7r3"
      },
      "source": [
        "new_train['Property Price'].replace({-999:np.nan},inplace=True)"
      ],
      "execution_count": 152,
      "outputs": []
    },
    {
      "cell_type": "markdown",
      "metadata": {
        "id": "5d6QQ4eVWIXW"
      },
      "source": [
        "#### Now property price column has some missing values so let's create a missing value indicator for the property price"
      ]
    },
    {
      "cell_type": "code",
      "metadata": {
        "id": "6kQhSWYiFnW8"
      },
      "source": [
        "new_train['Property Price_indicator']=new_train['Property Price'].isnull().astype('int')"
      ],
      "execution_count": 153,
      "outputs": []
    },
    {
      "cell_type": "markdown",
      "metadata": {
        "id": "V6_QxsIkWXOF"
      },
      "source": [
        "#### Re-arrange the newly created columns"
      ]
    },
    {
      "cell_type": "code",
      "metadata": {
        "id": "UO758pIlEqmY"
      },
      "source": [
        "new_train=new_train.iloc[:,np.r_[0:32,34,32,35,33]]"
      ],
      "execution_count": 154,
      "outputs": []
    },
    {
      "cell_type": "code",
      "metadata": {
        "colab": {
          "base_uri": "https://localhost:8080/",
          "height": 213
        },
        "id": "ycxV9wdMOCw-",
        "outputId": "e007781d-0c2f-4589-fa59-8f6d8552b5cc"
      },
      "source": [
        "new_train.head(2)"
      ],
      "execution_count": null,
      "outputs": [
        {
          "output_type": "execute_result",
          "data": {
            "text/html": [
              "<div>\n",
              "<style scoped>\n",
              "    .dataframe tbody tr th:only-of-type {\n",
              "        vertical-align: middle;\n",
              "    }\n",
              "\n",
              "    .dataframe tbody tr th {\n",
              "        vertical-align: top;\n",
              "    }\n",
              "\n",
              "    .dataframe thead th {\n",
              "        text-align: right;\n",
              "    }\n",
              "</style>\n",
              "<table border=\"1\" class=\"dataframe\">\n",
              "  <thead>\n",
              "    <tr style=\"text-align: right;\">\n",
              "      <th></th>\n",
              "      <th>Customer ID</th>\n",
              "      <th>Name</th>\n",
              "      <th>Gender</th>\n",
              "      <th>Gender_indicator</th>\n",
              "      <th>Age</th>\n",
              "      <th>Income (USD)</th>\n",
              "      <th>Income (USD)_indicator</th>\n",
              "      <th>Income Stability</th>\n",
              "      <th>Income Stability_indicator</th>\n",
              "      <th>Profession</th>\n",
              "      <th>Type of Employment</th>\n",
              "      <th>Type of Employment_indicator</th>\n",
              "      <th>Location</th>\n",
              "      <th>Loan Amount Request (USD)</th>\n",
              "      <th>Current Loan Expenses (USD)</th>\n",
              "      <th>Current Loan Expenses (USD)_indicator</th>\n",
              "      <th>Expense Type 1</th>\n",
              "      <th>Expense Type 2</th>\n",
              "      <th>Dependents</th>\n",
              "      <th>Dependents_indicator</th>\n",
              "      <th>Credit Score</th>\n",
              "      <th>Credit Score_indicator</th>\n",
              "      <th>No. of Defaults</th>\n",
              "      <th>Has Active Credit Card</th>\n",
              "      <th>Has Active Credit Card_indicator</th>\n",
              "      <th>Property ID</th>\n",
              "      <th>Property Age</th>\n",
              "      <th>Property Age_indicator</th>\n",
              "      <th>Property Type</th>\n",
              "      <th>Property Location</th>\n",
              "      <th>Property Location_indicator</th>\n",
              "      <th>Co-Applicant</th>\n",
              "      <th>Co-Applicant_Indicator</th>\n",
              "      <th>Property Price</th>\n",
              "      <th>Property Price_indicator</th>\n",
              "      <th>Loan Sanction Amount (USD)</th>\n",
              "    </tr>\n",
              "  </thead>\n",
              "  <tbody>\n",
              "    <tr>\n",
              "      <th>0</th>\n",
              "      <td>C-36995</td>\n",
              "      <td>Frederica Shealy</td>\n",
              "      <td>F</td>\n",
              "      <td>0</td>\n",
              "      <td>56</td>\n",
              "      <td>1933.05</td>\n",
              "      <td>0</td>\n",
              "      <td>Low</td>\n",
              "      <td>0</td>\n",
              "      <td>Working</td>\n",
              "      <td>Sales staff</td>\n",
              "      <td>0</td>\n",
              "      <td>Semi-Urban</td>\n",
              "      <td>72809.58</td>\n",
              "      <td>241.08</td>\n",
              "      <td>0</td>\n",
              "      <td>N</td>\n",
              "      <td>N</td>\n",
              "      <td>3.0</td>\n",
              "      <td>0</td>\n",
              "      <td>809.44</td>\n",
              "      <td>0</td>\n",
              "      <td>0</td>\n",
              "      <td>NaN</td>\n",
              "      <td>1</td>\n",
              "      <td>746</td>\n",
              "      <td>1933.05</td>\n",
              "      <td>0</td>\n",
              "      <td>4</td>\n",
              "      <td>Rural</td>\n",
              "      <td>0</td>\n",
              "      <td>1.0</td>\n",
              "      <td>0</td>\n",
              "      <td>119933.46</td>\n",
              "      <td>0</td>\n",
              "      <td>54607.18</td>\n",
              "    </tr>\n",
              "    <tr>\n",
              "      <th>1</th>\n",
              "      <td>C-33999</td>\n",
              "      <td>America Calderone</td>\n",
              "      <td>M</td>\n",
              "      <td>0</td>\n",
              "      <td>32</td>\n",
              "      <td>4952.91</td>\n",
              "      <td>0</td>\n",
              "      <td>Low</td>\n",
              "      <td>0</td>\n",
              "      <td>Working</td>\n",
              "      <td>NaN</td>\n",
              "      <td>1</td>\n",
              "      <td>Semi-Urban</td>\n",
              "      <td>46837.47</td>\n",
              "      <td>495.81</td>\n",
              "      <td>0</td>\n",
              "      <td>N</td>\n",
              "      <td>Y</td>\n",
              "      <td>1.0</td>\n",
              "      <td>0</td>\n",
              "      <td>780.40</td>\n",
              "      <td>0</td>\n",
              "      <td>0</td>\n",
              "      <td>Unpossessed</td>\n",
              "      <td>0</td>\n",
              "      <td>608</td>\n",
              "      <td>4952.91</td>\n",
              "      <td>0</td>\n",
              "      <td>2</td>\n",
              "      <td>Rural</td>\n",
              "      <td>0</td>\n",
              "      <td>1.0</td>\n",
              "      <td>0</td>\n",
              "      <td>54791.00</td>\n",
              "      <td>0</td>\n",
              "      <td>37469.98</td>\n",
              "    </tr>\n",
              "  </tbody>\n",
              "</table>\n",
              "</div>"
            ],
            "text/plain": [
              "  Customer ID  ... Loan Sanction Amount (USD)\n",
              "0     C-36995  ...                   54607.18\n",
              "1     C-33999  ...                   37469.98\n",
              "\n",
              "[2 rows x 36 columns]"
            ]
          },
          "metadata": {
            "tags": []
          },
          "execution_count": 27
        }
      ]
    },
    {
      "cell_type": "markdown",
      "metadata": {
        "id": "Jbtx9JdHWfmn"
      },
      "source": [
        "### Let's impute the missing values by using the sklearn's simpleimputer function.\n",
        "\n",
        "### Numerical missing values are replaced by the mean\n",
        "### Categorical missing values are replaced by mode"
      ]
    },
    {
      "cell_type": "code",
      "metadata": {
        "id": "OU3vPwrPPr0v"
      },
      "source": [
        "imputer = SimpleImputer(strategy='most_frequent')\n",
        "imputer2 = SimpleImputer(strategy='mean')"
      ],
      "execution_count": 155,
      "outputs": []
    },
    {
      "cell_type": "markdown",
      "metadata": {
        "id": "GUh4bLyEXk-d"
      },
      "source": [
        "### Select the categorical column"
      ]
    },
    {
      "cell_type": "code",
      "metadata": {
        "id": "g4YqiOfTQ491"
      },
      "source": [
        "cat_col_imp=['Gender','Income Stability','Type of Employment','Dependents','Has Active Credit Card','Property Location','Co-Applicant']"
      ],
      "execution_count": 156,
      "outputs": []
    },
    {
      "cell_type": "markdown",
      "metadata": {
        "id": "-UlT4-uhXrCQ"
      },
      "source": [
        "### Impute the missing categorical values."
      ]
    },
    {
      "cell_type": "code",
      "metadata": {
        "id": "jmw6hb2FRaUY"
      },
      "source": [
        "for i in cat_col_imp:\n",
        "  new_train[i]=imputer.fit_transform(new_train[[i]])"
      ],
      "execution_count": 157,
      "outputs": []
    },
    {
      "cell_type": "markdown",
      "metadata": {
        "id": "-IGqYQbaX2jf"
      },
      "source": [
        "### Select the numerical column"
      ]
    },
    {
      "cell_type": "code",
      "metadata": {
        "id": "lT7dNosRVzCv"
      },
      "source": [
        "num_col_imp=['Income (USD)','Current Loan Expenses (USD)','Credit Score','Property Age','Property Price']"
      ],
      "execution_count": 158,
      "outputs": []
    },
    {
      "cell_type": "markdown",
      "metadata": {
        "id": "qa4xQkYhX60s"
      },
      "source": [
        "### Impute the missing numerical values."
      ]
    },
    {
      "cell_type": "code",
      "metadata": {
        "id": "vslj9tIoWMNH"
      },
      "source": [
        "for i in num_col_imp:\n",
        "  new_train[i]=imputer2.fit_transform(new_train[[i]])"
      ],
      "execution_count": 159,
      "outputs": []
    },
    {
      "cell_type": "markdown",
      "metadata": {
        "id": "VgSmzVI-YI3f"
      },
      "source": [
        "### Create a new column total applicants by adding co-applicant column values with 1."
      ]
    },
    {
      "cell_type": "code",
      "metadata": {
        "id": "DyCPBYwkKJWn"
      },
      "source": [
        "new_train['total_applicant']=new_train['Co-Applicant']+1"
      ],
      "execution_count": 160,
      "outputs": []
    },
    {
      "cell_type": "markdown",
      "metadata": {
        "id": "WlkSZzTkYaSU"
      },
      "source": [
        "### Let's encode the two level categorical columns by using label encoder."
      ]
    },
    {
      "cell_type": "code",
      "metadata": {
        "id": "fWsyyr5gYLBA"
      },
      "source": [
        "lbl_encode=LabelBinarizer()"
      ],
      "execution_count": 161,
      "outputs": []
    },
    {
      "cell_type": "code",
      "metadata": {
        "id": "zJb0UYBFYxMp"
      },
      "source": [
        "lbl_enc_col=['Gender','Income Stability','Expense Type 1','Expense Type 2']\n",
        "for i in lbl_enc_col:\n",
        "  new_train[i]=lbl_encode.fit_transform(new_train[i])"
      ],
      "execution_count": 162,
      "outputs": []
    },
    {
      "cell_type": "markdown",
      "metadata": {
        "id": "_73VZSsIZGaf"
      },
      "source": [
        "### Let's encode the remaining category columns by using ordinal encoder."
      ]
    },
    {
      "cell_type": "code",
      "metadata": {
        "id": "cJhvz7FAY_8W"
      },
      "source": [
        "ord_encode=OrdinalEncoder()"
      ],
      "execution_count": 163,
      "outputs": []
    },
    {
      "cell_type": "code",
      "metadata": {
        "id": "q6dc9z0lZpoV"
      },
      "source": [
        "ord_enc_col=['Location','Profession','Type of Employment','Dependents','Has Active Credit Card','Property Location']\n",
        "for i in ord_enc_col:\n",
        "  new_train[i]=ord_encode.fit_transform(new_train[[i]])"
      ],
      "execution_count": 164,
      "outputs": []
    },
    {
      "cell_type": "code",
      "metadata": {
        "id": "c3wR-D9GaXC-"
      },
      "source": [
        "final_train=new_train[new_train['Loan Sanction Amount (USD)']>0]"
      ],
      "execution_count": 165,
      "outputs": []
    },
    {
      "cell_type": "markdown",
      "metadata": {
        "id": "ZWMrBMQul6op"
      },
      "source": [
        "### Apply the missing value imputation and feature engineering steps to test dataset."
      ]
    },
    {
      "cell_type": "code",
      "metadata": {
        "id": "0lidTxO0fdar"
      },
      "source": [
        "#missing value columns\n",
        "missing_val_cols1=list(test.columns[test.isnull().any()])\n",
        "\n",
        "#missing value indicator column\n",
        "indicator_col1=test[missing_val_cols1].isnull().astype(int).add_suffix('_indicator')\n",
        "\n",
        "#concatenate indicator column to test dataset\n",
        "new_test=pd.concat([test,indicator_col1],axis=1)\n",
        "\n",
        "#re-arrange column\n",
        "new_test=new_test.iloc[:,np.r_[0:3,24,3,4,25,5,26,6,7,27,8,9,10,28,11,12,13,29,14,30,15,16,31,17,18,32,19,20,33,21,22]]\n",
        "\n",
        "#replace \"?\" as null value\n",
        "new_test['Co-Applicant'].replace({'?':np.nan},inplace=True)\n",
        "\n",
        "#create missing value indicator column for co-applicant column\n",
        "new_test['Co-Applicant_Indicator']=new_test['Co-Applicant'].isnull().astype('int')\n",
        "\n",
        "#convert co-applicant column data type to int\n",
        "new_test['Co-Applicant']=new_test['Co-Applicant'].astype('float',errors='ignore')\n",
        "\n",
        "#replace \"?\" as null value\n",
        "new_test['Property Price'].replace({'?':np.nan},inplace=True)\n",
        "\n",
        "#create missing value indicator column for property price column\n",
        "new_test['Property Price_indicator']=new_test['Property Price'].isnull().astype('int')\n",
        "\n",
        "#re-arrange column\n",
        "new_test=new_test.iloc[:,np.r_[0:32,33,32,34]]\n"
      ],
      "execution_count": 182,
      "outputs": []
    },
    {
      "cell_type": "code",
      "metadata": {
        "id": "ZMDR4FTiqKIy"
      },
      "source": [
        "#category column missing values imputation\n",
        "for i in cat_col_imp:\n",
        "  new_test[i]=imputer.fit_transform(new_test[[i]])\n",
        "\n",
        "#numerical column missing values imputation\n",
        "for i in num_col_imp:\n",
        "  new_test[i]=imputer2.fit_transform(new_test[[i]])"
      ],
      "execution_count": 184,
      "outputs": []
    },
    {
      "cell_type": "code",
      "metadata": {
        "id": "WJfOnUARp9iy"
      },
      "source": [
        "#create total applicant column\n",
        "new_test['total_applicant']=new_test['Co-Applicant']+1\n",
        "\n",
        "\n",
        "#encode two-level category columns\n",
        "for i in lbl_enc_col:\n",
        "  new_test[i]=lbl_encode.fit_transform(new_test[i])\n",
        "\n",
        "#encode remaining category column\n",
        "for i in ord_enc_col:\n",
        "  new_test[i]=ord_encode.fit_transform(new_test[[i]])\n"
      ],
      "execution_count": 185,
      "outputs": []
    },
    {
      "cell_type": "markdown",
      "metadata": {
        "id": "v6nZ3gCLumiO"
      },
      "source": [
        "### Create Independent Features and target feature"
      ]
    },
    {
      "cell_type": "code",
      "metadata": {
        "id": "qFRNkgbfKW0q"
      },
      "source": [
        "X=final_train.drop(columns=['Loan Sanction Amount (USD)','Customer ID','Name','Property ID'])\n",
        "y=final_train['Loan Sanction Amount (USD)']"
      ],
      "execution_count": 186,
      "outputs": []
    },
    {
      "cell_type": "markdown",
      "metadata": {
        "id": "oQpLG_7Cuu1h"
      },
      "source": [
        "### Create a XGBRegressor Model"
      ]
    },
    {
      "cell_type": "code",
      "metadata": {
        "id": "R261Se7eASo6"
      },
      "source": [
        "xgreg=xgb.XGBRegressor(random_state=5)"
      ],
      "execution_count": 52,
      "outputs": []
    },
    {
      "cell_type": "markdown",
      "metadata": {
        "id": "Q6V7TZM-u1tv"
      },
      "source": [
        "### Set values for hyperparameters "
      ]
    },
    {
      "cell_type": "code",
      "metadata": {
        "id": "f-9KRGrqPD8p"
      },
      "source": [
        "params={'xgreg__learning_rate':np.linspace(0.001,1.0,num=5,dtype='float'),\n",
        "        'xgreg__max_depth':np.linspace(2,12,num=7,dtype='int')}"
      ],
      "execution_count": 53,
      "outputs": []
    },
    {
      "cell_type": "markdown",
      "metadata": {
        "id": "fyyw4SeYvF8S"
      },
      "source": [
        "### Split the train data into 12 parts by using shufflesplit"
      ]
    },
    {
      "cell_type": "code",
      "metadata": {
        "id": "AG1bUE7dPuyg"
      },
      "source": [
        "cv_split=ShuffleSplit(n_splits=12,test_size=0.2,random_state=5)"
      ],
      "execution_count": 55,
      "outputs": []
    },
    {
      "cell_type": "markdown",
      "metadata": {
        "id": "aXPVC4uwvPU0"
      },
      "source": [
        "### Create a Gridsearchcv"
      ]
    },
    {
      "cell_type": "code",
      "metadata": {
        "id": "kgPat7IDO9C_"
      },
      "source": [
        "grid=GridSearchCV(xgreg,param_grid=params,scoring='r2',cv=cv_split,verbose=100,return_train_score=True)"
      ],
      "execution_count": 111,
      "outputs": []
    },
    {
      "cell_type": "markdown",
      "metadata": {
        "id": "SBBENNRmvZJf"
      },
      "source": [
        "### Fit the model"
      ]
    },
    {
      "cell_type": "code",
      "metadata": {
        "id": "nTNaKVpiQB67",
        "colab": {
          "base_uri": "https://localhost:8080/"
        },
        "outputId": "e7ca6f45-2b7e-45d8-f1da-9be31374b3b1"
      },
      "source": [
        "grid.fit(X,y)"
      ],
      "execution_count": 112,
      "outputs": [
        {
          "output_type": "stream",
          "text": [
            "Fitting 12 folds for each of 35 candidates, totalling 420 fits\n",
            "[Parallel(n_jobs=1)]: Using backend SequentialBackend with 1 concurrent workers.\n",
            "[CV] xgreg__learning_rate=0.001, xgreg__max_depth=2 ..................\n",
            "[06:58:49] WARNING: /workspace/src/objective/regression_obj.cu:152: reg:linear is now deprecated in favor of reg:squarederror.\n",
            "[CV]  xgreg__learning_rate=0.001, xgreg__max_depth=2, score=(train=0.991, test=0.990), total=   2.0s\n",
            "[Parallel(n_jobs=1)]: Done   1 out of   1 | elapsed:    2.1s remaining:    0.0s\n",
            "[CV] xgreg__learning_rate=0.001, xgreg__max_depth=2 ..................\n",
            "[06:58:52] WARNING: /workspace/src/objective/regression_obj.cu:152: reg:linear is now deprecated in favor of reg:squarederror.\n",
            "[CV]  xgreg__learning_rate=0.001, xgreg__max_depth=2, score=(train=0.991, test=0.990), total=   2.0s\n",
            "[Parallel(n_jobs=1)]: Done   2 out of   2 | elapsed:    4.2s remaining:    0.0s\n",
            "[CV] xgreg__learning_rate=0.001, xgreg__max_depth=2 ..................\n",
            "[06:58:54] WARNING: /workspace/src/objective/regression_obj.cu:152: reg:linear is now deprecated in favor of reg:squarederror.\n",
            "[CV]  xgreg__learning_rate=0.001, xgreg__max_depth=2, score=(train=0.991, test=0.989), total=   2.0s\n",
            "[Parallel(n_jobs=1)]: Done   3 out of   3 | elapsed:    6.2s remaining:    0.0s\n",
            "[CV] xgreg__learning_rate=0.001, xgreg__max_depth=2 ..................\n",
            "[06:58:56] WARNING: /workspace/src/objective/regression_obj.cu:152: reg:linear is now deprecated in favor of reg:squarederror.\n",
            "[CV]  xgreg__learning_rate=0.001, xgreg__max_depth=2, score=(train=0.991, test=0.987), total=   2.0s\n",
            "[Parallel(n_jobs=1)]: Done   4 out of   4 | elapsed:    8.2s remaining:    0.0s\n",
            "[CV] xgreg__learning_rate=0.001, xgreg__max_depth=2 ..................\n",
            "[06:58:58] WARNING: /workspace/src/objective/regression_obj.cu:152: reg:linear is now deprecated in favor of reg:squarederror.\n",
            "[CV]  xgreg__learning_rate=0.001, xgreg__max_depth=2, score=(train=0.991, test=0.990), total=   2.0s\n",
            "[Parallel(n_jobs=1)]: Done   5 out of   5 | elapsed:   10.3s remaining:    0.0s\n",
            "[CV] xgreg__learning_rate=0.001, xgreg__max_depth=2 ..................\n",
            "[06:59:00] WARNING: /workspace/src/objective/regression_obj.cu:152: reg:linear is now deprecated in favor of reg:squarederror.\n",
            "[CV]  xgreg__learning_rate=0.001, xgreg__max_depth=2, score=(train=0.991, test=0.987), total=   2.0s\n",
            "[Parallel(n_jobs=1)]: Done   6 out of   6 | elapsed:   12.4s remaining:    0.0s\n",
            "[CV] xgreg__learning_rate=0.001, xgreg__max_depth=2 ..................\n",
            "[06:59:02] WARNING: /workspace/src/objective/regression_obj.cu:152: reg:linear is now deprecated in favor of reg:squarederror.\n",
            "[CV]  xgreg__learning_rate=0.001, xgreg__max_depth=2, score=(train=0.991, test=0.990), total=   2.0s\n",
            "[Parallel(n_jobs=1)]: Done   7 out of   7 | elapsed:   14.4s remaining:    0.0s\n",
            "[CV] xgreg__learning_rate=0.001, xgreg__max_depth=2 ..................\n",
            "[06:59:04] WARNING: /workspace/src/objective/regression_obj.cu:152: reg:linear is now deprecated in favor of reg:squarederror.\n",
            "[CV]  xgreg__learning_rate=0.001, xgreg__max_depth=2, score=(train=0.991, test=0.990), total=   2.0s\n",
            "[Parallel(n_jobs=1)]: Done   8 out of   8 | elapsed:   16.5s remaining:    0.0s\n",
            "[CV] xgreg__learning_rate=0.001, xgreg__max_depth=2 ..................\n",
            "[06:59:06] WARNING: /workspace/src/objective/regression_obj.cu:152: reg:linear is now deprecated in favor of reg:squarederror.\n",
            "[CV]  xgreg__learning_rate=0.001, xgreg__max_depth=2, score=(train=0.991, test=0.988), total=   2.0s\n",
            "[Parallel(n_jobs=1)]: Done   9 out of   9 | elapsed:   18.5s remaining:    0.0s\n",
            "[CV] xgreg__learning_rate=0.001, xgreg__max_depth=2 ..................\n",
            "[06:59:08] WARNING: /workspace/src/objective/regression_obj.cu:152: reg:linear is now deprecated in favor of reg:squarederror.\n",
            "[CV]  xgreg__learning_rate=0.001, xgreg__max_depth=2, score=(train=0.991, test=0.990), total=   2.0s\n",
            "[Parallel(n_jobs=1)]: Done  10 out of  10 | elapsed:   20.6s remaining:    0.0s\n",
            "[CV] xgreg__learning_rate=0.001, xgreg__max_depth=2 ..................\n",
            "[06:59:10] WARNING: /workspace/src/objective/regression_obj.cu:152: reg:linear is now deprecated in favor of reg:squarederror.\n",
            "[CV]  xgreg__learning_rate=0.001, xgreg__max_depth=2, score=(train=0.991, test=0.989), total=   2.0s\n",
            "[Parallel(n_jobs=1)]: Done  11 out of  11 | elapsed:   22.6s remaining:    0.0s\n",
            "[CV] xgreg__learning_rate=0.001, xgreg__max_depth=2 ..................\n",
            "[06:59:12] WARNING: /workspace/src/objective/regression_obj.cu:152: reg:linear is now deprecated in favor of reg:squarederror.\n",
            "[CV]  xgreg__learning_rate=0.001, xgreg__max_depth=2, score=(train=0.991, test=0.990), total=   2.0s\n",
            "[Parallel(n_jobs=1)]: Done  12 out of  12 | elapsed:   24.7s remaining:    0.0s\n",
            "[CV] xgreg__learning_rate=0.001, xgreg__max_depth=3 ..................\n",
            "[06:59:14] WARNING: /workspace/src/objective/regression_obj.cu:152: reg:linear is now deprecated in favor of reg:squarederror.\n",
            "[CV]  xgreg__learning_rate=0.001, xgreg__max_depth=3, score=(train=0.991, test=0.990), total=   2.0s\n",
            "[Parallel(n_jobs=1)]: Done  13 out of  13 | elapsed:   26.7s remaining:    0.0s\n",
            "[CV] xgreg__learning_rate=0.001, xgreg__max_depth=3 ..................\n",
            "[06:59:16] WARNING: /workspace/src/objective/regression_obj.cu:152: reg:linear is now deprecated in favor of reg:squarederror.\n",
            "[CV]  xgreg__learning_rate=0.001, xgreg__max_depth=3, score=(train=0.991, test=0.990), total=   2.0s\n",
            "[Parallel(n_jobs=1)]: Done  14 out of  14 | elapsed:   28.8s remaining:    0.0s\n",
            "[CV] xgreg__learning_rate=0.001, xgreg__max_depth=3 ..................\n",
            "[06:59:18] WARNING: /workspace/src/objective/regression_obj.cu:152: reg:linear is now deprecated in favor of reg:squarederror.\n",
            "[CV]  xgreg__learning_rate=0.001, xgreg__max_depth=3, score=(train=0.991, test=0.989), total=   2.0s\n",
            "[Parallel(n_jobs=1)]: Done  15 out of  15 | elapsed:   30.9s remaining:    0.0s\n",
            "[CV] xgreg__learning_rate=0.001, xgreg__max_depth=3 ..................\n",
            "[06:59:20] WARNING: /workspace/src/objective/regression_obj.cu:152: reg:linear is now deprecated in favor of reg:squarederror.\n",
            "[CV]  xgreg__learning_rate=0.001, xgreg__max_depth=3, score=(train=0.991, test=0.987), total=   2.0s\n",
            "[Parallel(n_jobs=1)]: Done  16 out of  16 | elapsed:   32.9s remaining:    0.0s\n",
            "[CV] xgreg__learning_rate=0.001, xgreg__max_depth=3 ..................\n",
            "[06:59:22] WARNING: /workspace/src/objective/regression_obj.cu:152: reg:linear is now deprecated in favor of reg:squarederror.\n",
            "[CV]  xgreg__learning_rate=0.001, xgreg__max_depth=3, score=(train=0.991, test=0.990), total=   2.1s\n",
            "[Parallel(n_jobs=1)]: Done  17 out of  17 | elapsed:   35.0s remaining:    0.0s\n",
            "[CV] xgreg__learning_rate=0.001, xgreg__max_depth=3 ..................\n",
            "[06:59:25] WARNING: /workspace/src/objective/regression_obj.cu:152: reg:linear is now deprecated in favor of reg:squarederror.\n",
            "[CV]  xgreg__learning_rate=0.001, xgreg__max_depth=3, score=(train=0.991, test=0.987), total=   2.0s\n",
            "[Parallel(n_jobs=1)]: Done  18 out of  18 | elapsed:   37.1s remaining:    0.0s\n",
            "[CV] xgreg__learning_rate=0.001, xgreg__max_depth=3 ..................\n",
            "[06:59:27] WARNING: /workspace/src/objective/regression_obj.cu:152: reg:linear is now deprecated in favor of reg:squarederror.\n",
            "[CV]  xgreg__learning_rate=0.001, xgreg__max_depth=3, score=(train=0.991, test=0.990), total=   2.0s\n",
            "[Parallel(n_jobs=1)]: Done  19 out of  19 | elapsed:   39.1s remaining:    0.0s\n",
            "[CV] xgreg__learning_rate=0.001, xgreg__max_depth=3 ..................\n",
            "[06:59:29] WARNING: /workspace/src/objective/regression_obj.cu:152: reg:linear is now deprecated in favor of reg:squarederror.\n",
            "[CV]  xgreg__learning_rate=0.001, xgreg__max_depth=3, score=(train=0.991, test=0.990), total=   2.0s\n",
            "[Parallel(n_jobs=1)]: Done  20 out of  20 | elapsed:   41.2s remaining:    0.0s\n",
            "[CV] xgreg__learning_rate=0.001, xgreg__max_depth=3 ..................\n",
            "[06:59:31] WARNING: /workspace/src/objective/regression_obj.cu:152: reg:linear is now deprecated in favor of reg:squarederror.\n",
            "[CV]  xgreg__learning_rate=0.001, xgreg__max_depth=3, score=(train=0.991, test=0.988), total=   2.0s\n",
            "[Parallel(n_jobs=1)]: Done  21 out of  21 | elapsed:   43.2s remaining:    0.0s\n",
            "[CV] xgreg__learning_rate=0.001, xgreg__max_depth=3 ..................\n",
            "[06:59:33] WARNING: /workspace/src/objective/regression_obj.cu:152: reg:linear is now deprecated in favor of reg:squarederror.\n",
            "[CV]  xgreg__learning_rate=0.001, xgreg__max_depth=3, score=(train=0.991, test=0.990), total=   2.0s\n",
            "[Parallel(n_jobs=1)]: Done  22 out of  22 | elapsed:   45.3s remaining:    0.0s\n",
            "[CV] xgreg__learning_rate=0.001, xgreg__max_depth=3 ..................\n",
            "[06:59:35] WARNING: /workspace/src/objective/regression_obj.cu:152: reg:linear is now deprecated in favor of reg:squarederror.\n",
            "[CV]  xgreg__learning_rate=0.001, xgreg__max_depth=3, score=(train=0.991, test=0.989), total=   2.0s\n",
            "[Parallel(n_jobs=1)]: Done  23 out of  23 | elapsed:   47.4s remaining:    0.0s\n",
            "[CV] xgreg__learning_rate=0.001, xgreg__max_depth=3 ..................\n",
            "[06:59:37] WARNING: /workspace/src/objective/regression_obj.cu:152: reg:linear is now deprecated in favor of reg:squarederror.\n",
            "[CV]  xgreg__learning_rate=0.001, xgreg__max_depth=3, score=(train=0.991, test=0.990), total=   2.0s\n",
            "[Parallel(n_jobs=1)]: Done  24 out of  24 | elapsed:   49.5s remaining:    0.0s\n",
            "[CV] xgreg__learning_rate=0.001, xgreg__max_depth=5 ..................\n",
            "[06:59:39] WARNING: /workspace/src/objective/regression_obj.cu:152: reg:linear is now deprecated in favor of reg:squarederror.\n",
            "[CV]  xgreg__learning_rate=0.001, xgreg__max_depth=5, score=(train=0.991, test=0.990), total=   2.0s\n",
            "[Parallel(n_jobs=1)]: Done  25 out of  25 | elapsed:   51.5s remaining:    0.0s\n",
            "[CV] xgreg__learning_rate=0.001, xgreg__max_depth=5 ..................\n",
            "[06:59:41] WARNING: /workspace/src/objective/regression_obj.cu:152: reg:linear is now deprecated in favor of reg:squarederror.\n",
            "[CV]  xgreg__learning_rate=0.001, xgreg__max_depth=5, score=(train=0.991, test=0.990), total=   2.0s\n",
            "[Parallel(n_jobs=1)]: Done  26 out of  26 | elapsed:   53.6s remaining:    0.0s\n",
            "[CV] xgreg__learning_rate=0.001, xgreg__max_depth=5 ..................\n",
            "[06:59:43] WARNING: /workspace/src/objective/regression_obj.cu:152: reg:linear is now deprecated in favor of reg:squarederror.\n",
            "[CV]  xgreg__learning_rate=0.001, xgreg__max_depth=5, score=(train=0.991, test=0.989), total=   2.0s\n",
            "[Parallel(n_jobs=1)]: Done  27 out of  27 | elapsed:   55.6s remaining:    0.0s\n",
            "[CV] xgreg__learning_rate=0.001, xgreg__max_depth=5 ..................\n",
            "[06:59:45] WARNING: /workspace/src/objective/regression_obj.cu:152: reg:linear is now deprecated in favor of reg:squarederror.\n",
            "[CV]  xgreg__learning_rate=0.001, xgreg__max_depth=5, score=(train=0.991, test=0.987), total=   2.0s\n",
            "[Parallel(n_jobs=1)]: Done  28 out of  28 | elapsed:   57.6s remaining:    0.0s\n",
            "[CV] xgreg__learning_rate=0.001, xgreg__max_depth=5 ..................\n",
            "[06:59:47] WARNING: /workspace/src/objective/regression_obj.cu:152: reg:linear is now deprecated in favor of reg:squarederror.\n",
            "[CV]  xgreg__learning_rate=0.001, xgreg__max_depth=5, score=(train=0.991, test=0.990), total=   2.0s\n",
            "[Parallel(n_jobs=1)]: Done  29 out of  29 | elapsed:   59.7s remaining:    0.0s\n",
            "[CV] xgreg__learning_rate=0.001, xgreg__max_depth=5 ..................\n",
            "[06:59:49] WARNING: /workspace/src/objective/regression_obj.cu:152: reg:linear is now deprecated in favor of reg:squarederror.\n",
            "[CV]  xgreg__learning_rate=0.001, xgreg__max_depth=5, score=(train=0.991, test=0.987), total=   2.0s\n",
            "[Parallel(n_jobs=1)]: Done  30 out of  30 | elapsed:  1.0min remaining:    0.0s\n",
            "[CV] xgreg__learning_rate=0.001, xgreg__max_depth=5 ..................\n",
            "[06:59:51] WARNING: /workspace/src/objective/regression_obj.cu:152: reg:linear is now deprecated in favor of reg:squarederror.\n",
            "[CV]  xgreg__learning_rate=0.001, xgreg__max_depth=5, score=(train=0.991, test=0.990), total=   2.0s\n",
            "[Parallel(n_jobs=1)]: Done  31 out of  31 | elapsed:  1.1min remaining:    0.0s\n",
            "[CV] xgreg__learning_rate=0.001, xgreg__max_depth=5 ..................\n",
            "[06:59:53] WARNING: /workspace/src/objective/regression_obj.cu:152: reg:linear is now deprecated in favor of reg:squarederror.\n",
            "[CV]  xgreg__learning_rate=0.001, xgreg__max_depth=5, score=(train=0.991, test=0.990), total=   2.0s\n",
            "[Parallel(n_jobs=1)]: Done  32 out of  32 | elapsed:  1.1min remaining:    0.0s\n",
            "[CV] xgreg__learning_rate=0.001, xgreg__max_depth=5 ..................\n",
            "[06:59:55] WARNING: /workspace/src/objective/regression_obj.cu:152: reg:linear is now deprecated in favor of reg:squarederror.\n",
            "[CV]  xgreg__learning_rate=0.001, xgreg__max_depth=5, score=(train=0.991, test=0.988), total=   2.0s\n",
            "[Parallel(n_jobs=1)]: Done  33 out of  33 | elapsed:  1.1min remaining:    0.0s\n",
            "[CV] xgreg__learning_rate=0.001, xgreg__max_depth=5 ..................\n",
            "[06:59:57] WARNING: /workspace/src/objective/regression_obj.cu:152: reg:linear is now deprecated in favor of reg:squarederror.\n",
            "[CV]  xgreg__learning_rate=0.001, xgreg__max_depth=5, score=(train=0.991, test=0.990), total=   2.0s\n",
            "[Parallel(n_jobs=1)]: Done  34 out of  34 | elapsed:  1.2min remaining:    0.0s\n",
            "[CV] xgreg__learning_rate=0.001, xgreg__max_depth=5 ..................\n",
            "[06:59:59] WARNING: /workspace/src/objective/regression_obj.cu:152: reg:linear is now deprecated in favor of reg:squarederror.\n",
            "[CV]  xgreg__learning_rate=0.001, xgreg__max_depth=5, score=(train=0.991, test=0.989), total=   2.0s\n",
            "[Parallel(n_jobs=1)]: Done  35 out of  35 | elapsed:  1.2min remaining:    0.0s\n",
            "[CV] xgreg__learning_rate=0.001, xgreg__max_depth=5 ..................\n",
            "[07:00:02] WARNING: /workspace/src/objective/regression_obj.cu:152: reg:linear is now deprecated in favor of reg:squarederror.\n",
            "[CV]  xgreg__learning_rate=0.001, xgreg__max_depth=5, score=(train=0.991, test=0.990), total=   2.0s\n",
            "[Parallel(n_jobs=1)]: Done  36 out of  36 | elapsed:  1.2min remaining:    0.0s\n",
            "[CV] xgreg__learning_rate=0.001, xgreg__max_depth=7 ..................\n",
            "[07:00:04] WARNING: /workspace/src/objective/regression_obj.cu:152: reg:linear is now deprecated in favor of reg:squarederror.\n",
            "[CV]  xgreg__learning_rate=0.001, xgreg__max_depth=7, score=(train=0.991, test=0.990), total=   2.0s\n",
            "[Parallel(n_jobs=1)]: Done  37 out of  37 | elapsed:  1.3min remaining:    0.0s\n",
            "[CV] xgreg__learning_rate=0.001, xgreg__max_depth=7 ..................\n",
            "[07:00:06] WARNING: /workspace/src/objective/regression_obj.cu:152: reg:linear is now deprecated in favor of reg:squarederror.\n",
            "[CV]  xgreg__learning_rate=0.001, xgreg__max_depth=7, score=(train=0.991, test=0.990), total=   2.0s\n",
            "[Parallel(n_jobs=1)]: Done  38 out of  38 | elapsed:  1.3min remaining:    0.0s\n",
            "[CV] xgreg__learning_rate=0.001, xgreg__max_depth=7 ..................\n",
            "[07:00:08] WARNING: /workspace/src/objective/regression_obj.cu:152: reg:linear is now deprecated in favor of reg:squarederror.\n",
            "[CV]  xgreg__learning_rate=0.001, xgreg__max_depth=7, score=(train=0.991, test=0.989), total=   2.0s\n",
            "[Parallel(n_jobs=1)]: Done  39 out of  39 | elapsed:  1.3min remaining:    0.0s\n",
            "[CV] xgreg__learning_rate=0.001, xgreg__max_depth=7 ..................\n",
            "[07:00:10] WARNING: /workspace/src/objective/regression_obj.cu:152: reg:linear is now deprecated in favor of reg:squarederror.\n",
            "[CV]  xgreg__learning_rate=0.001, xgreg__max_depth=7, score=(train=0.991, test=0.987), total=   2.0s\n",
            "[Parallel(n_jobs=1)]: Done  40 out of  40 | elapsed:  1.4min remaining:    0.0s\n",
            "[CV] xgreg__learning_rate=0.001, xgreg__max_depth=7 ..................\n",
            "[07:00:12] WARNING: /workspace/src/objective/regression_obj.cu:152: reg:linear is now deprecated in favor of reg:squarederror.\n",
            "[CV]  xgreg__learning_rate=0.001, xgreg__max_depth=7, score=(train=0.991, test=0.990), total=   2.0s\n",
            "[Parallel(n_jobs=1)]: Done  41 out of  41 | elapsed:  1.4min remaining:    0.0s\n",
            "[CV] xgreg__learning_rate=0.001, xgreg__max_depth=7 ..................\n",
            "[07:00:14] WARNING: /workspace/src/objective/regression_obj.cu:152: reg:linear is now deprecated in favor of reg:squarederror.\n",
            "[CV]  xgreg__learning_rate=0.001, xgreg__max_depth=7, score=(train=0.991, test=0.987), total=   2.0s\n",
            "[Parallel(n_jobs=1)]: Done  42 out of  42 | elapsed:  1.4min remaining:    0.0s\n",
            "[CV] xgreg__learning_rate=0.001, xgreg__max_depth=7 ..................\n",
            "[07:00:16] WARNING: /workspace/src/objective/regression_obj.cu:152: reg:linear is now deprecated in favor of reg:squarederror.\n",
            "[CV]  xgreg__learning_rate=0.001, xgreg__max_depth=7, score=(train=0.991, test=0.990), total=   2.0s\n",
            "[Parallel(n_jobs=1)]: Done  43 out of  43 | elapsed:  1.5min remaining:    0.0s\n",
            "[CV] xgreg__learning_rate=0.001, xgreg__max_depth=7 ..................\n",
            "[07:00:18] WARNING: /workspace/src/objective/regression_obj.cu:152: reg:linear is now deprecated in favor of reg:squarederror.\n",
            "[CV]  xgreg__learning_rate=0.001, xgreg__max_depth=7, score=(train=0.991, test=0.990), total=   2.0s\n",
            "[Parallel(n_jobs=1)]: Done  44 out of  44 | elapsed:  1.5min remaining:    0.0s\n",
            "[CV] xgreg__learning_rate=0.001, xgreg__max_depth=7 ..................\n",
            "[07:00:20] WARNING: /workspace/src/objective/regression_obj.cu:152: reg:linear is now deprecated in favor of reg:squarederror.\n",
            "[CV]  xgreg__learning_rate=0.001, xgreg__max_depth=7, score=(train=0.991, test=0.988), total=   2.0s\n",
            "[Parallel(n_jobs=1)]: Done  45 out of  45 | elapsed:  1.5min remaining:    0.0s\n",
            "[CV] xgreg__learning_rate=0.001, xgreg__max_depth=7 ..................\n",
            "[07:00:22] WARNING: /workspace/src/objective/regression_obj.cu:152: reg:linear is now deprecated in favor of reg:squarederror.\n",
            "[CV]  xgreg__learning_rate=0.001, xgreg__max_depth=7, score=(train=0.991, test=0.990), total=   2.0s\n",
            "[Parallel(n_jobs=1)]: Done  46 out of  46 | elapsed:  1.6min remaining:    0.0s\n",
            "[CV] xgreg__learning_rate=0.001, xgreg__max_depth=7 ..................\n",
            "[07:00:24] WARNING: /workspace/src/objective/regression_obj.cu:152: reg:linear is now deprecated in favor of reg:squarederror.\n",
            "[CV]  xgreg__learning_rate=0.001, xgreg__max_depth=7, score=(train=0.991, test=0.989), total=   2.0s\n",
            "[Parallel(n_jobs=1)]: Done  47 out of  47 | elapsed:  1.6min remaining:    0.0s\n",
            "[CV] xgreg__learning_rate=0.001, xgreg__max_depth=7 ..................\n",
            "[07:00:26] WARNING: /workspace/src/objective/regression_obj.cu:152: reg:linear is now deprecated in favor of reg:squarederror.\n",
            "[CV]  xgreg__learning_rate=0.001, xgreg__max_depth=7, score=(train=0.991, test=0.990), total=   2.0s\n",
            "[Parallel(n_jobs=1)]: Done  48 out of  48 | elapsed:  1.6min remaining:    0.0s\n",
            "[CV] xgreg__learning_rate=0.001, xgreg__max_depth=8 ..................\n",
            "[07:00:28] WARNING: /workspace/src/objective/regression_obj.cu:152: reg:linear is now deprecated in favor of reg:squarederror.\n",
            "[CV]  xgreg__learning_rate=0.001, xgreg__max_depth=8, score=(train=0.991, test=0.990), total=   2.0s\n",
            "[Parallel(n_jobs=1)]: Done  49 out of  49 | elapsed:  1.7min remaining:    0.0s\n",
            "[CV] xgreg__learning_rate=0.001, xgreg__max_depth=8 ..................\n",
            "[07:00:30] WARNING: /workspace/src/objective/regression_obj.cu:152: reg:linear is now deprecated in favor of reg:squarederror.\n",
            "[CV]  xgreg__learning_rate=0.001, xgreg__max_depth=8, score=(train=0.991, test=0.990), total=   2.0s\n",
            "[Parallel(n_jobs=1)]: Done  50 out of  50 | elapsed:  1.7min remaining:    0.0s\n",
            "[CV] xgreg__learning_rate=0.001, xgreg__max_depth=8 ..................\n",
            "[07:00:33] WARNING: /workspace/src/objective/regression_obj.cu:152: reg:linear is now deprecated in favor of reg:squarederror.\n",
            "[CV]  xgreg__learning_rate=0.001, xgreg__max_depth=8, score=(train=0.991, test=0.989), total=   2.0s\n",
            "[Parallel(n_jobs=1)]: Done  51 out of  51 | elapsed:  1.8min remaining:    0.0s\n",
            "[CV] xgreg__learning_rate=0.001, xgreg__max_depth=8 ..................\n",
            "[07:00:35] WARNING: /workspace/src/objective/regression_obj.cu:152: reg:linear is now deprecated in favor of reg:squarederror.\n",
            "[CV]  xgreg__learning_rate=0.001, xgreg__max_depth=8, score=(train=0.991, test=0.987), total=   2.0s\n",
            "[Parallel(n_jobs=1)]: Done  52 out of  52 | elapsed:  1.8min remaining:    0.0s\n",
            "[CV] xgreg__learning_rate=0.001, xgreg__max_depth=8 ..................\n",
            "[07:00:37] WARNING: /workspace/src/objective/regression_obj.cu:152: reg:linear is now deprecated in favor of reg:squarederror.\n",
            "[CV]  xgreg__learning_rate=0.001, xgreg__max_depth=8, score=(train=0.991, test=0.990), total=   2.0s\n",
            "[Parallel(n_jobs=1)]: Done  53 out of  53 | elapsed:  1.8min remaining:    0.0s\n",
            "[CV] xgreg__learning_rate=0.001, xgreg__max_depth=8 ..................\n",
            "[07:00:39] WARNING: /workspace/src/objective/regression_obj.cu:152: reg:linear is now deprecated in favor of reg:squarederror.\n",
            "[CV]  xgreg__learning_rate=0.001, xgreg__max_depth=8, score=(train=0.991, test=0.987), total=   2.0s\n",
            "[Parallel(n_jobs=1)]: Done  54 out of  54 | elapsed:  1.9min remaining:    0.0s\n",
            "[CV] xgreg__learning_rate=0.001, xgreg__max_depth=8 ..................\n",
            "[07:00:41] WARNING: /workspace/src/objective/regression_obj.cu:152: reg:linear is now deprecated in favor of reg:squarederror.\n",
            "[CV]  xgreg__learning_rate=0.001, xgreg__max_depth=8, score=(train=0.991, test=0.990), total=   2.0s\n",
            "[Parallel(n_jobs=1)]: Done  55 out of  55 | elapsed:  1.9min remaining:    0.0s\n",
            "[CV] xgreg__learning_rate=0.001, xgreg__max_depth=8 ..................\n",
            "[07:00:43] WARNING: /workspace/src/objective/regression_obj.cu:152: reg:linear is now deprecated in favor of reg:squarederror.\n",
            "[CV]  xgreg__learning_rate=0.001, xgreg__max_depth=8, score=(train=0.991, test=0.990), total=   2.0s\n",
            "[Parallel(n_jobs=1)]: Done  56 out of  56 | elapsed:  1.9min remaining:    0.0s\n",
            "[CV] xgreg__learning_rate=0.001, xgreg__max_depth=8 ..................\n",
            "[07:00:45] WARNING: /workspace/src/objective/regression_obj.cu:152: reg:linear is now deprecated in favor of reg:squarederror.\n",
            "[CV]  xgreg__learning_rate=0.001, xgreg__max_depth=8, score=(train=0.991, test=0.988), total=   2.0s\n",
            "[Parallel(n_jobs=1)]: Done  57 out of  57 | elapsed:  2.0min remaining:    0.0s\n",
            "[CV] xgreg__learning_rate=0.001, xgreg__max_depth=8 ..................\n",
            "[07:00:47] WARNING: /workspace/src/objective/regression_obj.cu:152: reg:linear is now deprecated in favor of reg:squarederror.\n",
            "[CV]  xgreg__learning_rate=0.001, xgreg__max_depth=8, score=(train=0.991, test=0.990), total=   2.0s\n",
            "[Parallel(n_jobs=1)]: Done  58 out of  58 | elapsed:  2.0min remaining:    0.0s\n",
            "[CV] xgreg__learning_rate=0.001, xgreg__max_depth=8 ..................\n",
            "[07:00:49] WARNING: /workspace/src/objective/regression_obj.cu:152: reg:linear is now deprecated in favor of reg:squarederror.\n",
            "[CV]  xgreg__learning_rate=0.001, xgreg__max_depth=8, score=(train=0.991, test=0.989), total=   2.0s\n",
            "[Parallel(n_jobs=1)]: Done  59 out of  59 | elapsed:  2.0min remaining:    0.0s\n",
            "[CV] xgreg__learning_rate=0.001, xgreg__max_depth=8 ..................\n",
            "[07:00:51] WARNING: /workspace/src/objective/regression_obj.cu:152: reg:linear is now deprecated in favor of reg:squarederror.\n",
            "[CV]  xgreg__learning_rate=0.001, xgreg__max_depth=8, score=(train=0.991, test=0.990), total=   2.0s\n",
            "[Parallel(n_jobs=1)]: Done  60 out of  60 | elapsed:  2.1min remaining:    0.0s\n",
            "[CV] xgreg__learning_rate=0.001, xgreg__max_depth=10 .................\n",
            "[07:00:53] WARNING: /workspace/src/objective/regression_obj.cu:152: reg:linear is now deprecated in favor of reg:squarederror.\n",
            "[CV]  xgreg__learning_rate=0.001, xgreg__max_depth=10, score=(train=0.991, test=0.990), total=   2.0s\n",
            "[Parallel(n_jobs=1)]: Done  61 out of  61 | elapsed:  2.1min remaining:    0.0s\n",
            "[CV] xgreg__learning_rate=0.001, xgreg__max_depth=10 .................\n",
            "[07:00:55] WARNING: /workspace/src/objective/regression_obj.cu:152: reg:linear is now deprecated in favor of reg:squarederror.\n",
            "[CV]  xgreg__learning_rate=0.001, xgreg__max_depth=10, score=(train=0.991, test=0.990), total=   2.0s\n",
            "[Parallel(n_jobs=1)]: Done  62 out of  62 | elapsed:  2.1min remaining:    0.0s\n",
            "[CV] xgreg__learning_rate=0.001, xgreg__max_depth=10 .................\n",
            "[07:00:57] WARNING: /workspace/src/objective/regression_obj.cu:152: reg:linear is now deprecated in favor of reg:squarederror.\n",
            "[CV]  xgreg__learning_rate=0.001, xgreg__max_depth=10, score=(train=0.991, test=0.989), total=   2.0s\n",
            "[Parallel(n_jobs=1)]: Done  63 out of  63 | elapsed:  2.2min remaining:    0.0s\n",
            "[CV] xgreg__learning_rate=0.001, xgreg__max_depth=10 .................\n",
            "[07:00:59] WARNING: /workspace/src/objective/regression_obj.cu:152: reg:linear is now deprecated in favor of reg:squarederror.\n",
            "[CV]  xgreg__learning_rate=0.001, xgreg__max_depth=10, score=(train=0.991, test=0.987), total=   2.0s\n",
            "[Parallel(n_jobs=1)]: Done  64 out of  64 | elapsed:  2.2min remaining:    0.0s\n",
            "[CV] xgreg__learning_rate=0.001, xgreg__max_depth=10 .................\n",
            "[07:01:01] WARNING: /workspace/src/objective/regression_obj.cu:152: reg:linear is now deprecated in favor of reg:squarederror.\n",
            "[CV]  xgreg__learning_rate=0.001, xgreg__max_depth=10, score=(train=0.991, test=0.990), total=   2.0s\n",
            "[Parallel(n_jobs=1)]: Done  65 out of  65 | elapsed:  2.2min remaining:    0.0s\n",
            "[CV] xgreg__learning_rate=0.001, xgreg__max_depth=10 .................\n",
            "[07:01:04] WARNING: /workspace/src/objective/regression_obj.cu:152: reg:linear is now deprecated in favor of reg:squarederror.\n",
            "[CV]  xgreg__learning_rate=0.001, xgreg__max_depth=10, score=(train=0.991, test=0.987), total=   2.0s\n",
            "[Parallel(n_jobs=1)]: Done  66 out of  66 | elapsed:  2.3min remaining:    0.0s\n",
            "[CV] xgreg__learning_rate=0.001, xgreg__max_depth=10 .................\n",
            "[07:01:06] WARNING: /workspace/src/objective/regression_obj.cu:152: reg:linear is now deprecated in favor of reg:squarederror.\n",
            "[CV]  xgreg__learning_rate=0.001, xgreg__max_depth=10, score=(train=0.991, test=0.990), total=   2.0s\n",
            "[Parallel(n_jobs=1)]: Done  67 out of  67 | elapsed:  2.3min remaining:    0.0s\n",
            "[CV] xgreg__learning_rate=0.001, xgreg__max_depth=10 .................\n",
            "[07:01:08] WARNING: /workspace/src/objective/regression_obj.cu:152: reg:linear is now deprecated in favor of reg:squarederror.\n",
            "[CV]  xgreg__learning_rate=0.001, xgreg__max_depth=10, score=(train=0.991, test=0.990), total=   2.0s\n",
            "[Parallel(n_jobs=1)]: Done  68 out of  68 | elapsed:  2.3min remaining:    0.0s\n",
            "[CV] xgreg__learning_rate=0.001, xgreg__max_depth=10 .................\n",
            "[07:01:10] WARNING: /workspace/src/objective/regression_obj.cu:152: reg:linear is now deprecated in favor of reg:squarederror.\n",
            "[CV]  xgreg__learning_rate=0.001, xgreg__max_depth=10, score=(train=0.991, test=0.988), total=   2.0s\n",
            "[Parallel(n_jobs=1)]: Done  69 out of  69 | elapsed:  2.4min remaining:    0.0s\n",
            "[CV] xgreg__learning_rate=0.001, xgreg__max_depth=10 .................\n",
            "[07:01:12] WARNING: /workspace/src/objective/regression_obj.cu:152: reg:linear is now deprecated in favor of reg:squarederror.\n",
            "[CV]  xgreg__learning_rate=0.001, xgreg__max_depth=10, score=(train=0.991, test=0.990), total=   2.0s\n",
            "[Parallel(n_jobs=1)]: Done  70 out of  70 | elapsed:  2.4min remaining:    0.0s\n",
            "[CV] xgreg__learning_rate=0.001, xgreg__max_depth=10 .................\n",
            "[07:01:14] WARNING: /workspace/src/objective/regression_obj.cu:152: reg:linear is now deprecated in favor of reg:squarederror.\n",
            "[CV]  xgreg__learning_rate=0.001, xgreg__max_depth=10, score=(train=0.991, test=0.989), total=   2.0s\n",
            "[Parallel(n_jobs=1)]: Done  71 out of  71 | elapsed:  2.4min remaining:    0.0s\n",
            "[CV] xgreg__learning_rate=0.001, xgreg__max_depth=10 .................\n",
            "[07:01:16] WARNING: /workspace/src/objective/regression_obj.cu:152: reg:linear is now deprecated in favor of reg:squarederror.\n",
            "[CV]  xgreg__learning_rate=0.001, xgreg__max_depth=10, score=(train=0.991, test=0.990), total=   2.0s\n",
            "[Parallel(n_jobs=1)]: Done  72 out of  72 | elapsed:  2.5min remaining:    0.0s\n",
            "[CV] xgreg__learning_rate=0.001, xgreg__max_depth=12 .................\n",
            "[07:01:18] WARNING: /workspace/src/objective/regression_obj.cu:152: reg:linear is now deprecated in favor of reg:squarederror.\n",
            "[CV]  xgreg__learning_rate=0.001, xgreg__max_depth=12, score=(train=0.991, test=0.990), total=   2.0s\n",
            "[Parallel(n_jobs=1)]: Done  73 out of  73 | elapsed:  2.5min remaining:    0.0s\n",
            "[CV] xgreg__learning_rate=0.001, xgreg__max_depth=12 .................\n",
            "[07:01:20] WARNING: /workspace/src/objective/regression_obj.cu:152: reg:linear is now deprecated in favor of reg:squarederror.\n",
            "[CV]  xgreg__learning_rate=0.001, xgreg__max_depth=12, score=(train=0.991, test=0.990), total=   2.0s\n",
            "[Parallel(n_jobs=1)]: Done  74 out of  74 | elapsed:  2.5min remaining:    0.0s\n",
            "[CV] xgreg__learning_rate=0.001, xgreg__max_depth=12 .................\n",
            "[07:01:22] WARNING: /workspace/src/objective/regression_obj.cu:152: reg:linear is now deprecated in favor of reg:squarederror.\n",
            "[CV]  xgreg__learning_rate=0.001, xgreg__max_depth=12, score=(train=0.991, test=0.989), total=   2.0s\n",
            "[Parallel(n_jobs=1)]: Done  75 out of  75 | elapsed:  2.6min remaining:    0.0s\n",
            "[CV] xgreg__learning_rate=0.001, xgreg__max_depth=12 .................\n",
            "[07:01:24] WARNING: /workspace/src/objective/regression_obj.cu:152: reg:linear is now deprecated in favor of reg:squarederror.\n",
            "[CV]  xgreg__learning_rate=0.001, xgreg__max_depth=12, score=(train=0.991, test=0.987), total=   2.0s\n",
            "[Parallel(n_jobs=1)]: Done  76 out of  76 | elapsed:  2.6min remaining:    0.0s\n",
            "[CV] xgreg__learning_rate=0.001, xgreg__max_depth=12 .................\n",
            "[07:01:26] WARNING: /workspace/src/objective/regression_obj.cu:152: reg:linear is now deprecated in favor of reg:squarederror.\n",
            "[CV]  xgreg__learning_rate=0.001, xgreg__max_depth=12, score=(train=0.991, test=0.990), total=   2.0s\n",
            "[Parallel(n_jobs=1)]: Done  77 out of  77 | elapsed:  2.6min remaining:    0.0s\n",
            "[CV] xgreg__learning_rate=0.001, xgreg__max_depth=12 .................\n",
            "[07:01:28] WARNING: /workspace/src/objective/regression_obj.cu:152: reg:linear is now deprecated in favor of reg:squarederror.\n",
            "[CV]  xgreg__learning_rate=0.001, xgreg__max_depth=12, score=(train=0.991, test=0.987), total=   2.0s\n",
            "[Parallel(n_jobs=1)]: Done  78 out of  78 | elapsed:  2.7min remaining:    0.0s\n",
            "[CV] xgreg__learning_rate=0.001, xgreg__max_depth=12 .................\n",
            "[07:01:30] WARNING: /workspace/src/objective/regression_obj.cu:152: reg:linear is now deprecated in favor of reg:squarederror.\n",
            "[CV]  xgreg__learning_rate=0.001, xgreg__max_depth=12, score=(train=0.991, test=0.990), total=   2.0s\n",
            "[Parallel(n_jobs=1)]: Done  79 out of  79 | elapsed:  2.7min remaining:    0.0s\n",
            "[CV] xgreg__learning_rate=0.001, xgreg__max_depth=12 .................\n",
            "[07:01:32] WARNING: /workspace/src/objective/regression_obj.cu:152: reg:linear is now deprecated in favor of reg:squarederror.\n",
            "[CV]  xgreg__learning_rate=0.001, xgreg__max_depth=12, score=(train=0.991, test=0.990), total=   2.0s\n",
            "[Parallel(n_jobs=1)]: Done  80 out of  80 | elapsed:  2.7min remaining:    0.0s\n",
            "[CV] xgreg__learning_rate=0.001, xgreg__max_depth=12 .................\n",
            "[07:01:34] WARNING: /workspace/src/objective/regression_obj.cu:152: reg:linear is now deprecated in favor of reg:squarederror.\n",
            "[CV]  xgreg__learning_rate=0.001, xgreg__max_depth=12, score=(train=0.991, test=0.988), total=   2.0s\n",
            "[Parallel(n_jobs=1)]: Done  81 out of  81 | elapsed:  2.8min remaining:    0.0s\n",
            "[CV] xgreg__learning_rate=0.001, xgreg__max_depth=12 .................\n",
            "[07:01:37] WARNING: /workspace/src/objective/regression_obj.cu:152: reg:linear is now deprecated in favor of reg:squarederror.\n",
            "[CV]  xgreg__learning_rate=0.001, xgreg__max_depth=12, score=(train=0.991, test=0.990), total=   2.0s\n",
            "[Parallel(n_jobs=1)]: Done  82 out of  82 | elapsed:  2.8min remaining:    0.0s\n",
            "[CV] xgreg__learning_rate=0.001, xgreg__max_depth=12 .................\n",
            "[07:01:39] WARNING: /workspace/src/objective/regression_obj.cu:152: reg:linear is now deprecated in favor of reg:squarederror.\n",
            "[CV]  xgreg__learning_rate=0.001, xgreg__max_depth=12, score=(train=0.991, test=0.989), total=   2.0s\n",
            "[Parallel(n_jobs=1)]: Done  83 out of  83 | elapsed:  2.9min remaining:    0.0s\n",
            "[CV] xgreg__learning_rate=0.001, xgreg__max_depth=12 .................\n",
            "[07:01:41] WARNING: /workspace/src/objective/regression_obj.cu:152: reg:linear is now deprecated in favor of reg:squarederror.\n",
            "[CV]  xgreg__learning_rate=0.001, xgreg__max_depth=12, score=(train=0.991, test=0.990), total=   2.0s\n",
            "[Parallel(n_jobs=1)]: Done  84 out of  84 | elapsed:  2.9min remaining:    0.0s\n",
            "[CV] xgreg__learning_rate=0.25075, xgreg__max_depth=2 ................\n",
            "[07:01:43] WARNING: /workspace/src/objective/regression_obj.cu:152: reg:linear is now deprecated in favor of reg:squarederror.\n",
            "[CV]  xgreg__learning_rate=0.25075, xgreg__max_depth=2, score=(train=0.991, test=0.990), total=   2.0s\n",
            "[Parallel(n_jobs=1)]: Done  85 out of  85 | elapsed:  2.9min remaining:    0.0s\n",
            "[CV] xgreg__learning_rate=0.25075, xgreg__max_depth=2 ................\n",
            "[07:01:45] WARNING: /workspace/src/objective/regression_obj.cu:152: reg:linear is now deprecated in favor of reg:squarederror.\n",
            "[CV]  xgreg__learning_rate=0.25075, xgreg__max_depth=2, score=(train=0.991, test=0.990), total=   2.0s\n",
            "[Parallel(n_jobs=1)]: Done  86 out of  86 | elapsed:  3.0min remaining:    0.0s\n",
            "[CV] xgreg__learning_rate=0.25075, xgreg__max_depth=2 ................\n",
            "[07:01:47] WARNING: /workspace/src/objective/regression_obj.cu:152: reg:linear is now deprecated in favor of reg:squarederror.\n",
            "[CV]  xgreg__learning_rate=0.25075, xgreg__max_depth=2, score=(train=0.991, test=0.989), total=   2.0s\n",
            "[Parallel(n_jobs=1)]: Done  87 out of  87 | elapsed:  3.0min remaining:    0.0s\n",
            "[CV] xgreg__learning_rate=0.25075, xgreg__max_depth=2 ................\n",
            "[07:01:49] WARNING: /workspace/src/objective/regression_obj.cu:152: reg:linear is now deprecated in favor of reg:squarederror.\n",
            "[CV]  xgreg__learning_rate=0.25075, xgreg__max_depth=2, score=(train=0.991, test=0.987), total=   2.0s\n",
            "[Parallel(n_jobs=1)]: Done  88 out of  88 | elapsed:  3.0min remaining:    0.0s\n",
            "[CV] xgreg__learning_rate=0.25075, xgreg__max_depth=2 ................\n",
            "[07:01:51] WARNING: /workspace/src/objective/regression_obj.cu:152: reg:linear is now deprecated in favor of reg:squarederror.\n",
            "[CV]  xgreg__learning_rate=0.25075, xgreg__max_depth=2, score=(train=0.991, test=0.990), total=   2.0s\n",
            "[Parallel(n_jobs=1)]: Done  89 out of  89 | elapsed:  3.1min remaining:    0.0s\n",
            "[CV] xgreg__learning_rate=0.25075, xgreg__max_depth=2 ................\n",
            "[07:01:53] WARNING: /workspace/src/objective/regression_obj.cu:152: reg:linear is now deprecated in favor of reg:squarederror.\n",
            "[CV]  xgreg__learning_rate=0.25075, xgreg__max_depth=2, score=(train=0.991, test=0.987), total=   2.0s\n",
            "[Parallel(n_jobs=1)]: Done  90 out of  90 | elapsed:  3.1min remaining:    0.0s\n",
            "[CV] xgreg__learning_rate=0.25075, xgreg__max_depth=2 ................\n",
            "[07:01:55] WARNING: /workspace/src/objective/regression_obj.cu:152: reg:linear is now deprecated in favor of reg:squarederror.\n",
            "[CV]  xgreg__learning_rate=0.25075, xgreg__max_depth=2, score=(train=0.991, test=0.990), total=   2.0s\n",
            "[Parallel(n_jobs=1)]: Done  91 out of  91 | elapsed:  3.1min remaining:    0.0s\n",
            "[CV] xgreg__learning_rate=0.25075, xgreg__max_depth=2 ................\n",
            "[07:01:57] WARNING: /workspace/src/objective/regression_obj.cu:152: reg:linear is now deprecated in favor of reg:squarederror.\n",
            "[CV]  xgreg__learning_rate=0.25075, xgreg__max_depth=2, score=(train=0.991, test=0.990), total=   2.0s\n",
            "[Parallel(n_jobs=1)]: Done  92 out of  92 | elapsed:  3.2min remaining:    0.0s\n",
            "[CV] xgreg__learning_rate=0.25075, xgreg__max_depth=2 ................\n",
            "[07:01:59] WARNING: /workspace/src/objective/regression_obj.cu:152: reg:linear is now deprecated in favor of reg:squarederror.\n",
            "[CV]  xgreg__learning_rate=0.25075, xgreg__max_depth=2, score=(train=0.991, test=0.988), total=   2.0s\n",
            "[Parallel(n_jobs=1)]: Done  93 out of  93 | elapsed:  3.2min remaining:    0.0s\n",
            "[CV] xgreg__learning_rate=0.25075, xgreg__max_depth=2 ................\n",
            "[07:02:01] WARNING: /workspace/src/objective/regression_obj.cu:152: reg:linear is now deprecated in favor of reg:squarederror.\n",
            "[CV]  xgreg__learning_rate=0.25075, xgreg__max_depth=2, score=(train=0.991, test=0.990), total=   2.0s\n",
            "[Parallel(n_jobs=1)]: Done  94 out of  94 | elapsed:  3.2min remaining:    0.0s\n",
            "[CV] xgreg__learning_rate=0.25075, xgreg__max_depth=2 ................\n",
            "[07:02:03] WARNING: /workspace/src/objective/regression_obj.cu:152: reg:linear is now deprecated in favor of reg:squarederror.\n",
            "[CV]  xgreg__learning_rate=0.25075, xgreg__max_depth=2, score=(train=0.991, test=0.989), total=   2.0s\n",
            "[Parallel(n_jobs=1)]: Done  95 out of  95 | elapsed:  3.3min remaining:    0.0s\n",
            "[CV] xgreg__learning_rate=0.25075, xgreg__max_depth=2 ................\n",
            "[07:02:05] WARNING: /workspace/src/objective/regression_obj.cu:152: reg:linear is now deprecated in favor of reg:squarederror.\n",
            "[CV]  xgreg__learning_rate=0.25075, xgreg__max_depth=2, score=(train=0.991, test=0.990), total=   2.0s\n",
            "[Parallel(n_jobs=1)]: Done  96 out of  96 | elapsed:  3.3min remaining:    0.0s\n",
            "[CV] xgreg__learning_rate=0.25075, xgreg__max_depth=3 ................\n",
            "[07:02:07] WARNING: /workspace/src/objective/regression_obj.cu:152: reg:linear is now deprecated in favor of reg:squarederror.\n",
            "[CV]  xgreg__learning_rate=0.25075, xgreg__max_depth=3, score=(train=0.991, test=0.990), total=   2.0s\n",
            "[Parallel(n_jobs=1)]: Done  97 out of  97 | elapsed:  3.3min remaining:    0.0s\n",
            "[CV] xgreg__learning_rate=0.25075, xgreg__max_depth=3 ................\n",
            "[07:02:09] WARNING: /workspace/src/objective/regression_obj.cu:152: reg:linear is now deprecated in favor of reg:squarederror.\n",
            "[CV]  xgreg__learning_rate=0.25075, xgreg__max_depth=3, score=(train=0.991, test=0.990), total=   2.0s\n",
            "[Parallel(n_jobs=1)]: Done  98 out of  98 | elapsed:  3.4min remaining:    0.0s\n",
            "[CV] xgreg__learning_rate=0.25075, xgreg__max_depth=3 ................\n",
            "[07:02:11] WARNING: /workspace/src/objective/regression_obj.cu:152: reg:linear is now deprecated in favor of reg:squarederror.\n",
            "[CV]  xgreg__learning_rate=0.25075, xgreg__max_depth=3, score=(train=0.991, test=0.989), total=   2.0s\n",
            "[Parallel(n_jobs=1)]: Done  99 out of  99 | elapsed:  3.4min remaining:    0.0s\n",
            "[CV] xgreg__learning_rate=0.25075, xgreg__max_depth=3 ................\n",
            "[07:02:14] WARNING: /workspace/src/objective/regression_obj.cu:152: reg:linear is now deprecated in favor of reg:squarederror.\n",
            "[CV]  xgreg__learning_rate=0.25075, xgreg__max_depth=3, score=(train=0.991, test=0.987), total=   2.0s\n",
            "[CV] xgreg__learning_rate=0.25075, xgreg__max_depth=3 ................\n",
            "[07:02:16] WARNING: /workspace/src/objective/regression_obj.cu:152: reg:linear is now deprecated in favor of reg:squarederror.\n",
            "[CV]  xgreg__learning_rate=0.25075, xgreg__max_depth=3, score=(train=0.991, test=0.990), total=   2.0s\n",
            "[CV] xgreg__learning_rate=0.25075, xgreg__max_depth=3 ................\n",
            "[07:02:18] WARNING: /workspace/src/objective/regression_obj.cu:152: reg:linear is now deprecated in favor of reg:squarederror.\n",
            "[CV]  xgreg__learning_rate=0.25075, xgreg__max_depth=3, score=(train=0.991, test=0.987), total=   2.0s\n",
            "[CV] xgreg__learning_rate=0.25075, xgreg__max_depth=3 ................\n",
            "[07:02:20] WARNING: /workspace/src/objective/regression_obj.cu:152: reg:linear is now deprecated in favor of reg:squarederror.\n",
            "[CV]  xgreg__learning_rate=0.25075, xgreg__max_depth=3, score=(train=0.991, test=0.990), total=   2.0s\n",
            "[CV] xgreg__learning_rate=0.25075, xgreg__max_depth=3 ................\n",
            "[07:02:22] WARNING: /workspace/src/objective/regression_obj.cu:152: reg:linear is now deprecated in favor of reg:squarederror.\n",
            "[CV]  xgreg__learning_rate=0.25075, xgreg__max_depth=3, score=(train=0.991, test=0.990), total=   2.0s\n",
            "[CV] xgreg__learning_rate=0.25075, xgreg__max_depth=3 ................\n",
            "[07:02:24] WARNING: /workspace/src/objective/regression_obj.cu:152: reg:linear is now deprecated in favor of reg:squarederror.\n",
            "[CV]  xgreg__learning_rate=0.25075, xgreg__max_depth=3, score=(train=0.991, test=0.988), total=   2.0s\n",
            "[CV] xgreg__learning_rate=0.25075, xgreg__max_depth=3 ................\n",
            "[07:02:26] WARNING: /workspace/src/objective/regression_obj.cu:152: reg:linear is now deprecated in favor of reg:squarederror.\n",
            "[CV]  xgreg__learning_rate=0.25075, xgreg__max_depth=3, score=(train=0.991, test=0.990), total=   2.0s\n",
            "[CV] xgreg__learning_rate=0.25075, xgreg__max_depth=3 ................\n",
            "[07:02:28] WARNING: /workspace/src/objective/regression_obj.cu:152: reg:linear is now deprecated in favor of reg:squarederror.\n",
            "[CV]  xgreg__learning_rate=0.25075, xgreg__max_depth=3, score=(train=0.991, test=0.989), total=   2.0s\n",
            "[CV] xgreg__learning_rate=0.25075, xgreg__max_depth=3 ................\n",
            "[07:02:30] WARNING: /workspace/src/objective/regression_obj.cu:152: reg:linear is now deprecated in favor of reg:squarederror.\n",
            "[CV]  xgreg__learning_rate=0.25075, xgreg__max_depth=3, score=(train=0.991, test=0.990), total=   2.0s\n",
            "[CV] xgreg__learning_rate=0.25075, xgreg__max_depth=5 ................\n",
            "[07:02:32] WARNING: /workspace/src/objective/regression_obj.cu:152: reg:linear is now deprecated in favor of reg:squarederror.\n",
            "[CV]  xgreg__learning_rate=0.25075, xgreg__max_depth=5, score=(train=0.991, test=0.990), total=   2.0s\n",
            "[CV] xgreg__learning_rate=0.25075, xgreg__max_depth=5 ................\n",
            "[07:02:34] WARNING: /workspace/src/objective/regression_obj.cu:152: reg:linear is now deprecated in favor of reg:squarederror.\n",
            "[CV]  xgreg__learning_rate=0.25075, xgreg__max_depth=5, score=(train=0.991, test=0.990), total=   2.0s\n",
            "[CV] xgreg__learning_rate=0.25075, xgreg__max_depth=5 ................\n",
            "[07:02:36] WARNING: /workspace/src/objective/regression_obj.cu:152: reg:linear is now deprecated in favor of reg:squarederror.\n",
            "[CV]  xgreg__learning_rate=0.25075, xgreg__max_depth=5, score=(train=0.991, test=0.989), total=   2.0s\n",
            "[CV] xgreg__learning_rate=0.25075, xgreg__max_depth=5 ................\n",
            "[07:02:38] WARNING: /workspace/src/objective/regression_obj.cu:152: reg:linear is now deprecated in favor of reg:squarederror.\n",
            "[CV]  xgreg__learning_rate=0.25075, xgreg__max_depth=5, score=(train=0.991, test=0.987), total=   2.0s\n",
            "[CV] xgreg__learning_rate=0.25075, xgreg__max_depth=5 ................\n",
            "[07:02:40] WARNING: /workspace/src/objective/regression_obj.cu:152: reg:linear is now deprecated in favor of reg:squarederror.\n",
            "[CV]  xgreg__learning_rate=0.25075, xgreg__max_depth=5, score=(train=0.991, test=0.990), total=   2.0s\n",
            "[CV] xgreg__learning_rate=0.25075, xgreg__max_depth=5 ................\n",
            "[07:02:42] WARNING: /workspace/src/objective/regression_obj.cu:152: reg:linear is now deprecated in favor of reg:squarederror.\n",
            "[CV]  xgreg__learning_rate=0.25075, xgreg__max_depth=5, score=(train=0.991, test=0.987), total=   2.0s\n",
            "[CV] xgreg__learning_rate=0.25075, xgreg__max_depth=5 ................\n",
            "[07:02:44] WARNING: /workspace/src/objective/regression_obj.cu:152: reg:linear is now deprecated in favor of reg:squarederror.\n",
            "[CV]  xgreg__learning_rate=0.25075, xgreg__max_depth=5, score=(train=0.991, test=0.990), total=   2.0s\n",
            "[CV] xgreg__learning_rate=0.25075, xgreg__max_depth=5 ................\n",
            "[07:02:47] WARNING: /workspace/src/objective/regression_obj.cu:152: reg:linear is now deprecated in favor of reg:squarederror.\n",
            "[CV]  xgreg__learning_rate=0.25075, xgreg__max_depth=5, score=(train=0.991, test=0.990), total=   2.0s\n",
            "[CV] xgreg__learning_rate=0.25075, xgreg__max_depth=5 ................\n",
            "[07:02:49] WARNING: /workspace/src/objective/regression_obj.cu:152: reg:linear is now deprecated in favor of reg:squarederror.\n",
            "[CV]  xgreg__learning_rate=0.25075, xgreg__max_depth=5, score=(train=0.991, test=0.988), total=   2.0s\n",
            "[CV] xgreg__learning_rate=0.25075, xgreg__max_depth=5 ................\n",
            "[07:02:51] WARNING: /workspace/src/objective/regression_obj.cu:152: reg:linear is now deprecated in favor of reg:squarederror.\n",
            "[CV]  xgreg__learning_rate=0.25075, xgreg__max_depth=5, score=(train=0.991, test=0.990), total=   2.0s\n",
            "[CV] xgreg__learning_rate=0.25075, xgreg__max_depth=5 ................\n",
            "[07:02:53] WARNING: /workspace/src/objective/regression_obj.cu:152: reg:linear is now deprecated in favor of reg:squarederror.\n",
            "[CV]  xgreg__learning_rate=0.25075, xgreg__max_depth=5, score=(train=0.991, test=0.989), total=   2.0s\n",
            "[CV] xgreg__learning_rate=0.25075, xgreg__max_depth=5 ................\n",
            "[07:02:55] WARNING: /workspace/src/objective/regression_obj.cu:152: reg:linear is now deprecated in favor of reg:squarederror.\n",
            "[CV]  xgreg__learning_rate=0.25075, xgreg__max_depth=5, score=(train=0.991, test=0.990), total=   2.0s\n",
            "[CV] xgreg__learning_rate=0.25075, xgreg__max_depth=7 ................\n",
            "[07:02:57] WARNING: /workspace/src/objective/regression_obj.cu:152: reg:linear is now deprecated in favor of reg:squarederror.\n",
            "[CV]  xgreg__learning_rate=0.25075, xgreg__max_depth=7, score=(train=0.991, test=0.990), total=   2.0s\n",
            "[CV] xgreg__learning_rate=0.25075, xgreg__max_depth=7 ................\n",
            "[07:02:59] WARNING: /workspace/src/objective/regression_obj.cu:152: reg:linear is now deprecated in favor of reg:squarederror.\n",
            "[CV]  xgreg__learning_rate=0.25075, xgreg__max_depth=7, score=(train=0.991, test=0.990), total=   2.0s\n",
            "[CV] xgreg__learning_rate=0.25075, xgreg__max_depth=7 ................\n",
            "[07:03:01] WARNING: /workspace/src/objective/regression_obj.cu:152: reg:linear is now deprecated in favor of reg:squarederror.\n",
            "[CV]  xgreg__learning_rate=0.25075, xgreg__max_depth=7, score=(train=0.991, test=0.989), total=   2.0s\n",
            "[CV] xgreg__learning_rate=0.25075, xgreg__max_depth=7 ................\n",
            "[07:03:03] WARNING: /workspace/src/objective/regression_obj.cu:152: reg:linear is now deprecated in favor of reg:squarederror.\n",
            "[CV]  xgreg__learning_rate=0.25075, xgreg__max_depth=7, score=(train=0.991, test=0.987), total=   2.0s\n",
            "[CV] xgreg__learning_rate=0.25075, xgreg__max_depth=7 ................\n",
            "[07:03:05] WARNING: /workspace/src/objective/regression_obj.cu:152: reg:linear is now deprecated in favor of reg:squarederror.\n",
            "[CV]  xgreg__learning_rate=0.25075, xgreg__max_depth=7, score=(train=0.991, test=0.990), total=   2.0s\n",
            "[CV] xgreg__learning_rate=0.25075, xgreg__max_depth=7 ................\n",
            "[07:03:07] WARNING: /workspace/src/objective/regression_obj.cu:152: reg:linear is now deprecated in favor of reg:squarederror.\n",
            "[CV]  xgreg__learning_rate=0.25075, xgreg__max_depth=7, score=(train=0.991, test=0.987), total=   2.0s\n",
            "[CV] xgreg__learning_rate=0.25075, xgreg__max_depth=7 ................\n",
            "[07:03:09] WARNING: /workspace/src/objective/regression_obj.cu:152: reg:linear is now deprecated in favor of reg:squarederror.\n",
            "[CV]  xgreg__learning_rate=0.25075, xgreg__max_depth=7, score=(train=0.991, test=0.990), total=   2.0s\n",
            "[CV] xgreg__learning_rate=0.25075, xgreg__max_depth=7 ................\n",
            "[07:03:11] WARNING: /workspace/src/objective/regression_obj.cu:152: reg:linear is now deprecated in favor of reg:squarederror.\n",
            "[CV]  xgreg__learning_rate=0.25075, xgreg__max_depth=7, score=(train=0.991, test=0.990), total=   2.0s\n",
            "[CV] xgreg__learning_rate=0.25075, xgreg__max_depth=7 ................\n",
            "[07:03:13] WARNING: /workspace/src/objective/regression_obj.cu:152: reg:linear is now deprecated in favor of reg:squarederror.\n",
            "[CV]  xgreg__learning_rate=0.25075, xgreg__max_depth=7, score=(train=0.991, test=0.988), total=   2.0s\n",
            "[CV] xgreg__learning_rate=0.25075, xgreg__max_depth=7 ................\n",
            "[07:03:15] WARNING: /workspace/src/objective/regression_obj.cu:152: reg:linear is now deprecated in favor of reg:squarederror.\n",
            "[CV]  xgreg__learning_rate=0.25075, xgreg__max_depth=7, score=(train=0.991, test=0.990), total=   2.0s\n",
            "[CV] xgreg__learning_rate=0.25075, xgreg__max_depth=7 ................\n",
            "[07:03:17] WARNING: /workspace/src/objective/regression_obj.cu:152: reg:linear is now deprecated in favor of reg:squarederror.\n",
            "[CV]  xgreg__learning_rate=0.25075, xgreg__max_depth=7, score=(train=0.991, test=0.989), total=   2.0s\n",
            "[CV] xgreg__learning_rate=0.25075, xgreg__max_depth=7 ................\n",
            "[07:03:19] WARNING: /workspace/src/objective/regression_obj.cu:152: reg:linear is now deprecated in favor of reg:squarederror.\n",
            "[CV]  xgreg__learning_rate=0.25075, xgreg__max_depth=7, score=(train=0.991, test=0.990), total=   2.0s\n",
            "[CV] xgreg__learning_rate=0.25075, xgreg__max_depth=8 ................\n",
            "[07:03:22] WARNING: /workspace/src/objective/regression_obj.cu:152: reg:linear is now deprecated in favor of reg:squarederror.\n",
            "[CV]  xgreg__learning_rate=0.25075, xgreg__max_depth=8, score=(train=0.991, test=0.990), total=   2.0s\n",
            "[CV] xgreg__learning_rate=0.25075, xgreg__max_depth=8 ................\n",
            "[07:03:24] WARNING: /workspace/src/objective/regression_obj.cu:152: reg:linear is now deprecated in favor of reg:squarederror.\n",
            "[CV]  xgreg__learning_rate=0.25075, xgreg__max_depth=8, score=(train=0.991, test=0.990), total=   2.0s\n",
            "[CV] xgreg__learning_rate=0.25075, xgreg__max_depth=8 ................\n",
            "[07:03:26] WARNING: /workspace/src/objective/regression_obj.cu:152: reg:linear is now deprecated in favor of reg:squarederror.\n",
            "[CV]  xgreg__learning_rate=0.25075, xgreg__max_depth=8, score=(train=0.991, test=0.989), total=   2.0s\n",
            "[CV] xgreg__learning_rate=0.25075, xgreg__max_depth=8 ................\n",
            "[07:03:28] WARNING: /workspace/src/objective/regression_obj.cu:152: reg:linear is now deprecated in favor of reg:squarederror.\n",
            "[CV]  xgreg__learning_rate=0.25075, xgreg__max_depth=8, score=(train=0.991, test=0.987), total=   2.0s\n",
            "[CV] xgreg__learning_rate=0.25075, xgreg__max_depth=8 ................\n",
            "[07:03:30] WARNING: /workspace/src/objective/regression_obj.cu:152: reg:linear is now deprecated in favor of reg:squarederror.\n",
            "[CV]  xgreg__learning_rate=0.25075, xgreg__max_depth=8, score=(train=0.991, test=0.990), total=   2.0s\n",
            "[CV] xgreg__learning_rate=0.25075, xgreg__max_depth=8 ................\n",
            "[07:03:32] WARNING: /workspace/src/objective/regression_obj.cu:152: reg:linear is now deprecated in favor of reg:squarederror.\n",
            "[CV]  xgreg__learning_rate=0.25075, xgreg__max_depth=8, score=(train=0.991, test=0.987), total=   2.0s\n",
            "[CV] xgreg__learning_rate=0.25075, xgreg__max_depth=8 ................\n",
            "[07:03:34] WARNING: /workspace/src/objective/regression_obj.cu:152: reg:linear is now deprecated in favor of reg:squarederror.\n",
            "[CV]  xgreg__learning_rate=0.25075, xgreg__max_depth=8, score=(train=0.991, test=0.990), total=   2.0s\n",
            "[CV] xgreg__learning_rate=0.25075, xgreg__max_depth=8 ................\n",
            "[07:03:36] WARNING: /workspace/src/objective/regression_obj.cu:152: reg:linear is now deprecated in favor of reg:squarederror.\n",
            "[CV]  xgreg__learning_rate=0.25075, xgreg__max_depth=8, score=(train=0.991, test=0.990), total=   2.0s\n",
            "[CV] xgreg__learning_rate=0.25075, xgreg__max_depth=8 ................\n",
            "[07:03:38] WARNING: /workspace/src/objective/regression_obj.cu:152: reg:linear is now deprecated in favor of reg:squarederror.\n",
            "[CV]  xgreg__learning_rate=0.25075, xgreg__max_depth=8, score=(train=0.991, test=0.988), total=   2.0s\n",
            "[CV] xgreg__learning_rate=0.25075, xgreg__max_depth=8 ................\n",
            "[07:03:40] WARNING: /workspace/src/objective/regression_obj.cu:152: reg:linear is now deprecated in favor of reg:squarederror.\n",
            "[CV]  xgreg__learning_rate=0.25075, xgreg__max_depth=8, score=(train=0.991, test=0.990), total=   2.0s\n",
            "[CV] xgreg__learning_rate=0.25075, xgreg__max_depth=8 ................\n",
            "[07:03:42] WARNING: /workspace/src/objective/regression_obj.cu:152: reg:linear is now deprecated in favor of reg:squarederror.\n",
            "[CV]  xgreg__learning_rate=0.25075, xgreg__max_depth=8, score=(train=0.991, test=0.989), total=   2.0s\n",
            "[CV] xgreg__learning_rate=0.25075, xgreg__max_depth=8 ................\n",
            "[07:03:44] WARNING: /workspace/src/objective/regression_obj.cu:152: reg:linear is now deprecated in favor of reg:squarederror.\n",
            "[CV]  xgreg__learning_rate=0.25075, xgreg__max_depth=8, score=(train=0.991, test=0.990), total=   2.0s\n",
            "[CV] xgreg__learning_rate=0.25075, xgreg__max_depth=10 ...............\n",
            "[07:03:46] WARNING: /workspace/src/objective/regression_obj.cu:152: reg:linear is now deprecated in favor of reg:squarederror.\n",
            "[CV]  xgreg__learning_rate=0.25075, xgreg__max_depth=10, score=(train=0.991, test=0.990), total=   2.0s\n",
            "[CV] xgreg__learning_rate=0.25075, xgreg__max_depth=10 ...............\n",
            "[07:03:48] WARNING: /workspace/src/objective/regression_obj.cu:152: reg:linear is now deprecated in favor of reg:squarederror.\n",
            "[CV]  xgreg__learning_rate=0.25075, xgreg__max_depth=10, score=(train=0.991, test=0.990), total=   2.0s\n",
            "[CV] xgreg__learning_rate=0.25075, xgreg__max_depth=10 ...............\n",
            "[07:03:50] WARNING: /workspace/src/objective/regression_obj.cu:152: reg:linear is now deprecated in favor of reg:squarederror.\n",
            "[CV]  xgreg__learning_rate=0.25075, xgreg__max_depth=10, score=(train=0.991, test=0.989), total=   2.0s\n",
            "[CV] xgreg__learning_rate=0.25075, xgreg__max_depth=10 ...............\n",
            "[07:03:52] WARNING: /workspace/src/objective/regression_obj.cu:152: reg:linear is now deprecated in favor of reg:squarederror.\n",
            "[CV]  xgreg__learning_rate=0.25075, xgreg__max_depth=10, score=(train=0.991, test=0.987), total=   2.0s\n",
            "[CV] xgreg__learning_rate=0.25075, xgreg__max_depth=10 ...............\n",
            "[07:03:54] WARNING: /workspace/src/objective/regression_obj.cu:152: reg:linear is now deprecated in favor of reg:squarederror.\n",
            "[CV]  xgreg__learning_rate=0.25075, xgreg__max_depth=10, score=(train=0.991, test=0.990), total=   2.0s\n",
            "[CV] xgreg__learning_rate=0.25075, xgreg__max_depth=10 ...............\n",
            "[07:03:57] WARNING: /workspace/src/objective/regression_obj.cu:152: reg:linear is now deprecated in favor of reg:squarederror.\n",
            "[CV]  xgreg__learning_rate=0.25075, xgreg__max_depth=10, score=(train=0.991, test=0.987), total=   2.0s\n",
            "[CV] xgreg__learning_rate=0.25075, xgreg__max_depth=10 ...............\n",
            "[07:03:59] WARNING: /workspace/src/objective/regression_obj.cu:152: reg:linear is now deprecated in favor of reg:squarederror.\n",
            "[CV]  xgreg__learning_rate=0.25075, xgreg__max_depth=10, score=(train=0.991, test=0.990), total=   2.0s\n",
            "[CV] xgreg__learning_rate=0.25075, xgreg__max_depth=10 ...............\n",
            "[07:04:01] WARNING: /workspace/src/objective/regression_obj.cu:152: reg:linear is now deprecated in favor of reg:squarederror.\n",
            "[CV]  xgreg__learning_rate=0.25075, xgreg__max_depth=10, score=(train=0.991, test=0.990), total=   2.0s\n",
            "[CV] xgreg__learning_rate=0.25075, xgreg__max_depth=10 ...............\n",
            "[07:04:03] WARNING: /workspace/src/objective/regression_obj.cu:152: reg:linear is now deprecated in favor of reg:squarederror.\n",
            "[CV]  xgreg__learning_rate=0.25075, xgreg__max_depth=10, score=(train=0.991, test=0.988), total=   2.0s\n",
            "[CV] xgreg__learning_rate=0.25075, xgreg__max_depth=10 ...............\n",
            "[07:04:05] WARNING: /workspace/src/objective/regression_obj.cu:152: reg:linear is now deprecated in favor of reg:squarederror.\n",
            "[CV]  xgreg__learning_rate=0.25075, xgreg__max_depth=10, score=(train=0.991, test=0.990), total=   2.0s\n",
            "[CV] xgreg__learning_rate=0.25075, xgreg__max_depth=10 ...............\n",
            "[07:04:07] WARNING: /workspace/src/objective/regression_obj.cu:152: reg:linear is now deprecated in favor of reg:squarederror.\n",
            "[CV]  xgreg__learning_rate=0.25075, xgreg__max_depth=10, score=(train=0.991, test=0.989), total=   2.0s\n",
            "[CV] xgreg__learning_rate=0.25075, xgreg__max_depth=10 ...............\n",
            "[07:04:09] WARNING: /workspace/src/objective/regression_obj.cu:152: reg:linear is now deprecated in favor of reg:squarederror.\n",
            "[CV]  xgreg__learning_rate=0.25075, xgreg__max_depth=10, score=(train=0.991, test=0.990), total=   2.0s\n",
            "[CV] xgreg__learning_rate=0.25075, xgreg__max_depth=12 ...............\n",
            "[07:04:11] WARNING: /workspace/src/objective/regression_obj.cu:152: reg:linear is now deprecated in favor of reg:squarederror.\n",
            "[CV]  xgreg__learning_rate=0.25075, xgreg__max_depth=12, score=(train=0.991, test=0.990), total=   2.0s\n",
            "[CV] xgreg__learning_rate=0.25075, xgreg__max_depth=12 ...............\n",
            "[07:04:13] WARNING: /workspace/src/objective/regression_obj.cu:152: reg:linear is now deprecated in favor of reg:squarederror.\n",
            "[CV]  xgreg__learning_rate=0.25075, xgreg__max_depth=12, score=(train=0.991, test=0.990), total=   2.0s\n",
            "[CV] xgreg__learning_rate=0.25075, xgreg__max_depth=12 ...............\n",
            "[07:04:15] WARNING: /workspace/src/objective/regression_obj.cu:152: reg:linear is now deprecated in favor of reg:squarederror.\n",
            "[CV]  xgreg__learning_rate=0.25075, xgreg__max_depth=12, score=(train=0.991, test=0.989), total=   2.0s\n",
            "[CV] xgreg__learning_rate=0.25075, xgreg__max_depth=12 ...............\n",
            "[07:04:17] WARNING: /workspace/src/objective/regression_obj.cu:152: reg:linear is now deprecated in favor of reg:squarederror.\n",
            "[CV]  xgreg__learning_rate=0.25075, xgreg__max_depth=12, score=(train=0.991, test=0.987), total=   2.0s\n",
            "[CV] xgreg__learning_rate=0.25075, xgreg__max_depth=12 ...............\n",
            "[07:04:19] WARNING: /workspace/src/objective/regression_obj.cu:152: reg:linear is now deprecated in favor of reg:squarederror.\n",
            "[CV]  xgreg__learning_rate=0.25075, xgreg__max_depth=12, score=(train=0.991, test=0.990), total=   2.0s\n",
            "[CV] xgreg__learning_rate=0.25075, xgreg__max_depth=12 ...............\n",
            "[07:04:21] WARNING: /workspace/src/objective/regression_obj.cu:152: reg:linear is now deprecated in favor of reg:squarederror.\n",
            "[CV]  xgreg__learning_rate=0.25075, xgreg__max_depth=12, score=(train=0.991, test=0.987), total=   2.0s\n",
            "[CV] xgreg__learning_rate=0.25075, xgreg__max_depth=12 ...............\n",
            "[07:04:23] WARNING: /workspace/src/objective/regression_obj.cu:152: reg:linear is now deprecated in favor of reg:squarederror.\n",
            "[CV]  xgreg__learning_rate=0.25075, xgreg__max_depth=12, score=(train=0.991, test=0.990), total=   2.0s\n",
            "[CV] xgreg__learning_rate=0.25075, xgreg__max_depth=12 ...............\n",
            "[07:04:25] WARNING: /workspace/src/objective/regression_obj.cu:152: reg:linear is now deprecated in favor of reg:squarederror.\n",
            "[CV]  xgreg__learning_rate=0.25075, xgreg__max_depth=12, score=(train=0.991, test=0.990), total=   2.0s\n",
            "[CV] xgreg__learning_rate=0.25075, xgreg__max_depth=12 ...............\n",
            "[07:04:27] WARNING: /workspace/src/objective/regression_obj.cu:152: reg:linear is now deprecated in favor of reg:squarederror.\n",
            "[CV]  xgreg__learning_rate=0.25075, xgreg__max_depth=12, score=(train=0.991, test=0.988), total=   2.0s\n",
            "[CV] xgreg__learning_rate=0.25075, xgreg__max_depth=12 ...............\n",
            "[07:04:29] WARNING: /workspace/src/objective/regression_obj.cu:152: reg:linear is now deprecated in favor of reg:squarederror.\n",
            "[CV]  xgreg__learning_rate=0.25075, xgreg__max_depth=12, score=(train=0.991, test=0.990), total=   2.0s\n",
            "[CV] xgreg__learning_rate=0.25075, xgreg__max_depth=12 ...............\n",
            "[07:04:31] WARNING: /workspace/src/objective/regression_obj.cu:152: reg:linear is now deprecated in favor of reg:squarederror.\n",
            "[CV]  xgreg__learning_rate=0.25075, xgreg__max_depth=12, score=(train=0.991, test=0.989), total=   2.0s\n",
            "[CV] xgreg__learning_rate=0.25075, xgreg__max_depth=12 ...............\n",
            "[07:04:34] WARNING: /workspace/src/objective/regression_obj.cu:152: reg:linear is now deprecated in favor of reg:squarederror.\n",
            "[CV]  xgreg__learning_rate=0.25075, xgreg__max_depth=12, score=(train=0.991, test=0.990), total=   2.0s\n",
            "[CV] xgreg__learning_rate=0.5005, xgreg__max_depth=2 .................\n",
            "[07:04:36] WARNING: /workspace/src/objective/regression_obj.cu:152: reg:linear is now deprecated in favor of reg:squarederror.\n",
            "[CV]  xgreg__learning_rate=0.5005, xgreg__max_depth=2, score=(train=0.991, test=0.990), total=   2.0s\n",
            "[CV] xgreg__learning_rate=0.5005, xgreg__max_depth=2 .................\n",
            "[07:04:38] WARNING: /workspace/src/objective/regression_obj.cu:152: reg:linear is now deprecated in favor of reg:squarederror.\n",
            "[CV]  xgreg__learning_rate=0.5005, xgreg__max_depth=2, score=(train=0.991, test=0.990), total=   2.0s\n",
            "[CV] xgreg__learning_rate=0.5005, xgreg__max_depth=2 .................\n",
            "[07:04:40] WARNING: /workspace/src/objective/regression_obj.cu:152: reg:linear is now deprecated in favor of reg:squarederror.\n",
            "[CV]  xgreg__learning_rate=0.5005, xgreg__max_depth=2, score=(train=0.991, test=0.989), total=   2.0s\n",
            "[CV] xgreg__learning_rate=0.5005, xgreg__max_depth=2 .................\n",
            "[07:04:42] WARNING: /workspace/src/objective/regression_obj.cu:152: reg:linear is now deprecated in favor of reg:squarederror.\n",
            "[CV]  xgreg__learning_rate=0.5005, xgreg__max_depth=2, score=(train=0.991, test=0.987), total=   2.0s\n",
            "[CV] xgreg__learning_rate=0.5005, xgreg__max_depth=2 .................\n",
            "[07:04:44] WARNING: /workspace/src/objective/regression_obj.cu:152: reg:linear is now deprecated in favor of reg:squarederror.\n",
            "[CV]  xgreg__learning_rate=0.5005, xgreg__max_depth=2, score=(train=0.991, test=0.990), total=   2.0s\n",
            "[CV] xgreg__learning_rate=0.5005, xgreg__max_depth=2 .................\n",
            "[07:04:46] WARNING: /workspace/src/objective/regression_obj.cu:152: reg:linear is now deprecated in favor of reg:squarederror.\n",
            "[CV]  xgreg__learning_rate=0.5005, xgreg__max_depth=2, score=(train=0.991, test=0.987), total=   2.0s\n",
            "[CV] xgreg__learning_rate=0.5005, xgreg__max_depth=2 .................\n",
            "[07:04:48] WARNING: /workspace/src/objective/regression_obj.cu:152: reg:linear is now deprecated in favor of reg:squarederror.\n",
            "[CV]  xgreg__learning_rate=0.5005, xgreg__max_depth=2, score=(train=0.991, test=0.990), total=   2.0s\n",
            "[CV] xgreg__learning_rate=0.5005, xgreg__max_depth=2 .................\n",
            "[07:04:50] WARNING: /workspace/src/objective/regression_obj.cu:152: reg:linear is now deprecated in favor of reg:squarederror.\n",
            "[CV]  xgreg__learning_rate=0.5005, xgreg__max_depth=2, score=(train=0.991, test=0.990), total=   2.0s\n",
            "[CV] xgreg__learning_rate=0.5005, xgreg__max_depth=2 .................\n",
            "[07:04:52] WARNING: /workspace/src/objective/regression_obj.cu:152: reg:linear is now deprecated in favor of reg:squarederror.\n",
            "[CV]  xgreg__learning_rate=0.5005, xgreg__max_depth=2, score=(train=0.991, test=0.988), total=   2.0s\n",
            "[CV] xgreg__learning_rate=0.5005, xgreg__max_depth=2 .................\n",
            "[07:04:54] WARNING: /workspace/src/objective/regression_obj.cu:152: reg:linear is now deprecated in favor of reg:squarederror.\n",
            "[CV]  xgreg__learning_rate=0.5005, xgreg__max_depth=2, score=(train=0.991, test=0.990), total=   2.0s\n",
            "[CV] xgreg__learning_rate=0.5005, xgreg__max_depth=2 .................\n",
            "[07:04:56] WARNING: /workspace/src/objective/regression_obj.cu:152: reg:linear is now deprecated in favor of reg:squarederror.\n",
            "[CV]  xgreg__learning_rate=0.5005, xgreg__max_depth=2, score=(train=0.991, test=0.989), total=   2.0s\n",
            "[CV] xgreg__learning_rate=0.5005, xgreg__max_depth=2 .................\n",
            "[07:04:58] WARNING: /workspace/src/objective/regression_obj.cu:152: reg:linear is now deprecated in favor of reg:squarederror.\n",
            "[CV]  xgreg__learning_rate=0.5005, xgreg__max_depth=2, score=(train=0.991, test=0.990), total=   2.0s\n",
            "[CV] xgreg__learning_rate=0.5005, xgreg__max_depth=3 .................\n",
            "[07:05:00] WARNING: /workspace/src/objective/regression_obj.cu:152: reg:linear is now deprecated in favor of reg:squarederror.\n",
            "[CV]  xgreg__learning_rate=0.5005, xgreg__max_depth=3, score=(train=0.991, test=0.990), total=   2.0s\n",
            "[CV] xgreg__learning_rate=0.5005, xgreg__max_depth=3 .................\n",
            "[07:05:02] WARNING: /workspace/src/objective/regression_obj.cu:152: reg:linear is now deprecated in favor of reg:squarederror.\n",
            "[CV]  xgreg__learning_rate=0.5005, xgreg__max_depth=3, score=(train=0.991, test=0.990), total=   2.0s\n",
            "[CV] xgreg__learning_rate=0.5005, xgreg__max_depth=3 .................\n",
            "[07:05:04] WARNING: /workspace/src/objective/regression_obj.cu:152: reg:linear is now deprecated in favor of reg:squarederror.\n",
            "[CV]  xgreg__learning_rate=0.5005, xgreg__max_depth=3, score=(train=0.991, test=0.989), total=   2.0s\n",
            "[CV] xgreg__learning_rate=0.5005, xgreg__max_depth=3 .................\n",
            "[07:05:06] WARNING: /workspace/src/objective/regression_obj.cu:152: reg:linear is now deprecated in favor of reg:squarederror.\n",
            "[CV]  xgreg__learning_rate=0.5005, xgreg__max_depth=3, score=(train=0.991, test=0.987), total=   2.0s\n",
            "[CV] xgreg__learning_rate=0.5005, xgreg__max_depth=3 .................\n",
            "[07:05:08] WARNING: /workspace/src/objective/regression_obj.cu:152: reg:linear is now deprecated in favor of reg:squarederror.\n",
            "[CV]  xgreg__learning_rate=0.5005, xgreg__max_depth=3, score=(train=0.991, test=0.990), total=   2.0s\n",
            "[CV] xgreg__learning_rate=0.5005, xgreg__max_depth=3 .................\n",
            "[07:05:11] WARNING: /workspace/src/objective/regression_obj.cu:152: reg:linear is now deprecated in favor of reg:squarederror.\n",
            "[CV]  xgreg__learning_rate=0.5005, xgreg__max_depth=3, score=(train=0.991, test=0.987), total=   2.0s\n",
            "[CV] xgreg__learning_rate=0.5005, xgreg__max_depth=3 .................\n",
            "[07:05:13] WARNING: /workspace/src/objective/regression_obj.cu:152: reg:linear is now deprecated in favor of reg:squarederror.\n",
            "[CV]  xgreg__learning_rate=0.5005, xgreg__max_depth=3, score=(train=0.991, test=0.990), total=   2.0s\n",
            "[CV] xgreg__learning_rate=0.5005, xgreg__max_depth=3 .................\n",
            "[07:05:15] WARNING: /workspace/src/objective/regression_obj.cu:152: reg:linear is now deprecated in favor of reg:squarederror.\n",
            "[CV]  xgreg__learning_rate=0.5005, xgreg__max_depth=3, score=(train=0.991, test=0.990), total=   2.0s\n",
            "[CV] xgreg__learning_rate=0.5005, xgreg__max_depth=3 .................\n",
            "[07:05:17] WARNING: /workspace/src/objective/regression_obj.cu:152: reg:linear is now deprecated in favor of reg:squarederror.\n",
            "[CV]  xgreg__learning_rate=0.5005, xgreg__max_depth=3, score=(train=0.991, test=0.988), total=   2.0s\n",
            "[CV] xgreg__learning_rate=0.5005, xgreg__max_depth=3 .................\n",
            "[07:05:19] WARNING: /workspace/src/objective/regression_obj.cu:152: reg:linear is now deprecated in favor of reg:squarederror.\n",
            "[CV]  xgreg__learning_rate=0.5005, xgreg__max_depth=3, score=(train=0.991, test=0.990), total=   2.0s\n",
            "[CV] xgreg__learning_rate=0.5005, xgreg__max_depth=3 .................\n",
            "[07:05:21] WARNING: /workspace/src/objective/regression_obj.cu:152: reg:linear is now deprecated in favor of reg:squarederror.\n",
            "[CV]  xgreg__learning_rate=0.5005, xgreg__max_depth=3, score=(train=0.991, test=0.989), total=   2.0s\n",
            "[CV] xgreg__learning_rate=0.5005, xgreg__max_depth=3 .................\n",
            "[07:05:23] WARNING: /workspace/src/objective/regression_obj.cu:152: reg:linear is now deprecated in favor of reg:squarederror.\n",
            "[CV]  xgreg__learning_rate=0.5005, xgreg__max_depth=3, score=(train=0.991, test=0.990), total=   2.0s\n",
            "[CV] xgreg__learning_rate=0.5005, xgreg__max_depth=5 .................\n",
            "[07:05:25] WARNING: /workspace/src/objective/regression_obj.cu:152: reg:linear is now deprecated in favor of reg:squarederror.\n",
            "[CV]  xgreg__learning_rate=0.5005, xgreg__max_depth=5, score=(train=0.991, test=0.990), total=   2.0s\n",
            "[CV] xgreg__learning_rate=0.5005, xgreg__max_depth=5 .................\n",
            "[07:05:27] WARNING: /workspace/src/objective/regression_obj.cu:152: reg:linear is now deprecated in favor of reg:squarederror.\n",
            "[CV]  xgreg__learning_rate=0.5005, xgreg__max_depth=5, score=(train=0.991, test=0.990), total=   2.0s\n",
            "[CV] xgreg__learning_rate=0.5005, xgreg__max_depth=5 .................\n",
            "[07:05:29] WARNING: /workspace/src/objective/regression_obj.cu:152: reg:linear is now deprecated in favor of reg:squarederror.\n",
            "[CV]  xgreg__learning_rate=0.5005, xgreg__max_depth=5, score=(train=0.991, test=0.989), total=   2.0s\n",
            "[CV] xgreg__learning_rate=0.5005, xgreg__max_depth=5 .................\n",
            "[07:05:31] WARNING: /workspace/src/objective/regression_obj.cu:152: reg:linear is now deprecated in favor of reg:squarederror.\n",
            "[CV]  xgreg__learning_rate=0.5005, xgreg__max_depth=5, score=(train=0.991, test=0.987), total=   2.0s\n",
            "[CV] xgreg__learning_rate=0.5005, xgreg__max_depth=5 .................\n",
            "[07:05:33] WARNING: /workspace/src/objective/regression_obj.cu:152: reg:linear is now deprecated in favor of reg:squarederror.\n",
            "[CV]  xgreg__learning_rate=0.5005, xgreg__max_depth=5, score=(train=0.991, test=0.990), total=   2.0s\n",
            "[CV] xgreg__learning_rate=0.5005, xgreg__max_depth=5 .................\n",
            "[07:05:35] WARNING: /workspace/src/objective/regression_obj.cu:152: reg:linear is now deprecated in favor of reg:squarederror.\n",
            "[CV]  xgreg__learning_rate=0.5005, xgreg__max_depth=5, score=(train=0.991, test=0.987), total=   2.0s\n",
            "[CV] xgreg__learning_rate=0.5005, xgreg__max_depth=5 .................\n",
            "[07:05:37] WARNING: /workspace/src/objective/regression_obj.cu:152: reg:linear is now deprecated in favor of reg:squarederror.\n",
            "[CV]  xgreg__learning_rate=0.5005, xgreg__max_depth=5, score=(train=0.991, test=0.990), total=   2.0s\n",
            "[CV] xgreg__learning_rate=0.5005, xgreg__max_depth=5 .................\n",
            "[07:05:39] WARNING: /workspace/src/objective/regression_obj.cu:152: reg:linear is now deprecated in favor of reg:squarederror.\n",
            "[CV]  xgreg__learning_rate=0.5005, xgreg__max_depth=5, score=(train=0.991, test=0.990), total=   2.0s\n",
            "[CV] xgreg__learning_rate=0.5005, xgreg__max_depth=5 .................\n",
            "[07:05:41] WARNING: /workspace/src/objective/regression_obj.cu:152: reg:linear is now deprecated in favor of reg:squarederror.\n",
            "[CV]  xgreg__learning_rate=0.5005, xgreg__max_depth=5, score=(train=0.991, test=0.988), total=   2.0s\n",
            "[CV] xgreg__learning_rate=0.5005, xgreg__max_depth=5 .................\n",
            "[07:05:43] WARNING: /workspace/src/objective/regression_obj.cu:152: reg:linear is now deprecated in favor of reg:squarederror.\n",
            "[CV]  xgreg__learning_rate=0.5005, xgreg__max_depth=5, score=(train=0.991, test=0.990), total=   2.0s\n",
            "[CV] xgreg__learning_rate=0.5005, xgreg__max_depth=5 .................\n",
            "[07:05:45] WARNING: /workspace/src/objective/regression_obj.cu:152: reg:linear is now deprecated in favor of reg:squarederror.\n",
            "[CV]  xgreg__learning_rate=0.5005, xgreg__max_depth=5, score=(train=0.991, test=0.989), total=   2.0s\n",
            "[CV] xgreg__learning_rate=0.5005, xgreg__max_depth=5 .................\n",
            "[07:05:48] WARNING: /workspace/src/objective/regression_obj.cu:152: reg:linear is now deprecated in favor of reg:squarederror.\n",
            "[CV]  xgreg__learning_rate=0.5005, xgreg__max_depth=5, score=(train=0.991, test=0.990), total=   2.0s\n",
            "[CV] xgreg__learning_rate=0.5005, xgreg__max_depth=7 .................\n",
            "[07:05:50] WARNING: /workspace/src/objective/regression_obj.cu:152: reg:linear is now deprecated in favor of reg:squarederror.\n",
            "[CV]  xgreg__learning_rate=0.5005, xgreg__max_depth=7, score=(train=0.991, test=0.990), total=   2.0s\n",
            "[CV] xgreg__learning_rate=0.5005, xgreg__max_depth=7 .................\n",
            "[07:05:52] WARNING: /workspace/src/objective/regression_obj.cu:152: reg:linear is now deprecated in favor of reg:squarederror.\n",
            "[CV]  xgreg__learning_rate=0.5005, xgreg__max_depth=7, score=(train=0.991, test=0.990), total=   2.0s\n",
            "[CV] xgreg__learning_rate=0.5005, xgreg__max_depth=7 .................\n",
            "[07:05:54] WARNING: /workspace/src/objective/regression_obj.cu:152: reg:linear is now deprecated in favor of reg:squarederror.\n",
            "[CV]  xgreg__learning_rate=0.5005, xgreg__max_depth=7, score=(train=0.991, test=0.989), total=   2.0s\n",
            "[CV] xgreg__learning_rate=0.5005, xgreg__max_depth=7 .................\n",
            "[07:05:56] WARNING: /workspace/src/objective/regression_obj.cu:152: reg:linear is now deprecated in favor of reg:squarederror.\n",
            "[CV]  xgreg__learning_rate=0.5005, xgreg__max_depth=7, score=(train=0.991, test=0.987), total=   2.0s\n",
            "[CV] xgreg__learning_rate=0.5005, xgreg__max_depth=7 .................\n",
            "[07:05:58] WARNING: /workspace/src/objective/regression_obj.cu:152: reg:linear is now deprecated in favor of reg:squarederror.\n",
            "[CV]  xgreg__learning_rate=0.5005, xgreg__max_depth=7, score=(train=0.991, test=0.990), total=   2.0s\n",
            "[CV] xgreg__learning_rate=0.5005, xgreg__max_depth=7 .................\n",
            "[07:06:00] WARNING: /workspace/src/objective/regression_obj.cu:152: reg:linear is now deprecated in favor of reg:squarederror.\n",
            "[CV]  xgreg__learning_rate=0.5005, xgreg__max_depth=7, score=(train=0.991, test=0.987), total=   2.0s\n",
            "[CV] xgreg__learning_rate=0.5005, xgreg__max_depth=7 .................\n",
            "[07:06:02] WARNING: /workspace/src/objective/regression_obj.cu:152: reg:linear is now deprecated in favor of reg:squarederror.\n",
            "[CV]  xgreg__learning_rate=0.5005, xgreg__max_depth=7, score=(train=0.991, test=0.990), total=   2.0s\n",
            "[CV] xgreg__learning_rate=0.5005, xgreg__max_depth=7 .................\n",
            "[07:06:04] WARNING: /workspace/src/objective/regression_obj.cu:152: reg:linear is now deprecated in favor of reg:squarederror.\n",
            "[CV]  xgreg__learning_rate=0.5005, xgreg__max_depth=7, score=(train=0.991, test=0.990), total=   2.0s\n",
            "[CV] xgreg__learning_rate=0.5005, xgreg__max_depth=7 .................\n",
            "[07:06:06] WARNING: /workspace/src/objective/regression_obj.cu:152: reg:linear is now deprecated in favor of reg:squarederror.\n",
            "[CV]  xgreg__learning_rate=0.5005, xgreg__max_depth=7, score=(train=0.991, test=0.988), total=   2.0s\n",
            "[CV] xgreg__learning_rate=0.5005, xgreg__max_depth=7 .................\n",
            "[07:06:08] WARNING: /workspace/src/objective/regression_obj.cu:152: reg:linear is now deprecated in favor of reg:squarederror.\n",
            "[CV]  xgreg__learning_rate=0.5005, xgreg__max_depth=7, score=(train=0.991, test=0.990), total=   2.0s\n",
            "[CV] xgreg__learning_rate=0.5005, xgreg__max_depth=7 .................\n",
            "[07:06:10] WARNING: /workspace/src/objective/regression_obj.cu:152: reg:linear is now deprecated in favor of reg:squarederror.\n",
            "[CV]  xgreg__learning_rate=0.5005, xgreg__max_depth=7, score=(train=0.991, test=0.989), total=   2.0s\n",
            "[CV] xgreg__learning_rate=0.5005, xgreg__max_depth=7 .................\n",
            "[07:06:12] WARNING: /workspace/src/objective/regression_obj.cu:152: reg:linear is now deprecated in favor of reg:squarederror.\n",
            "[CV]  xgreg__learning_rate=0.5005, xgreg__max_depth=7, score=(train=0.991, test=0.990), total=   2.0s\n",
            "[CV] xgreg__learning_rate=0.5005, xgreg__max_depth=8 .................\n",
            "[07:06:14] WARNING: /workspace/src/objective/regression_obj.cu:152: reg:linear is now deprecated in favor of reg:squarederror.\n",
            "[CV]  xgreg__learning_rate=0.5005, xgreg__max_depth=8, score=(train=0.991, test=0.990), total=   2.0s\n",
            "[CV] xgreg__learning_rate=0.5005, xgreg__max_depth=8 .................\n",
            "[07:06:16] WARNING: /workspace/src/objective/regression_obj.cu:152: reg:linear is now deprecated in favor of reg:squarederror.\n",
            "[CV]  xgreg__learning_rate=0.5005, xgreg__max_depth=8, score=(train=0.991, test=0.990), total=   2.0s\n",
            "[CV] xgreg__learning_rate=0.5005, xgreg__max_depth=8 .................\n",
            "[07:06:18] WARNING: /workspace/src/objective/regression_obj.cu:152: reg:linear is now deprecated in favor of reg:squarederror.\n",
            "[CV]  xgreg__learning_rate=0.5005, xgreg__max_depth=8, score=(train=0.991, test=0.989), total=   2.0s\n",
            "[CV] xgreg__learning_rate=0.5005, xgreg__max_depth=8 .................\n",
            "[07:06:20] WARNING: /workspace/src/objective/regression_obj.cu:152: reg:linear is now deprecated in favor of reg:squarederror.\n",
            "[CV]  xgreg__learning_rate=0.5005, xgreg__max_depth=8, score=(train=0.991, test=0.987), total=   2.0s\n",
            "[CV] xgreg__learning_rate=0.5005, xgreg__max_depth=8 .................\n",
            "[07:06:23] WARNING: /workspace/src/objective/regression_obj.cu:152: reg:linear is now deprecated in favor of reg:squarederror.\n",
            "[CV]  xgreg__learning_rate=0.5005, xgreg__max_depth=8, score=(train=0.991, test=0.990), total=   2.0s\n",
            "[CV] xgreg__learning_rate=0.5005, xgreg__max_depth=8 .................\n",
            "[07:06:25] WARNING: /workspace/src/objective/regression_obj.cu:152: reg:linear is now deprecated in favor of reg:squarederror.\n",
            "[CV]  xgreg__learning_rate=0.5005, xgreg__max_depth=8, score=(train=0.991, test=0.987), total=   2.0s\n",
            "[CV] xgreg__learning_rate=0.5005, xgreg__max_depth=8 .................\n",
            "[07:06:27] WARNING: /workspace/src/objective/regression_obj.cu:152: reg:linear is now deprecated in favor of reg:squarederror.\n",
            "[CV]  xgreg__learning_rate=0.5005, xgreg__max_depth=8, score=(train=0.991, test=0.990), total=   2.0s\n",
            "[CV] xgreg__learning_rate=0.5005, xgreg__max_depth=8 .................\n",
            "[07:06:29] WARNING: /workspace/src/objective/regression_obj.cu:152: reg:linear is now deprecated in favor of reg:squarederror.\n",
            "[CV]  xgreg__learning_rate=0.5005, xgreg__max_depth=8, score=(train=0.991, test=0.990), total=   2.0s\n",
            "[CV] xgreg__learning_rate=0.5005, xgreg__max_depth=8 .................\n",
            "[07:06:31] WARNING: /workspace/src/objective/regression_obj.cu:152: reg:linear is now deprecated in favor of reg:squarederror.\n",
            "[CV]  xgreg__learning_rate=0.5005, xgreg__max_depth=8, score=(train=0.991, test=0.988), total=   2.0s\n",
            "[CV] xgreg__learning_rate=0.5005, xgreg__max_depth=8 .................\n",
            "[07:06:33] WARNING: /workspace/src/objective/regression_obj.cu:152: reg:linear is now deprecated in favor of reg:squarederror.\n",
            "[CV]  xgreg__learning_rate=0.5005, xgreg__max_depth=8, score=(train=0.991, test=0.990), total=   2.0s\n",
            "[CV] xgreg__learning_rate=0.5005, xgreg__max_depth=8 .................\n",
            "[07:06:35] WARNING: /workspace/src/objective/regression_obj.cu:152: reg:linear is now deprecated in favor of reg:squarederror.\n",
            "[CV]  xgreg__learning_rate=0.5005, xgreg__max_depth=8, score=(train=0.991, test=0.989), total=   2.0s\n",
            "[CV] xgreg__learning_rate=0.5005, xgreg__max_depth=8 .................\n",
            "[07:06:37] WARNING: /workspace/src/objective/regression_obj.cu:152: reg:linear is now deprecated in favor of reg:squarederror.\n",
            "[CV]  xgreg__learning_rate=0.5005, xgreg__max_depth=8, score=(train=0.991, test=0.990), total=   2.0s\n",
            "[CV] xgreg__learning_rate=0.5005, xgreg__max_depth=10 ................\n",
            "[07:06:39] WARNING: /workspace/src/objective/regression_obj.cu:152: reg:linear is now deprecated in favor of reg:squarederror.\n",
            "[CV]  xgreg__learning_rate=0.5005, xgreg__max_depth=10, score=(train=0.991, test=0.990), total=   2.0s\n",
            "[CV] xgreg__learning_rate=0.5005, xgreg__max_depth=10 ................\n",
            "[07:06:41] WARNING: /workspace/src/objective/regression_obj.cu:152: reg:linear is now deprecated in favor of reg:squarederror.\n",
            "[CV]  xgreg__learning_rate=0.5005, xgreg__max_depth=10, score=(train=0.991, test=0.990), total=   2.0s\n",
            "[CV] xgreg__learning_rate=0.5005, xgreg__max_depth=10 ................\n",
            "[07:06:43] WARNING: /workspace/src/objective/regression_obj.cu:152: reg:linear is now deprecated in favor of reg:squarederror.\n",
            "[CV]  xgreg__learning_rate=0.5005, xgreg__max_depth=10, score=(train=0.991, test=0.989), total=   2.0s\n",
            "[CV] xgreg__learning_rate=0.5005, xgreg__max_depth=10 ................\n",
            "[07:06:45] WARNING: /workspace/src/objective/regression_obj.cu:152: reg:linear is now deprecated in favor of reg:squarederror.\n",
            "[CV]  xgreg__learning_rate=0.5005, xgreg__max_depth=10, score=(train=0.991, test=0.987), total=   2.0s\n",
            "[CV] xgreg__learning_rate=0.5005, xgreg__max_depth=10 ................\n",
            "[07:06:47] WARNING: /workspace/src/objective/regression_obj.cu:152: reg:linear is now deprecated in favor of reg:squarederror.\n",
            "[CV]  xgreg__learning_rate=0.5005, xgreg__max_depth=10, score=(train=0.991, test=0.990), total=   2.0s\n",
            "[CV] xgreg__learning_rate=0.5005, xgreg__max_depth=10 ................\n",
            "[07:06:49] WARNING: /workspace/src/objective/regression_obj.cu:152: reg:linear is now deprecated in favor of reg:squarederror.\n",
            "[CV]  xgreg__learning_rate=0.5005, xgreg__max_depth=10, score=(train=0.991, test=0.987), total=   2.0s\n",
            "[CV] xgreg__learning_rate=0.5005, xgreg__max_depth=10 ................\n",
            "[07:06:51] WARNING: /workspace/src/objective/regression_obj.cu:152: reg:linear is now deprecated in favor of reg:squarederror.\n",
            "[CV]  xgreg__learning_rate=0.5005, xgreg__max_depth=10, score=(train=0.991, test=0.990), total=   2.0s\n",
            "[CV] xgreg__learning_rate=0.5005, xgreg__max_depth=10 ................\n",
            "[07:06:53] WARNING: /workspace/src/objective/regression_obj.cu:152: reg:linear is now deprecated in favor of reg:squarederror.\n",
            "[CV]  xgreg__learning_rate=0.5005, xgreg__max_depth=10, score=(train=0.991, test=0.990), total=   2.0s\n",
            "[CV] xgreg__learning_rate=0.5005, xgreg__max_depth=10 ................\n",
            "[07:06:56] WARNING: /workspace/src/objective/regression_obj.cu:152: reg:linear is now deprecated in favor of reg:squarederror.\n",
            "[CV]  xgreg__learning_rate=0.5005, xgreg__max_depth=10, score=(train=0.991, test=0.988), total=   2.0s\n",
            "[CV] xgreg__learning_rate=0.5005, xgreg__max_depth=10 ................\n",
            "[07:06:58] WARNING: /workspace/src/objective/regression_obj.cu:152: reg:linear is now deprecated in favor of reg:squarederror.\n",
            "[CV]  xgreg__learning_rate=0.5005, xgreg__max_depth=10, score=(train=0.991, test=0.990), total=   2.0s\n",
            "[CV] xgreg__learning_rate=0.5005, xgreg__max_depth=10 ................\n",
            "[07:07:00] WARNING: /workspace/src/objective/regression_obj.cu:152: reg:linear is now deprecated in favor of reg:squarederror.\n",
            "[CV]  xgreg__learning_rate=0.5005, xgreg__max_depth=10, score=(train=0.991, test=0.989), total=   2.0s\n",
            "[CV] xgreg__learning_rate=0.5005, xgreg__max_depth=10 ................\n",
            "[07:07:02] WARNING: /workspace/src/objective/regression_obj.cu:152: reg:linear is now deprecated in favor of reg:squarederror.\n",
            "[CV]  xgreg__learning_rate=0.5005, xgreg__max_depth=10, score=(train=0.991, test=0.990), total=   2.0s\n",
            "[CV] xgreg__learning_rate=0.5005, xgreg__max_depth=12 ................\n",
            "[07:07:04] WARNING: /workspace/src/objective/regression_obj.cu:152: reg:linear is now deprecated in favor of reg:squarederror.\n",
            "[CV]  xgreg__learning_rate=0.5005, xgreg__max_depth=12, score=(train=0.991, test=0.990), total=   2.0s\n",
            "[CV] xgreg__learning_rate=0.5005, xgreg__max_depth=12 ................\n",
            "[07:07:06] WARNING: /workspace/src/objective/regression_obj.cu:152: reg:linear is now deprecated in favor of reg:squarederror.\n",
            "[CV]  xgreg__learning_rate=0.5005, xgreg__max_depth=12, score=(train=0.991, test=0.990), total=   2.0s\n",
            "[CV] xgreg__learning_rate=0.5005, xgreg__max_depth=12 ................\n",
            "[07:07:08] WARNING: /workspace/src/objective/regression_obj.cu:152: reg:linear is now deprecated in favor of reg:squarederror.\n",
            "[CV]  xgreg__learning_rate=0.5005, xgreg__max_depth=12, score=(train=0.991, test=0.989), total=   2.0s\n",
            "[CV] xgreg__learning_rate=0.5005, xgreg__max_depth=12 ................\n",
            "[07:07:10] WARNING: /workspace/src/objective/regression_obj.cu:152: reg:linear is now deprecated in favor of reg:squarederror.\n",
            "[CV]  xgreg__learning_rate=0.5005, xgreg__max_depth=12, score=(train=0.991, test=0.987), total=   2.0s\n",
            "[CV] xgreg__learning_rate=0.5005, xgreg__max_depth=12 ................\n",
            "[07:07:12] WARNING: /workspace/src/objective/regression_obj.cu:152: reg:linear is now deprecated in favor of reg:squarederror.\n",
            "[CV]  xgreg__learning_rate=0.5005, xgreg__max_depth=12, score=(train=0.991, test=0.990), total=   2.0s\n",
            "[CV] xgreg__learning_rate=0.5005, xgreg__max_depth=12 ................\n",
            "[07:07:14] WARNING: /workspace/src/objective/regression_obj.cu:152: reg:linear is now deprecated in favor of reg:squarederror.\n",
            "[CV]  xgreg__learning_rate=0.5005, xgreg__max_depth=12, score=(train=0.991, test=0.987), total=   2.0s\n",
            "[CV] xgreg__learning_rate=0.5005, xgreg__max_depth=12 ................\n",
            "[07:07:16] WARNING: /workspace/src/objective/regression_obj.cu:152: reg:linear is now deprecated in favor of reg:squarederror.\n",
            "[CV]  xgreg__learning_rate=0.5005, xgreg__max_depth=12, score=(train=0.991, test=0.990), total=   2.0s\n",
            "[CV] xgreg__learning_rate=0.5005, xgreg__max_depth=12 ................\n",
            "[07:07:18] WARNING: /workspace/src/objective/regression_obj.cu:152: reg:linear is now deprecated in favor of reg:squarederror.\n",
            "[CV]  xgreg__learning_rate=0.5005, xgreg__max_depth=12, score=(train=0.991, test=0.990), total=   2.0s\n",
            "[CV] xgreg__learning_rate=0.5005, xgreg__max_depth=12 ................\n",
            "[07:07:20] WARNING: /workspace/src/objective/regression_obj.cu:152: reg:linear is now deprecated in favor of reg:squarederror.\n",
            "[CV]  xgreg__learning_rate=0.5005, xgreg__max_depth=12, score=(train=0.991, test=0.988), total=   2.0s\n",
            "[CV] xgreg__learning_rate=0.5005, xgreg__max_depth=12 ................\n",
            "[07:07:22] WARNING: /workspace/src/objective/regression_obj.cu:152: reg:linear is now deprecated in favor of reg:squarederror.\n",
            "[CV]  xgreg__learning_rate=0.5005, xgreg__max_depth=12, score=(train=0.991, test=0.990), total=   2.0s\n",
            "[CV] xgreg__learning_rate=0.5005, xgreg__max_depth=12 ................\n",
            "[07:07:24] WARNING: /workspace/src/objective/regression_obj.cu:152: reg:linear is now deprecated in favor of reg:squarederror.\n",
            "[CV]  xgreg__learning_rate=0.5005, xgreg__max_depth=12, score=(train=0.991, test=0.989), total=   2.0s\n",
            "[CV] xgreg__learning_rate=0.5005, xgreg__max_depth=12 ................\n",
            "[07:07:26] WARNING: /workspace/src/objective/regression_obj.cu:152: reg:linear is now deprecated in favor of reg:squarederror.\n",
            "[CV]  xgreg__learning_rate=0.5005, xgreg__max_depth=12, score=(train=0.991, test=0.990), total=   2.0s\n",
            "[CV] xgreg__learning_rate=0.75025, xgreg__max_depth=2 ................\n",
            "[07:07:28] WARNING: /workspace/src/objective/regression_obj.cu:152: reg:linear is now deprecated in favor of reg:squarederror.\n",
            "[CV]  xgreg__learning_rate=0.75025, xgreg__max_depth=2, score=(train=0.991, test=0.990), total=   2.0s\n",
            "[CV] xgreg__learning_rate=0.75025, xgreg__max_depth=2 ................\n",
            "[07:07:30] WARNING: /workspace/src/objective/regression_obj.cu:152: reg:linear is now deprecated in favor of reg:squarederror.\n",
            "[CV]  xgreg__learning_rate=0.75025, xgreg__max_depth=2, score=(train=0.991, test=0.990), total=   2.0s\n",
            "[CV] xgreg__learning_rate=0.75025, xgreg__max_depth=2 ................\n",
            "[07:07:33] WARNING: /workspace/src/objective/regression_obj.cu:152: reg:linear is now deprecated in favor of reg:squarederror.\n",
            "[CV]  xgreg__learning_rate=0.75025, xgreg__max_depth=2, score=(train=0.991, test=0.989), total=   2.0s\n",
            "[CV] xgreg__learning_rate=0.75025, xgreg__max_depth=2 ................\n",
            "[07:07:35] WARNING: /workspace/src/objective/regression_obj.cu:152: reg:linear is now deprecated in favor of reg:squarederror.\n",
            "[CV]  xgreg__learning_rate=0.75025, xgreg__max_depth=2, score=(train=0.991, test=0.987), total=   2.0s\n",
            "[CV] xgreg__learning_rate=0.75025, xgreg__max_depth=2 ................\n",
            "[07:07:37] WARNING: /workspace/src/objective/regression_obj.cu:152: reg:linear is now deprecated in favor of reg:squarederror.\n",
            "[CV]  xgreg__learning_rate=0.75025, xgreg__max_depth=2, score=(train=0.991, test=0.990), total=   2.0s\n",
            "[CV] xgreg__learning_rate=0.75025, xgreg__max_depth=2 ................\n",
            "[07:07:39] WARNING: /workspace/src/objective/regression_obj.cu:152: reg:linear is now deprecated in favor of reg:squarederror.\n",
            "[CV]  xgreg__learning_rate=0.75025, xgreg__max_depth=2, score=(train=0.991, test=0.987), total=   2.0s\n",
            "[CV] xgreg__learning_rate=0.75025, xgreg__max_depth=2 ................\n",
            "[07:07:41] WARNING: /workspace/src/objective/regression_obj.cu:152: reg:linear is now deprecated in favor of reg:squarederror.\n",
            "[CV]  xgreg__learning_rate=0.75025, xgreg__max_depth=2, score=(train=0.991, test=0.990), total=   2.0s\n",
            "[CV] xgreg__learning_rate=0.75025, xgreg__max_depth=2 ................\n",
            "[07:07:43] WARNING: /workspace/src/objective/regression_obj.cu:152: reg:linear is now deprecated in favor of reg:squarederror.\n",
            "[CV]  xgreg__learning_rate=0.75025, xgreg__max_depth=2, score=(train=0.991, test=0.990), total=   2.0s\n",
            "[CV] xgreg__learning_rate=0.75025, xgreg__max_depth=2 ................\n",
            "[07:07:45] WARNING: /workspace/src/objective/regression_obj.cu:152: reg:linear is now deprecated in favor of reg:squarederror.\n",
            "[CV]  xgreg__learning_rate=0.75025, xgreg__max_depth=2, score=(train=0.991, test=0.988), total=   2.0s\n",
            "[CV] xgreg__learning_rate=0.75025, xgreg__max_depth=2 ................\n",
            "[07:07:47] WARNING: /workspace/src/objective/regression_obj.cu:152: reg:linear is now deprecated in favor of reg:squarederror.\n",
            "[CV]  xgreg__learning_rate=0.75025, xgreg__max_depth=2, score=(train=0.991, test=0.990), total=   2.0s\n",
            "[CV] xgreg__learning_rate=0.75025, xgreg__max_depth=2 ................\n",
            "[07:07:49] WARNING: /workspace/src/objective/regression_obj.cu:152: reg:linear is now deprecated in favor of reg:squarederror.\n",
            "[CV]  xgreg__learning_rate=0.75025, xgreg__max_depth=2, score=(train=0.991, test=0.989), total=   2.0s\n",
            "[CV] xgreg__learning_rate=0.75025, xgreg__max_depth=2 ................\n",
            "[07:07:51] WARNING: /workspace/src/objective/regression_obj.cu:152: reg:linear is now deprecated in favor of reg:squarederror.\n",
            "[CV]  xgreg__learning_rate=0.75025, xgreg__max_depth=2, score=(train=0.991, test=0.990), total=   2.0s\n",
            "[CV] xgreg__learning_rate=0.75025, xgreg__max_depth=3 ................\n",
            "[07:07:53] WARNING: /workspace/src/objective/regression_obj.cu:152: reg:linear is now deprecated in favor of reg:squarederror.\n",
            "[CV]  xgreg__learning_rate=0.75025, xgreg__max_depth=3, score=(train=0.991, test=0.990), total=   2.0s\n",
            "[CV] xgreg__learning_rate=0.75025, xgreg__max_depth=3 ................\n",
            "[07:07:55] WARNING: /workspace/src/objective/regression_obj.cu:152: reg:linear is now deprecated in favor of reg:squarederror.\n",
            "[CV]  xgreg__learning_rate=0.75025, xgreg__max_depth=3, score=(train=0.991, test=0.990), total=   2.0s\n",
            "[CV] xgreg__learning_rate=0.75025, xgreg__max_depth=3 ................\n",
            "[07:07:57] WARNING: /workspace/src/objective/regression_obj.cu:152: reg:linear is now deprecated in favor of reg:squarederror.\n",
            "[CV]  xgreg__learning_rate=0.75025, xgreg__max_depth=3, score=(train=0.991, test=0.989), total=   2.0s\n",
            "[CV] xgreg__learning_rate=0.75025, xgreg__max_depth=3 ................\n",
            "[07:07:59] WARNING: /workspace/src/objective/regression_obj.cu:152: reg:linear is now deprecated in favor of reg:squarederror.\n",
            "[CV]  xgreg__learning_rate=0.75025, xgreg__max_depth=3, score=(train=0.991, test=0.987), total=   2.0s\n",
            "[CV] xgreg__learning_rate=0.75025, xgreg__max_depth=3 ................\n",
            "[07:08:02] WARNING: /workspace/src/objective/regression_obj.cu:152: reg:linear is now deprecated in favor of reg:squarederror.\n",
            "[CV]  xgreg__learning_rate=0.75025, xgreg__max_depth=3, score=(train=0.991, test=0.990), total=   2.0s\n",
            "[CV] xgreg__learning_rate=0.75025, xgreg__max_depth=3 ................\n",
            "[07:08:04] WARNING: /workspace/src/objective/regression_obj.cu:152: reg:linear is now deprecated in favor of reg:squarederror.\n",
            "[CV]  xgreg__learning_rate=0.75025, xgreg__max_depth=3, score=(train=0.991, test=0.987), total=   2.0s\n",
            "[CV] xgreg__learning_rate=0.75025, xgreg__max_depth=3 ................\n",
            "[07:08:06] WARNING: /workspace/src/objective/regression_obj.cu:152: reg:linear is now deprecated in favor of reg:squarederror.\n",
            "[CV]  xgreg__learning_rate=0.75025, xgreg__max_depth=3, score=(train=0.991, test=0.990), total=   2.0s\n",
            "[CV] xgreg__learning_rate=0.75025, xgreg__max_depth=3 ................\n",
            "[07:08:08] WARNING: /workspace/src/objective/regression_obj.cu:152: reg:linear is now deprecated in favor of reg:squarederror.\n",
            "[CV]  xgreg__learning_rate=0.75025, xgreg__max_depth=3, score=(train=0.991, test=0.990), total=   2.0s\n",
            "[CV] xgreg__learning_rate=0.75025, xgreg__max_depth=3 ................\n",
            "[07:08:10] WARNING: /workspace/src/objective/regression_obj.cu:152: reg:linear is now deprecated in favor of reg:squarederror.\n",
            "[CV]  xgreg__learning_rate=0.75025, xgreg__max_depth=3, score=(train=0.991, test=0.988), total=   2.0s\n",
            "[CV] xgreg__learning_rate=0.75025, xgreg__max_depth=3 ................\n",
            "[07:08:12] WARNING: /workspace/src/objective/regression_obj.cu:152: reg:linear is now deprecated in favor of reg:squarederror.\n",
            "[CV]  xgreg__learning_rate=0.75025, xgreg__max_depth=3, score=(train=0.991, test=0.990), total=   2.0s\n",
            "[CV] xgreg__learning_rate=0.75025, xgreg__max_depth=3 ................\n",
            "[07:08:14] WARNING: /workspace/src/objective/regression_obj.cu:152: reg:linear is now deprecated in favor of reg:squarederror.\n",
            "[CV]  xgreg__learning_rate=0.75025, xgreg__max_depth=3, score=(train=0.991, test=0.989), total=   2.0s\n",
            "[CV] xgreg__learning_rate=0.75025, xgreg__max_depth=3 ................\n",
            "[07:08:16] WARNING: /workspace/src/objective/regression_obj.cu:152: reg:linear is now deprecated in favor of reg:squarederror.\n",
            "[CV]  xgreg__learning_rate=0.75025, xgreg__max_depth=3, score=(train=0.991, test=0.990), total=   2.0s\n",
            "[CV] xgreg__learning_rate=0.75025, xgreg__max_depth=5 ................\n",
            "[07:08:18] WARNING: /workspace/src/objective/regression_obj.cu:152: reg:linear is now deprecated in favor of reg:squarederror.\n",
            "[CV]  xgreg__learning_rate=0.75025, xgreg__max_depth=5, score=(train=0.991, test=0.990), total=   2.0s\n",
            "[CV] xgreg__learning_rate=0.75025, xgreg__max_depth=5 ................\n",
            "[07:08:20] WARNING: /workspace/src/objective/regression_obj.cu:152: reg:linear is now deprecated in favor of reg:squarederror.\n",
            "[CV]  xgreg__learning_rate=0.75025, xgreg__max_depth=5, score=(train=0.991, test=0.990), total=   2.0s\n",
            "[CV] xgreg__learning_rate=0.75025, xgreg__max_depth=5 ................\n",
            "[07:08:22] WARNING: /workspace/src/objective/regression_obj.cu:152: reg:linear is now deprecated in favor of reg:squarederror.\n",
            "[CV]  xgreg__learning_rate=0.75025, xgreg__max_depth=5, score=(train=0.991, test=0.989), total=   2.0s\n",
            "[CV] xgreg__learning_rate=0.75025, xgreg__max_depth=5 ................\n",
            "[07:08:24] WARNING: /workspace/src/objective/regression_obj.cu:152: reg:linear is now deprecated in favor of reg:squarederror.\n",
            "[CV]  xgreg__learning_rate=0.75025, xgreg__max_depth=5, score=(train=0.991, test=0.987), total=   2.0s\n",
            "[CV] xgreg__learning_rate=0.75025, xgreg__max_depth=5 ................\n",
            "[07:08:26] WARNING: /workspace/src/objective/regression_obj.cu:152: reg:linear is now deprecated in favor of reg:squarederror.\n",
            "[CV]  xgreg__learning_rate=0.75025, xgreg__max_depth=5, score=(train=0.991, test=0.990), total=   2.0s\n",
            "[CV] xgreg__learning_rate=0.75025, xgreg__max_depth=5 ................\n",
            "[07:08:28] WARNING: /workspace/src/objective/regression_obj.cu:152: reg:linear is now deprecated in favor of reg:squarederror.\n",
            "[CV]  xgreg__learning_rate=0.75025, xgreg__max_depth=5, score=(train=0.991, test=0.987), total=   2.1s\n",
            "[CV] xgreg__learning_rate=0.75025, xgreg__max_depth=5 ................\n",
            "[07:08:30] WARNING: /workspace/src/objective/regression_obj.cu:152: reg:linear is now deprecated in favor of reg:squarederror.\n",
            "[CV]  xgreg__learning_rate=0.75025, xgreg__max_depth=5, score=(train=0.991, test=0.990), total=   2.0s\n",
            "[CV] xgreg__learning_rate=0.75025, xgreg__max_depth=5 ................\n",
            "[07:08:33] WARNING: /workspace/src/objective/regression_obj.cu:152: reg:linear is now deprecated in favor of reg:squarederror.\n",
            "[CV]  xgreg__learning_rate=0.75025, xgreg__max_depth=5, score=(train=0.991, test=0.990), total=   2.0s\n",
            "[CV] xgreg__learning_rate=0.75025, xgreg__max_depth=5 ................\n",
            "[07:08:35] WARNING: /workspace/src/objective/regression_obj.cu:152: reg:linear is now deprecated in favor of reg:squarederror.\n",
            "[CV]  xgreg__learning_rate=0.75025, xgreg__max_depth=5, score=(train=0.991, test=0.988), total=   2.0s\n",
            "[CV] xgreg__learning_rate=0.75025, xgreg__max_depth=5 ................\n",
            "[07:08:37] WARNING: /workspace/src/objective/regression_obj.cu:152: reg:linear is now deprecated in favor of reg:squarederror.\n",
            "[CV]  xgreg__learning_rate=0.75025, xgreg__max_depth=5, score=(train=0.991, test=0.990), total=   2.0s\n",
            "[CV] xgreg__learning_rate=0.75025, xgreg__max_depth=5 ................\n",
            "[07:08:39] WARNING: /workspace/src/objective/regression_obj.cu:152: reg:linear is now deprecated in favor of reg:squarederror.\n",
            "[CV]  xgreg__learning_rate=0.75025, xgreg__max_depth=5, score=(train=0.991, test=0.989), total=   2.0s\n",
            "[CV] xgreg__learning_rate=0.75025, xgreg__max_depth=5 ................\n",
            "[07:08:41] WARNING: /workspace/src/objective/regression_obj.cu:152: reg:linear is now deprecated in favor of reg:squarederror.\n",
            "[CV]  xgreg__learning_rate=0.75025, xgreg__max_depth=5, score=(train=0.991, test=0.990), total=   2.0s\n",
            "[CV] xgreg__learning_rate=0.75025, xgreg__max_depth=7 ................\n",
            "[07:08:43] WARNING: /workspace/src/objective/regression_obj.cu:152: reg:linear is now deprecated in favor of reg:squarederror.\n",
            "[CV]  xgreg__learning_rate=0.75025, xgreg__max_depth=7, score=(train=0.991, test=0.990), total=   2.0s\n",
            "[CV] xgreg__learning_rate=0.75025, xgreg__max_depth=7 ................\n",
            "[07:08:45] WARNING: /workspace/src/objective/regression_obj.cu:152: reg:linear is now deprecated in favor of reg:squarederror.\n",
            "[CV]  xgreg__learning_rate=0.75025, xgreg__max_depth=7, score=(train=0.991, test=0.990), total=   2.0s\n",
            "[CV] xgreg__learning_rate=0.75025, xgreg__max_depth=7 ................\n",
            "[07:08:47] WARNING: /workspace/src/objective/regression_obj.cu:152: reg:linear is now deprecated in favor of reg:squarederror.\n",
            "[CV]  xgreg__learning_rate=0.75025, xgreg__max_depth=7, score=(train=0.991, test=0.989), total=   2.0s\n",
            "[CV] xgreg__learning_rate=0.75025, xgreg__max_depth=7 ................\n",
            "[07:08:49] WARNING: /workspace/src/objective/regression_obj.cu:152: reg:linear is now deprecated in favor of reg:squarederror.\n",
            "[CV]  xgreg__learning_rate=0.75025, xgreg__max_depth=7, score=(train=0.991, test=0.987), total=   2.0s\n",
            "[CV] xgreg__learning_rate=0.75025, xgreg__max_depth=7 ................\n",
            "[07:08:51] WARNING: /workspace/src/objective/regression_obj.cu:152: reg:linear is now deprecated in favor of reg:squarederror.\n",
            "[CV]  xgreg__learning_rate=0.75025, xgreg__max_depth=7, score=(train=0.991, test=0.990), total=   2.0s\n",
            "[CV] xgreg__learning_rate=0.75025, xgreg__max_depth=7 ................\n",
            "[07:08:53] WARNING: /workspace/src/objective/regression_obj.cu:152: reg:linear is now deprecated in favor of reg:squarederror.\n",
            "[CV]  xgreg__learning_rate=0.75025, xgreg__max_depth=7, score=(train=0.991, test=0.987), total=   2.0s\n",
            "[CV] xgreg__learning_rate=0.75025, xgreg__max_depth=7 ................\n",
            "[07:08:55] WARNING: /workspace/src/objective/regression_obj.cu:152: reg:linear is now deprecated in favor of reg:squarederror.\n",
            "[CV]  xgreg__learning_rate=0.75025, xgreg__max_depth=7, score=(train=0.991, test=0.990), total=   2.0s\n",
            "[CV] xgreg__learning_rate=0.75025, xgreg__max_depth=7 ................\n",
            "[07:08:57] WARNING: /workspace/src/objective/regression_obj.cu:152: reg:linear is now deprecated in favor of reg:squarederror.\n",
            "[CV]  xgreg__learning_rate=0.75025, xgreg__max_depth=7, score=(train=0.991, test=0.990), total=   2.0s\n",
            "[CV] xgreg__learning_rate=0.75025, xgreg__max_depth=7 ................\n",
            "[07:08:59] WARNING: /workspace/src/objective/regression_obj.cu:152: reg:linear is now deprecated in favor of reg:squarederror.\n",
            "[CV]  xgreg__learning_rate=0.75025, xgreg__max_depth=7, score=(train=0.991, test=0.988), total=   2.0s\n",
            "[CV] xgreg__learning_rate=0.75025, xgreg__max_depth=7 ................\n",
            "[07:09:01] WARNING: /workspace/src/objective/regression_obj.cu:152: reg:linear is now deprecated in favor of reg:squarederror.\n",
            "[CV]  xgreg__learning_rate=0.75025, xgreg__max_depth=7, score=(train=0.991, test=0.990), total=   2.0s\n",
            "[CV] xgreg__learning_rate=0.75025, xgreg__max_depth=7 ................\n",
            "[07:09:04] WARNING: /workspace/src/objective/regression_obj.cu:152: reg:linear is now deprecated in favor of reg:squarederror.\n",
            "[CV]  xgreg__learning_rate=0.75025, xgreg__max_depth=7, score=(train=0.991, test=0.989), total=   2.0s\n",
            "[CV] xgreg__learning_rate=0.75025, xgreg__max_depth=7 ................\n",
            "[07:09:06] WARNING: /workspace/src/objective/regression_obj.cu:152: reg:linear is now deprecated in favor of reg:squarederror.\n",
            "[CV]  xgreg__learning_rate=0.75025, xgreg__max_depth=7, score=(train=0.991, test=0.990), total=   2.0s\n",
            "[CV] xgreg__learning_rate=0.75025, xgreg__max_depth=8 ................\n",
            "[07:09:08] WARNING: /workspace/src/objective/regression_obj.cu:152: reg:linear is now deprecated in favor of reg:squarederror.\n",
            "[CV]  xgreg__learning_rate=0.75025, xgreg__max_depth=8, score=(train=0.991, test=0.990), total=   2.0s\n",
            "[CV] xgreg__learning_rate=0.75025, xgreg__max_depth=8 ................\n",
            "[07:09:10] WARNING: /workspace/src/objective/regression_obj.cu:152: reg:linear is now deprecated in favor of reg:squarederror.\n",
            "[CV]  xgreg__learning_rate=0.75025, xgreg__max_depth=8, score=(train=0.991, test=0.990), total=   2.0s\n",
            "[CV] xgreg__learning_rate=0.75025, xgreg__max_depth=8 ................\n",
            "[07:09:12] WARNING: /workspace/src/objective/regression_obj.cu:152: reg:linear is now deprecated in favor of reg:squarederror.\n",
            "[CV]  xgreg__learning_rate=0.75025, xgreg__max_depth=8, score=(train=0.991, test=0.989), total=   2.0s\n",
            "[CV] xgreg__learning_rate=0.75025, xgreg__max_depth=8 ................\n",
            "[07:09:14] WARNING: /workspace/src/objective/regression_obj.cu:152: reg:linear is now deprecated in favor of reg:squarederror.\n",
            "[CV]  xgreg__learning_rate=0.75025, xgreg__max_depth=8, score=(train=0.991, test=0.987), total=   2.0s\n",
            "[CV] xgreg__learning_rate=0.75025, xgreg__max_depth=8 ................\n",
            "[07:09:16] WARNING: /workspace/src/objective/regression_obj.cu:152: reg:linear is now deprecated in favor of reg:squarederror.\n",
            "[CV]  xgreg__learning_rate=0.75025, xgreg__max_depth=8, score=(train=0.991, test=0.990), total=   2.0s\n",
            "[CV] xgreg__learning_rate=0.75025, xgreg__max_depth=8 ................\n",
            "[07:09:18] WARNING: /workspace/src/objective/regression_obj.cu:152: reg:linear is now deprecated in favor of reg:squarederror.\n",
            "[CV]  xgreg__learning_rate=0.75025, xgreg__max_depth=8, score=(train=0.991, test=0.987), total=   2.0s\n",
            "[CV] xgreg__learning_rate=0.75025, xgreg__max_depth=8 ................\n",
            "[07:09:20] WARNING: /workspace/src/objective/regression_obj.cu:152: reg:linear is now deprecated in favor of reg:squarederror.\n",
            "[CV]  xgreg__learning_rate=0.75025, xgreg__max_depth=8, score=(train=0.991, test=0.990), total=   2.0s\n",
            "[CV] xgreg__learning_rate=0.75025, xgreg__max_depth=8 ................\n",
            "[07:09:22] WARNING: /workspace/src/objective/regression_obj.cu:152: reg:linear is now deprecated in favor of reg:squarederror.\n",
            "[CV]  xgreg__learning_rate=0.75025, xgreg__max_depth=8, score=(train=0.991, test=0.990), total=   2.0s\n",
            "[CV] xgreg__learning_rate=0.75025, xgreg__max_depth=8 ................\n",
            "[07:09:24] WARNING: /workspace/src/objective/regression_obj.cu:152: reg:linear is now deprecated in favor of reg:squarederror.\n",
            "[CV]  xgreg__learning_rate=0.75025, xgreg__max_depth=8, score=(train=0.991, test=0.988), total=   2.0s\n",
            "[CV] xgreg__learning_rate=0.75025, xgreg__max_depth=8 ................\n",
            "[07:09:26] WARNING: /workspace/src/objective/regression_obj.cu:152: reg:linear is now deprecated in favor of reg:squarederror.\n",
            "[CV]  xgreg__learning_rate=0.75025, xgreg__max_depth=8, score=(train=0.991, test=0.990), total=   2.0s\n",
            "[CV] xgreg__learning_rate=0.75025, xgreg__max_depth=8 ................\n",
            "[07:09:28] WARNING: /workspace/src/objective/regression_obj.cu:152: reg:linear is now deprecated in favor of reg:squarederror.\n",
            "[CV]  xgreg__learning_rate=0.75025, xgreg__max_depth=8, score=(train=0.991, test=0.989), total=   2.0s\n",
            "[CV] xgreg__learning_rate=0.75025, xgreg__max_depth=8 ................\n",
            "[07:09:30] WARNING: /workspace/src/objective/regression_obj.cu:152: reg:linear is now deprecated in favor of reg:squarederror.\n",
            "[CV]  xgreg__learning_rate=0.75025, xgreg__max_depth=8, score=(train=0.991, test=0.990), total=   2.0s\n",
            "[CV] xgreg__learning_rate=0.75025, xgreg__max_depth=10 ...............\n",
            "[07:09:32] WARNING: /workspace/src/objective/regression_obj.cu:152: reg:linear is now deprecated in favor of reg:squarederror.\n",
            "[CV]  xgreg__learning_rate=0.75025, xgreg__max_depth=10, score=(train=0.991, test=0.990), total=   2.0s\n",
            "[CV] xgreg__learning_rate=0.75025, xgreg__max_depth=10 ...............\n",
            "[07:09:34] WARNING: /workspace/src/objective/regression_obj.cu:152: reg:linear is now deprecated in favor of reg:squarederror.\n",
            "[CV]  xgreg__learning_rate=0.75025, xgreg__max_depth=10, score=(train=0.991, test=0.990), total=   2.0s\n",
            "[CV] xgreg__learning_rate=0.75025, xgreg__max_depth=10 ...............\n",
            "[07:09:36] WARNING: /workspace/src/objective/regression_obj.cu:152: reg:linear is now deprecated in favor of reg:squarederror.\n",
            "[CV]  xgreg__learning_rate=0.75025, xgreg__max_depth=10, score=(train=0.991, test=0.989), total=   2.0s\n",
            "[CV] xgreg__learning_rate=0.75025, xgreg__max_depth=10 ...............\n",
            "[07:09:38] WARNING: /workspace/src/objective/regression_obj.cu:152: reg:linear is now deprecated in favor of reg:squarederror.\n",
            "[CV]  xgreg__learning_rate=0.75025, xgreg__max_depth=10, score=(train=0.991, test=0.987), total=   2.0s\n",
            "[CV] xgreg__learning_rate=0.75025, xgreg__max_depth=10 ...............\n",
            "[07:09:41] WARNING: /workspace/src/objective/regression_obj.cu:152: reg:linear is now deprecated in favor of reg:squarederror.\n",
            "[CV]  xgreg__learning_rate=0.75025, xgreg__max_depth=10, score=(train=0.991, test=0.990), total=   2.0s\n",
            "[CV] xgreg__learning_rate=0.75025, xgreg__max_depth=10 ...............\n",
            "[07:09:43] WARNING: /workspace/src/objective/regression_obj.cu:152: reg:linear is now deprecated in favor of reg:squarederror.\n",
            "[CV]  xgreg__learning_rate=0.75025, xgreg__max_depth=10, score=(train=0.991, test=0.987), total=   2.0s\n",
            "[CV] xgreg__learning_rate=0.75025, xgreg__max_depth=10 ...............\n",
            "[07:09:45] WARNING: /workspace/src/objective/regression_obj.cu:152: reg:linear is now deprecated in favor of reg:squarederror.\n",
            "[CV]  xgreg__learning_rate=0.75025, xgreg__max_depth=10, score=(train=0.991, test=0.990), total=   2.0s\n",
            "[CV] xgreg__learning_rate=0.75025, xgreg__max_depth=10 ...............\n",
            "[07:09:47] WARNING: /workspace/src/objective/regression_obj.cu:152: reg:linear is now deprecated in favor of reg:squarederror.\n",
            "[CV]  xgreg__learning_rate=0.75025, xgreg__max_depth=10, score=(train=0.991, test=0.990), total=   2.0s\n",
            "[CV] xgreg__learning_rate=0.75025, xgreg__max_depth=10 ...............\n",
            "[07:09:49] WARNING: /workspace/src/objective/regression_obj.cu:152: reg:linear is now deprecated in favor of reg:squarederror.\n",
            "[CV]  xgreg__learning_rate=0.75025, xgreg__max_depth=10, score=(train=0.991, test=0.988), total=   2.0s\n",
            "[CV] xgreg__learning_rate=0.75025, xgreg__max_depth=10 ...............\n",
            "[07:09:51] WARNING: /workspace/src/objective/regression_obj.cu:152: reg:linear is now deprecated in favor of reg:squarederror.\n",
            "[CV]  xgreg__learning_rate=0.75025, xgreg__max_depth=10, score=(train=0.991, test=0.990), total=   2.0s\n",
            "[CV] xgreg__learning_rate=0.75025, xgreg__max_depth=10 ...............\n",
            "[07:09:53] WARNING: /workspace/src/objective/regression_obj.cu:152: reg:linear is now deprecated in favor of reg:squarederror.\n",
            "[CV]  xgreg__learning_rate=0.75025, xgreg__max_depth=10, score=(train=0.991, test=0.989), total=   2.0s\n",
            "[CV] xgreg__learning_rate=0.75025, xgreg__max_depth=10 ...............\n",
            "[07:09:55] WARNING: /workspace/src/objective/regression_obj.cu:152: reg:linear is now deprecated in favor of reg:squarederror.\n",
            "[CV]  xgreg__learning_rate=0.75025, xgreg__max_depth=10, score=(train=0.991, test=0.990), total=   2.0s\n",
            "[CV] xgreg__learning_rate=0.75025, xgreg__max_depth=12 ...............\n",
            "[07:09:57] WARNING: /workspace/src/objective/regression_obj.cu:152: reg:linear is now deprecated in favor of reg:squarederror.\n",
            "[CV]  xgreg__learning_rate=0.75025, xgreg__max_depth=12, score=(train=0.991, test=0.990), total=   2.0s\n",
            "[CV] xgreg__learning_rate=0.75025, xgreg__max_depth=12 ...............\n",
            "[07:09:59] WARNING: /workspace/src/objective/regression_obj.cu:152: reg:linear is now deprecated in favor of reg:squarederror.\n",
            "[CV]  xgreg__learning_rate=0.75025, xgreg__max_depth=12, score=(train=0.991, test=0.990), total=   2.0s\n",
            "[CV] xgreg__learning_rate=0.75025, xgreg__max_depth=12 ...............\n",
            "[07:10:01] WARNING: /workspace/src/objective/regression_obj.cu:152: reg:linear is now deprecated in favor of reg:squarederror.\n",
            "[CV]  xgreg__learning_rate=0.75025, xgreg__max_depth=12, score=(train=0.991, test=0.989), total=   2.0s\n",
            "[CV] xgreg__learning_rate=0.75025, xgreg__max_depth=12 ...............\n",
            "[07:10:03] WARNING: /workspace/src/objective/regression_obj.cu:152: reg:linear is now deprecated in favor of reg:squarederror.\n",
            "[CV]  xgreg__learning_rate=0.75025, xgreg__max_depth=12, score=(train=0.991, test=0.987), total=   2.0s\n",
            "[CV] xgreg__learning_rate=0.75025, xgreg__max_depth=12 ...............\n",
            "[07:10:05] WARNING: /workspace/src/objective/regression_obj.cu:152: reg:linear is now deprecated in favor of reg:squarederror.\n",
            "[CV]  xgreg__learning_rate=0.75025, xgreg__max_depth=12, score=(train=0.991, test=0.990), total=   2.0s\n",
            "[CV] xgreg__learning_rate=0.75025, xgreg__max_depth=12 ...............\n",
            "[07:10:07] WARNING: /workspace/src/objective/regression_obj.cu:152: reg:linear is now deprecated in favor of reg:squarederror.\n",
            "[CV]  xgreg__learning_rate=0.75025, xgreg__max_depth=12, score=(train=0.991, test=0.987), total=   2.0s\n",
            "[CV] xgreg__learning_rate=0.75025, xgreg__max_depth=12 ...............\n",
            "[07:10:09] WARNING: /workspace/src/objective/regression_obj.cu:152: reg:linear is now deprecated in favor of reg:squarederror.\n",
            "[CV]  xgreg__learning_rate=0.75025, xgreg__max_depth=12, score=(train=0.991, test=0.990), total=   2.0s\n",
            "[CV] xgreg__learning_rate=0.75025, xgreg__max_depth=12 ...............\n",
            "[07:10:11] WARNING: /workspace/src/objective/regression_obj.cu:152: reg:linear is now deprecated in favor of reg:squarederror.\n",
            "[CV]  xgreg__learning_rate=0.75025, xgreg__max_depth=12, score=(train=0.991, test=0.990), total=   2.0s\n",
            "[CV] xgreg__learning_rate=0.75025, xgreg__max_depth=12 ...............\n",
            "[07:10:13] WARNING: /workspace/src/objective/regression_obj.cu:152: reg:linear is now deprecated in favor of reg:squarederror.\n",
            "[CV]  xgreg__learning_rate=0.75025, xgreg__max_depth=12, score=(train=0.991, test=0.988), total=   2.0s\n",
            "[CV] xgreg__learning_rate=0.75025, xgreg__max_depth=12 ...............\n",
            "[07:10:16] WARNING: /workspace/src/objective/regression_obj.cu:152: reg:linear is now deprecated in favor of reg:squarederror.\n",
            "[CV]  xgreg__learning_rate=0.75025, xgreg__max_depth=12, score=(train=0.991, test=0.990), total=   2.0s\n",
            "[CV] xgreg__learning_rate=0.75025, xgreg__max_depth=12 ...............\n",
            "[07:10:18] WARNING: /workspace/src/objective/regression_obj.cu:152: reg:linear is now deprecated in favor of reg:squarederror.\n",
            "[CV]  xgreg__learning_rate=0.75025, xgreg__max_depth=12, score=(train=0.991, test=0.989), total=   2.0s\n",
            "[CV] xgreg__learning_rate=0.75025, xgreg__max_depth=12 ...............\n",
            "[07:10:20] WARNING: /workspace/src/objective/regression_obj.cu:152: reg:linear is now deprecated in favor of reg:squarederror.\n",
            "[CV]  xgreg__learning_rate=0.75025, xgreg__max_depth=12, score=(train=0.991, test=0.990), total=   2.0s\n",
            "[CV] xgreg__learning_rate=1.0, xgreg__max_depth=2 ....................\n",
            "[07:10:22] WARNING: /workspace/src/objective/regression_obj.cu:152: reg:linear is now deprecated in favor of reg:squarederror.\n",
            "[CV]  xgreg__learning_rate=1.0, xgreg__max_depth=2, score=(train=0.991, test=0.990), total=   2.0s\n",
            "[CV] xgreg__learning_rate=1.0, xgreg__max_depth=2 ....................\n",
            "[07:10:24] WARNING: /workspace/src/objective/regression_obj.cu:152: reg:linear is now deprecated in favor of reg:squarederror.\n",
            "[CV]  xgreg__learning_rate=1.0, xgreg__max_depth=2, score=(train=0.991, test=0.990), total=   2.0s\n",
            "[CV] xgreg__learning_rate=1.0, xgreg__max_depth=2 ....................\n",
            "[07:10:26] WARNING: /workspace/src/objective/regression_obj.cu:152: reg:linear is now deprecated in favor of reg:squarederror.\n",
            "[CV]  xgreg__learning_rate=1.0, xgreg__max_depth=2, score=(train=0.991, test=0.989), total=   2.0s\n",
            "[CV] xgreg__learning_rate=1.0, xgreg__max_depth=2 ....................\n",
            "[07:10:28] WARNING: /workspace/src/objective/regression_obj.cu:152: reg:linear is now deprecated in favor of reg:squarederror.\n",
            "[CV]  xgreg__learning_rate=1.0, xgreg__max_depth=2, score=(train=0.991, test=0.987), total=   2.0s\n",
            "[CV] xgreg__learning_rate=1.0, xgreg__max_depth=2 ....................\n",
            "[07:10:30] WARNING: /workspace/src/objective/regression_obj.cu:152: reg:linear is now deprecated in favor of reg:squarederror.\n",
            "[CV]  xgreg__learning_rate=1.0, xgreg__max_depth=2, score=(train=0.991, test=0.990), total=   2.0s\n",
            "[CV] xgreg__learning_rate=1.0, xgreg__max_depth=2 ....................\n",
            "[07:10:32] WARNING: /workspace/src/objective/regression_obj.cu:152: reg:linear is now deprecated in favor of reg:squarederror.\n",
            "[CV]  xgreg__learning_rate=1.0, xgreg__max_depth=2, score=(train=0.991, test=0.987), total=   2.0s\n",
            "[CV] xgreg__learning_rate=1.0, xgreg__max_depth=2 ....................\n",
            "[07:10:34] WARNING: /workspace/src/objective/regression_obj.cu:152: reg:linear is now deprecated in favor of reg:squarederror.\n",
            "[CV]  xgreg__learning_rate=1.0, xgreg__max_depth=2, score=(train=0.991, test=0.990), total=   2.0s\n",
            "[CV] xgreg__learning_rate=1.0, xgreg__max_depth=2 ....................\n",
            "[07:10:36] WARNING: /workspace/src/objective/regression_obj.cu:152: reg:linear is now deprecated in favor of reg:squarederror.\n",
            "[CV]  xgreg__learning_rate=1.0, xgreg__max_depth=2, score=(train=0.991, test=0.990), total=   2.0s\n",
            "[CV] xgreg__learning_rate=1.0, xgreg__max_depth=2 ....................\n",
            "[07:10:38] WARNING: /workspace/src/objective/regression_obj.cu:152: reg:linear is now deprecated in favor of reg:squarederror.\n",
            "[CV]  xgreg__learning_rate=1.0, xgreg__max_depth=2, score=(train=0.991, test=0.988), total=   2.0s\n",
            "[CV] xgreg__learning_rate=1.0, xgreg__max_depth=2 ....................\n",
            "[07:10:40] WARNING: /workspace/src/objective/regression_obj.cu:152: reg:linear is now deprecated in favor of reg:squarederror.\n",
            "[CV]  xgreg__learning_rate=1.0, xgreg__max_depth=2, score=(train=0.991, test=0.990), total=   2.0s\n",
            "[CV] xgreg__learning_rate=1.0, xgreg__max_depth=2 ....................\n",
            "[07:10:42] WARNING: /workspace/src/objective/regression_obj.cu:152: reg:linear is now deprecated in favor of reg:squarederror.\n",
            "[CV]  xgreg__learning_rate=1.0, xgreg__max_depth=2, score=(train=0.991, test=0.989), total=   2.0s\n",
            "[CV] xgreg__learning_rate=1.0, xgreg__max_depth=2 ....................\n",
            "[07:10:44] WARNING: /workspace/src/objective/regression_obj.cu:152: reg:linear is now deprecated in favor of reg:squarederror.\n",
            "[CV]  xgreg__learning_rate=1.0, xgreg__max_depth=2, score=(train=0.991, test=0.990), total=   2.0s\n",
            "[CV] xgreg__learning_rate=1.0, xgreg__max_depth=3 ....................\n",
            "[07:10:46] WARNING: /workspace/src/objective/regression_obj.cu:152: reg:linear is now deprecated in favor of reg:squarederror.\n",
            "[CV]  xgreg__learning_rate=1.0, xgreg__max_depth=3, score=(train=0.991, test=0.990), total=   2.0s\n",
            "[CV] xgreg__learning_rate=1.0, xgreg__max_depth=3 ....................\n",
            "[07:10:48] WARNING: /workspace/src/objective/regression_obj.cu:152: reg:linear is now deprecated in favor of reg:squarederror.\n",
            "[CV]  xgreg__learning_rate=1.0, xgreg__max_depth=3, score=(train=0.991, test=0.990), total=   2.0s\n",
            "[CV] xgreg__learning_rate=1.0, xgreg__max_depth=3 ....................\n",
            "[07:10:51] WARNING: /workspace/src/objective/regression_obj.cu:152: reg:linear is now deprecated in favor of reg:squarederror.\n",
            "[CV]  xgreg__learning_rate=1.0, xgreg__max_depth=3, score=(train=0.991, test=0.989), total=   2.0s\n",
            "[CV] xgreg__learning_rate=1.0, xgreg__max_depth=3 ....................\n",
            "[07:10:53] WARNING: /workspace/src/objective/regression_obj.cu:152: reg:linear is now deprecated in favor of reg:squarederror.\n",
            "[CV]  xgreg__learning_rate=1.0, xgreg__max_depth=3, score=(train=0.991, test=0.987), total=   2.0s\n",
            "[CV] xgreg__learning_rate=1.0, xgreg__max_depth=3 ....................\n",
            "[07:10:55] WARNING: /workspace/src/objective/regression_obj.cu:152: reg:linear is now deprecated in favor of reg:squarederror.\n",
            "[CV]  xgreg__learning_rate=1.0, xgreg__max_depth=3, score=(train=0.991, test=0.990), total=   2.0s\n",
            "[CV] xgreg__learning_rate=1.0, xgreg__max_depth=3 ....................\n",
            "[07:10:57] WARNING: /workspace/src/objective/regression_obj.cu:152: reg:linear is now deprecated in favor of reg:squarederror.\n",
            "[CV]  xgreg__learning_rate=1.0, xgreg__max_depth=3, score=(train=0.991, test=0.987), total=   2.0s\n",
            "[CV] xgreg__learning_rate=1.0, xgreg__max_depth=3 ....................\n",
            "[07:10:59] WARNING: /workspace/src/objective/regression_obj.cu:152: reg:linear is now deprecated in favor of reg:squarederror.\n",
            "[CV]  xgreg__learning_rate=1.0, xgreg__max_depth=3, score=(train=0.991, test=0.990), total=   2.0s\n",
            "[CV] xgreg__learning_rate=1.0, xgreg__max_depth=3 ....................\n",
            "[07:11:01] WARNING: /workspace/src/objective/regression_obj.cu:152: reg:linear is now deprecated in favor of reg:squarederror.\n",
            "[CV]  xgreg__learning_rate=1.0, xgreg__max_depth=3, score=(train=0.991, test=0.990), total=   2.0s\n",
            "[CV] xgreg__learning_rate=1.0, xgreg__max_depth=3 ....................\n",
            "[07:11:03] WARNING: /workspace/src/objective/regression_obj.cu:152: reg:linear is now deprecated in favor of reg:squarederror.\n",
            "[CV]  xgreg__learning_rate=1.0, xgreg__max_depth=3, score=(train=0.991, test=0.988), total=   2.0s\n",
            "[CV] xgreg__learning_rate=1.0, xgreg__max_depth=3 ....................\n",
            "[07:11:05] WARNING: /workspace/src/objective/regression_obj.cu:152: reg:linear is now deprecated in favor of reg:squarederror.\n",
            "[CV]  xgreg__learning_rate=1.0, xgreg__max_depth=3, score=(train=0.991, test=0.990), total=   2.0s\n",
            "[CV] xgreg__learning_rate=1.0, xgreg__max_depth=3 ....................\n",
            "[07:11:07] WARNING: /workspace/src/objective/regression_obj.cu:152: reg:linear is now deprecated in favor of reg:squarederror.\n",
            "[CV]  xgreg__learning_rate=1.0, xgreg__max_depth=3, score=(train=0.991, test=0.989), total=   2.0s\n",
            "[CV] xgreg__learning_rate=1.0, xgreg__max_depth=3 ....................\n",
            "[07:11:09] WARNING: /workspace/src/objective/regression_obj.cu:152: reg:linear is now deprecated in favor of reg:squarederror.\n",
            "[CV]  xgreg__learning_rate=1.0, xgreg__max_depth=3, score=(train=0.991, test=0.990), total=   2.0s\n",
            "[CV] xgreg__learning_rate=1.0, xgreg__max_depth=5 ....................\n",
            "[07:11:11] WARNING: /workspace/src/objective/regression_obj.cu:152: reg:linear is now deprecated in favor of reg:squarederror.\n",
            "[CV]  xgreg__learning_rate=1.0, xgreg__max_depth=5, score=(train=0.991, test=0.990), total=   2.0s\n",
            "[CV] xgreg__learning_rate=1.0, xgreg__max_depth=5 ....................\n",
            "[07:11:13] WARNING: /workspace/src/objective/regression_obj.cu:152: reg:linear is now deprecated in favor of reg:squarederror.\n",
            "[CV]  xgreg__learning_rate=1.0, xgreg__max_depth=5, score=(train=0.991, test=0.990), total=   2.0s\n",
            "[CV] xgreg__learning_rate=1.0, xgreg__max_depth=5 ....................\n",
            "[07:11:15] WARNING: /workspace/src/objective/regression_obj.cu:152: reg:linear is now deprecated in favor of reg:squarederror.\n",
            "[CV]  xgreg__learning_rate=1.0, xgreg__max_depth=5, score=(train=0.991, test=0.989), total=   2.0s\n",
            "[CV] xgreg__learning_rate=1.0, xgreg__max_depth=5 ....................\n",
            "[07:11:17] WARNING: /workspace/src/objective/regression_obj.cu:152: reg:linear is now deprecated in favor of reg:squarederror.\n",
            "[CV]  xgreg__learning_rate=1.0, xgreg__max_depth=5, score=(train=0.991, test=0.987), total=   2.0s\n",
            "[CV] xgreg__learning_rate=1.0, xgreg__max_depth=5 ....................\n",
            "[07:11:20] WARNING: /workspace/src/objective/regression_obj.cu:152: reg:linear is now deprecated in favor of reg:squarederror.\n",
            "[CV]  xgreg__learning_rate=1.0, xgreg__max_depth=5, score=(train=0.991, test=0.990), total=   2.0s\n",
            "[CV] xgreg__learning_rate=1.0, xgreg__max_depth=5 ....................\n",
            "[07:11:22] WARNING: /workspace/src/objective/regression_obj.cu:152: reg:linear is now deprecated in favor of reg:squarederror.\n",
            "[CV]  xgreg__learning_rate=1.0, xgreg__max_depth=5, score=(train=0.991, test=0.987), total=   2.0s\n",
            "[CV] xgreg__learning_rate=1.0, xgreg__max_depth=5 ....................\n",
            "[07:11:24] WARNING: /workspace/src/objective/regression_obj.cu:152: reg:linear is now deprecated in favor of reg:squarederror.\n",
            "[CV]  xgreg__learning_rate=1.0, xgreg__max_depth=5, score=(train=0.991, test=0.990), total=   2.0s\n",
            "[CV] xgreg__learning_rate=1.0, xgreg__max_depth=5 ....................\n",
            "[07:11:26] WARNING: /workspace/src/objective/regression_obj.cu:152: reg:linear is now deprecated in favor of reg:squarederror.\n",
            "[CV]  xgreg__learning_rate=1.0, xgreg__max_depth=5, score=(train=0.991, test=0.990), total=   2.0s\n",
            "[CV] xgreg__learning_rate=1.0, xgreg__max_depth=5 ....................\n",
            "[07:11:28] WARNING: /workspace/src/objective/regression_obj.cu:152: reg:linear is now deprecated in favor of reg:squarederror.\n",
            "[CV]  xgreg__learning_rate=1.0, xgreg__max_depth=5, score=(train=0.991, test=0.988), total=   2.0s\n",
            "[CV] xgreg__learning_rate=1.0, xgreg__max_depth=5 ....................\n",
            "[07:11:30] WARNING: /workspace/src/objective/regression_obj.cu:152: reg:linear is now deprecated in favor of reg:squarederror.\n",
            "[CV]  xgreg__learning_rate=1.0, xgreg__max_depth=5, score=(train=0.991, test=0.990), total=   2.0s\n",
            "[CV] xgreg__learning_rate=1.0, xgreg__max_depth=5 ....................\n",
            "[07:11:32] WARNING: /workspace/src/objective/regression_obj.cu:152: reg:linear is now deprecated in favor of reg:squarederror.\n",
            "[CV]  xgreg__learning_rate=1.0, xgreg__max_depth=5, score=(train=0.991, test=0.989), total=   2.0s\n",
            "[CV] xgreg__learning_rate=1.0, xgreg__max_depth=5 ....................\n",
            "[07:11:34] WARNING: /workspace/src/objective/regression_obj.cu:152: reg:linear is now deprecated in favor of reg:squarederror.\n",
            "[CV]  xgreg__learning_rate=1.0, xgreg__max_depth=5, score=(train=0.991, test=0.990), total=   2.0s\n",
            "[CV] xgreg__learning_rate=1.0, xgreg__max_depth=7 ....................\n",
            "[07:11:36] WARNING: /workspace/src/objective/regression_obj.cu:152: reg:linear is now deprecated in favor of reg:squarederror.\n",
            "[CV]  xgreg__learning_rate=1.0, xgreg__max_depth=7, score=(train=0.991, test=0.990), total=   2.0s\n",
            "[CV] xgreg__learning_rate=1.0, xgreg__max_depth=7 ....................\n",
            "[07:11:38] WARNING: /workspace/src/objective/regression_obj.cu:152: reg:linear is now deprecated in favor of reg:squarederror.\n",
            "[CV]  xgreg__learning_rate=1.0, xgreg__max_depth=7, score=(train=0.991, test=0.990), total=   2.0s\n",
            "[CV] xgreg__learning_rate=1.0, xgreg__max_depth=7 ....................\n",
            "[07:11:40] WARNING: /workspace/src/objective/regression_obj.cu:152: reg:linear is now deprecated in favor of reg:squarederror.\n",
            "[CV]  xgreg__learning_rate=1.0, xgreg__max_depth=7, score=(train=0.991, test=0.989), total=   2.0s\n",
            "[CV] xgreg__learning_rate=1.0, xgreg__max_depth=7 ....................\n",
            "[07:11:42] WARNING: /workspace/src/objective/regression_obj.cu:152: reg:linear is now deprecated in favor of reg:squarederror.\n",
            "[CV]  xgreg__learning_rate=1.0, xgreg__max_depth=7, score=(train=0.991, test=0.987), total=   2.0s\n",
            "[CV] xgreg__learning_rate=1.0, xgreg__max_depth=7 ....................\n",
            "[07:11:44] WARNING: /workspace/src/objective/regression_obj.cu:152: reg:linear is now deprecated in favor of reg:squarederror.\n",
            "[CV]  xgreg__learning_rate=1.0, xgreg__max_depth=7, score=(train=0.991, test=0.990), total=   2.0s\n",
            "[CV] xgreg__learning_rate=1.0, xgreg__max_depth=7 ....................\n",
            "[07:11:46] WARNING: /workspace/src/objective/regression_obj.cu:152: reg:linear is now deprecated in favor of reg:squarederror.\n",
            "[CV]  xgreg__learning_rate=1.0, xgreg__max_depth=7, score=(train=0.991, test=0.987), total=   2.0s\n",
            "[CV] xgreg__learning_rate=1.0, xgreg__max_depth=7 ....................\n",
            "[07:11:48] WARNING: /workspace/src/objective/regression_obj.cu:152: reg:linear is now deprecated in favor of reg:squarederror.\n",
            "[CV]  xgreg__learning_rate=1.0, xgreg__max_depth=7, score=(train=0.991, test=0.990), total=   2.0s\n",
            "[CV] xgreg__learning_rate=1.0, xgreg__max_depth=7 ....................\n",
            "[07:11:50] WARNING: /workspace/src/objective/regression_obj.cu:152: reg:linear is now deprecated in favor of reg:squarederror.\n",
            "[CV]  xgreg__learning_rate=1.0, xgreg__max_depth=7, score=(train=0.991, test=0.990), total=   2.0s\n",
            "[CV] xgreg__learning_rate=1.0, xgreg__max_depth=7 ....................\n",
            "[07:11:53] WARNING: /workspace/src/objective/regression_obj.cu:152: reg:linear is now deprecated in favor of reg:squarederror.\n",
            "[CV]  xgreg__learning_rate=1.0, xgreg__max_depth=7, score=(train=0.991, test=0.988), total=   2.0s\n",
            "[CV] xgreg__learning_rate=1.0, xgreg__max_depth=7 ....................\n",
            "[07:11:55] WARNING: /workspace/src/objective/regression_obj.cu:152: reg:linear is now deprecated in favor of reg:squarederror.\n",
            "[CV]  xgreg__learning_rate=1.0, xgreg__max_depth=7, score=(train=0.991, test=0.990), total=   2.0s\n",
            "[CV] xgreg__learning_rate=1.0, xgreg__max_depth=7 ....................\n",
            "[07:11:57] WARNING: /workspace/src/objective/regression_obj.cu:152: reg:linear is now deprecated in favor of reg:squarederror.\n",
            "[CV]  xgreg__learning_rate=1.0, xgreg__max_depth=7, score=(train=0.991, test=0.989), total=   2.0s\n",
            "[CV] xgreg__learning_rate=1.0, xgreg__max_depth=7 ....................\n",
            "[07:11:59] WARNING: /workspace/src/objective/regression_obj.cu:152: reg:linear is now deprecated in favor of reg:squarederror.\n",
            "[CV]  xgreg__learning_rate=1.0, xgreg__max_depth=7, score=(train=0.991, test=0.990), total=   2.0s\n",
            "[CV] xgreg__learning_rate=1.0, xgreg__max_depth=8 ....................\n",
            "[07:12:01] WARNING: /workspace/src/objective/regression_obj.cu:152: reg:linear is now deprecated in favor of reg:squarederror.\n",
            "[CV]  xgreg__learning_rate=1.0, xgreg__max_depth=8, score=(train=0.991, test=0.990), total=   2.0s\n",
            "[CV] xgreg__learning_rate=1.0, xgreg__max_depth=8 ....................\n",
            "[07:12:03] WARNING: /workspace/src/objective/regression_obj.cu:152: reg:linear is now deprecated in favor of reg:squarederror.\n",
            "[CV]  xgreg__learning_rate=1.0, xgreg__max_depth=8, score=(train=0.991, test=0.990), total=   2.0s\n",
            "[CV] xgreg__learning_rate=1.0, xgreg__max_depth=8 ....................\n",
            "[07:12:05] WARNING: /workspace/src/objective/regression_obj.cu:152: reg:linear is now deprecated in favor of reg:squarederror.\n",
            "[CV]  xgreg__learning_rate=1.0, xgreg__max_depth=8, score=(train=0.991, test=0.989), total=   2.0s\n",
            "[CV] xgreg__learning_rate=1.0, xgreg__max_depth=8 ....................\n",
            "[07:12:07] WARNING: /workspace/src/objective/regression_obj.cu:152: reg:linear is now deprecated in favor of reg:squarederror.\n",
            "[CV]  xgreg__learning_rate=1.0, xgreg__max_depth=8, score=(train=0.991, test=0.987), total=   2.0s\n",
            "[CV] xgreg__learning_rate=1.0, xgreg__max_depth=8 ....................\n",
            "[07:12:09] WARNING: /workspace/src/objective/regression_obj.cu:152: reg:linear is now deprecated in favor of reg:squarederror.\n",
            "[CV]  xgreg__learning_rate=1.0, xgreg__max_depth=8, score=(train=0.991, test=0.990), total=   2.0s\n",
            "[CV] xgreg__learning_rate=1.0, xgreg__max_depth=8 ....................\n",
            "[07:12:11] WARNING: /workspace/src/objective/regression_obj.cu:152: reg:linear is now deprecated in favor of reg:squarederror.\n",
            "[CV]  xgreg__learning_rate=1.0, xgreg__max_depth=8, score=(train=0.991, test=0.987), total=   2.0s\n",
            "[CV] xgreg__learning_rate=1.0, xgreg__max_depth=8 ....................\n",
            "[07:12:13] WARNING: /workspace/src/objective/regression_obj.cu:152: reg:linear is now deprecated in favor of reg:squarederror.\n",
            "[CV]  xgreg__learning_rate=1.0, xgreg__max_depth=8, score=(train=0.991, test=0.990), total=   2.0s\n",
            "[CV] xgreg__learning_rate=1.0, xgreg__max_depth=8 ....................\n",
            "[07:12:15] WARNING: /workspace/src/objective/regression_obj.cu:152: reg:linear is now deprecated in favor of reg:squarederror.\n",
            "[CV]  xgreg__learning_rate=1.0, xgreg__max_depth=8, score=(train=0.991, test=0.990), total=   2.0s\n",
            "[CV] xgreg__learning_rate=1.0, xgreg__max_depth=8 ....................\n",
            "[07:12:17] WARNING: /workspace/src/objective/regression_obj.cu:152: reg:linear is now deprecated in favor of reg:squarederror.\n",
            "[CV]  xgreg__learning_rate=1.0, xgreg__max_depth=8, score=(train=0.991, test=0.988), total=   2.0s\n",
            "[CV] xgreg__learning_rate=1.0, xgreg__max_depth=8 ....................\n",
            "[07:12:19] WARNING: /workspace/src/objective/regression_obj.cu:152: reg:linear is now deprecated in favor of reg:squarederror.\n",
            "[CV]  xgreg__learning_rate=1.0, xgreg__max_depth=8, score=(train=0.991, test=0.990), total=   2.0s\n",
            "[CV] xgreg__learning_rate=1.0, xgreg__max_depth=8 ....................\n",
            "[07:12:21] WARNING: /workspace/src/objective/regression_obj.cu:152: reg:linear is now deprecated in favor of reg:squarederror.\n",
            "[CV]  xgreg__learning_rate=1.0, xgreg__max_depth=8, score=(train=0.991, test=0.989), total=   2.0s\n",
            "[CV] xgreg__learning_rate=1.0, xgreg__max_depth=8 ....................\n",
            "[07:12:23] WARNING: /workspace/src/objective/regression_obj.cu:152: reg:linear is now deprecated in favor of reg:squarederror.\n",
            "[CV]  xgreg__learning_rate=1.0, xgreg__max_depth=8, score=(train=0.991, test=0.990), total=   2.0s\n",
            "[CV] xgreg__learning_rate=1.0, xgreg__max_depth=10 ...................\n",
            "[07:12:26] WARNING: /workspace/src/objective/regression_obj.cu:152: reg:linear is now deprecated in favor of reg:squarederror.\n",
            "[CV]  xgreg__learning_rate=1.0, xgreg__max_depth=10, score=(train=0.991, test=0.990), total=   2.0s\n",
            "[CV] xgreg__learning_rate=1.0, xgreg__max_depth=10 ...................\n",
            "[07:12:28] WARNING: /workspace/src/objective/regression_obj.cu:152: reg:linear is now deprecated in favor of reg:squarederror.\n",
            "[CV]  xgreg__learning_rate=1.0, xgreg__max_depth=10, score=(train=0.991, test=0.990), total=   2.0s\n",
            "[CV] xgreg__learning_rate=1.0, xgreg__max_depth=10 ...................\n",
            "[07:12:30] WARNING: /workspace/src/objective/regression_obj.cu:152: reg:linear is now deprecated in favor of reg:squarederror.\n",
            "[CV]  xgreg__learning_rate=1.0, xgreg__max_depth=10, score=(train=0.991, test=0.989), total=   2.0s\n",
            "[CV] xgreg__learning_rate=1.0, xgreg__max_depth=10 ...................\n",
            "[07:12:32] WARNING: /workspace/src/objective/regression_obj.cu:152: reg:linear is now deprecated in favor of reg:squarederror.\n",
            "[CV]  xgreg__learning_rate=1.0, xgreg__max_depth=10, score=(train=0.991, test=0.987), total=   2.0s\n",
            "[CV] xgreg__learning_rate=1.0, xgreg__max_depth=10 ...................\n",
            "[07:12:34] WARNING: /workspace/src/objective/regression_obj.cu:152: reg:linear is now deprecated in favor of reg:squarederror.\n",
            "[CV]  xgreg__learning_rate=1.0, xgreg__max_depth=10, score=(train=0.991, test=0.990), total=   2.0s\n",
            "[CV] xgreg__learning_rate=1.0, xgreg__max_depth=10 ...................\n",
            "[07:12:36] WARNING: /workspace/src/objective/regression_obj.cu:152: reg:linear is now deprecated in favor of reg:squarederror.\n",
            "[CV]  xgreg__learning_rate=1.0, xgreg__max_depth=10, score=(train=0.991, test=0.987), total=   2.0s\n",
            "[CV] xgreg__learning_rate=1.0, xgreg__max_depth=10 ...................\n",
            "[07:12:38] WARNING: /workspace/src/objective/regression_obj.cu:152: reg:linear is now deprecated in favor of reg:squarederror.\n",
            "[CV]  xgreg__learning_rate=1.0, xgreg__max_depth=10, score=(train=0.991, test=0.990), total=   2.0s\n",
            "[CV] xgreg__learning_rate=1.0, xgreg__max_depth=10 ...................\n",
            "[07:12:40] WARNING: /workspace/src/objective/regression_obj.cu:152: reg:linear is now deprecated in favor of reg:squarederror.\n",
            "[CV]  xgreg__learning_rate=1.0, xgreg__max_depth=10, score=(train=0.991, test=0.990), total=   2.0s\n",
            "[CV] xgreg__learning_rate=1.0, xgreg__max_depth=10 ...................\n",
            "[07:12:42] WARNING: /workspace/src/objective/regression_obj.cu:152: reg:linear is now deprecated in favor of reg:squarederror.\n",
            "[CV]  xgreg__learning_rate=1.0, xgreg__max_depth=10, score=(train=0.991, test=0.988), total=   2.0s\n",
            "[CV] xgreg__learning_rate=1.0, xgreg__max_depth=10 ...................\n",
            "[07:12:44] WARNING: /workspace/src/objective/regression_obj.cu:152: reg:linear is now deprecated in favor of reg:squarederror.\n",
            "[CV]  xgreg__learning_rate=1.0, xgreg__max_depth=10, score=(train=0.991, test=0.990), total=   2.0s\n",
            "[CV] xgreg__learning_rate=1.0, xgreg__max_depth=10 ...................\n",
            "[07:12:46] WARNING: /workspace/src/objective/regression_obj.cu:152: reg:linear is now deprecated in favor of reg:squarederror.\n",
            "[CV]  xgreg__learning_rate=1.0, xgreg__max_depth=10, score=(train=0.991, test=0.989), total=   2.0s\n",
            "[CV] xgreg__learning_rate=1.0, xgreg__max_depth=10 ...................\n",
            "[07:12:48] WARNING: /workspace/src/objective/regression_obj.cu:152: reg:linear is now deprecated in favor of reg:squarederror.\n",
            "[CV]  xgreg__learning_rate=1.0, xgreg__max_depth=10, score=(train=0.991, test=0.990), total=   2.0s\n",
            "[CV] xgreg__learning_rate=1.0, xgreg__max_depth=12 ...................\n",
            "[07:12:50] WARNING: /workspace/src/objective/regression_obj.cu:152: reg:linear is now deprecated in favor of reg:squarederror.\n",
            "[CV]  xgreg__learning_rate=1.0, xgreg__max_depth=12, score=(train=0.991, test=0.990), total=   2.0s\n",
            "[CV] xgreg__learning_rate=1.0, xgreg__max_depth=12 ...................\n",
            "[07:12:52] WARNING: /workspace/src/objective/regression_obj.cu:152: reg:linear is now deprecated in favor of reg:squarederror.\n",
            "[CV]  xgreg__learning_rate=1.0, xgreg__max_depth=12, score=(train=0.991, test=0.990), total=   2.0s\n",
            "[CV] xgreg__learning_rate=1.0, xgreg__max_depth=12 ...................\n",
            "[07:12:54] WARNING: /workspace/src/objective/regression_obj.cu:152: reg:linear is now deprecated in favor of reg:squarederror.\n",
            "[CV]  xgreg__learning_rate=1.0, xgreg__max_depth=12, score=(train=0.991, test=0.989), total=   2.0s\n",
            "[CV] xgreg__learning_rate=1.0, xgreg__max_depth=12 ...................\n",
            "[07:12:56] WARNING: /workspace/src/objective/regression_obj.cu:152: reg:linear is now deprecated in favor of reg:squarederror.\n",
            "[CV]  xgreg__learning_rate=1.0, xgreg__max_depth=12, score=(train=0.991, test=0.987), total=   2.0s\n",
            "[CV] xgreg__learning_rate=1.0, xgreg__max_depth=12 ...................\n",
            "[07:12:58] WARNING: /workspace/src/objective/regression_obj.cu:152: reg:linear is now deprecated in favor of reg:squarederror.\n",
            "[CV]  xgreg__learning_rate=1.0, xgreg__max_depth=12, score=(train=0.991, test=0.990), total=   2.0s\n",
            "[CV] xgreg__learning_rate=1.0, xgreg__max_depth=12 ...................\n",
            "[07:13:01] WARNING: /workspace/src/objective/regression_obj.cu:152: reg:linear is now deprecated in favor of reg:squarederror.\n",
            "[CV]  xgreg__learning_rate=1.0, xgreg__max_depth=12, score=(train=0.991, test=0.987), total=   2.0s\n",
            "[CV] xgreg__learning_rate=1.0, xgreg__max_depth=12 ...................\n",
            "[07:13:03] WARNING: /workspace/src/objective/regression_obj.cu:152: reg:linear is now deprecated in favor of reg:squarederror.\n",
            "[CV]  xgreg__learning_rate=1.0, xgreg__max_depth=12, score=(train=0.991, test=0.990), total=   2.0s\n",
            "[CV] xgreg__learning_rate=1.0, xgreg__max_depth=12 ...................\n",
            "[07:13:05] WARNING: /workspace/src/objective/regression_obj.cu:152: reg:linear is now deprecated in favor of reg:squarederror.\n",
            "[CV]  xgreg__learning_rate=1.0, xgreg__max_depth=12, score=(train=0.991, test=0.990), total=   2.0s\n",
            "[CV] xgreg__learning_rate=1.0, xgreg__max_depth=12 ...................\n",
            "[07:13:07] WARNING: /workspace/src/objective/regression_obj.cu:152: reg:linear is now deprecated in favor of reg:squarederror.\n",
            "[CV]  xgreg__learning_rate=1.0, xgreg__max_depth=12, score=(train=0.991, test=0.988), total=   2.0s\n",
            "[CV] xgreg__learning_rate=1.0, xgreg__max_depth=12 ...................\n",
            "[07:13:09] WARNING: /workspace/src/objective/regression_obj.cu:152: reg:linear is now deprecated in favor of reg:squarederror.\n",
            "[CV]  xgreg__learning_rate=1.0, xgreg__max_depth=12, score=(train=0.991, test=0.990), total=   2.0s\n",
            "[CV] xgreg__learning_rate=1.0, xgreg__max_depth=12 ...................\n",
            "[07:13:11] WARNING: /workspace/src/objective/regression_obj.cu:152: reg:linear is now deprecated in favor of reg:squarederror.\n",
            "[CV]  xgreg__learning_rate=1.0, xgreg__max_depth=12, score=(train=0.991, test=0.989), total=   2.0s\n",
            "[CV] xgreg__learning_rate=1.0, xgreg__max_depth=12 ...................\n",
            "[07:13:13] WARNING: /workspace/src/objective/regression_obj.cu:152: reg:linear is now deprecated in favor of reg:squarederror.\n",
            "[CV]  xgreg__learning_rate=1.0, xgreg__max_depth=12, score=(train=0.991, test=0.990), total=   2.0s\n",
            "[Parallel(n_jobs=1)]: Done 420 out of 420 | elapsed: 14.4min finished\n",
            "[07:13:15] WARNING: /workspace/src/objective/regression_obj.cu:152: reg:linear is now deprecated in favor of reg:squarederror.\n"
          ],
          "name": "stdout"
        },
        {
          "output_type": "execute_result",
          "data": {
            "text/plain": [
              "GridSearchCV(cv=ShuffleSplit(n_splits=12, random_state=5, test_size=0.2, train_size=None),\n",
              "             error_score=nan,\n",
              "             estimator=XGBRegressor(base_score=0.5, booster='gbtree',\n",
              "                                    colsample_bylevel=1, colsample_bynode=1,\n",
              "                                    colsample_bytree=1, gamma=0,\n",
              "                                    importance_type='gain', learning_rate=0.1,\n",
              "                                    max_delta_step=0, max_depth=3,\n",
              "                                    min_child_weight=1, missing=None,\n",
              "                                    n_estimators=100, n_jobs=...\n",
              "                                    objective='reg:linear', random_state=5,\n",
              "                                    reg_alpha=0, reg_lambda=1,\n",
              "                                    scale_pos_weight=1, seed=None, silent=None,\n",
              "                                    subsample=1, verbosity=1),\n",
              "             iid='deprecated', n_jobs=None,\n",
              "             param_grid={'xgreg__learning_rate': array([0.001  , 0.25075, 0.5005 , 0.75025, 1.     ]),\n",
              "                         'xgreg__max_depth': array([ 2,  3,  5,  7,  8, 10, 12])},\n",
              "             pre_dispatch='2*n_jobs', refit=True, return_train_score=True,\n",
              "             scoring='r2', verbose=100)"
            ]
          },
          "metadata": {
            "tags": []
          },
          "execution_count": 112
        }
      ]
    },
    {
      "cell_type": "code",
      "metadata": {
        "colab": {
          "base_uri": "https://localhost:8080/"
        },
        "id": "mr0q7YQpnY0Q",
        "outputId": "15653873-704b-4961-bdac-ba6a3ef2477e"
      },
      "source": [
        "print(f\"The Best GridSearchCV Score:{grid.best_score_}\\n\",\n",
        "       \"_\"*100,\n",
        "      f\"\\n\\nThe Best Parameters are:{grid.best_params_}\")"
      ],
      "execution_count": 122,
      "outputs": [
        {
          "output_type": "stream",
          "text": [
            "The Best GridSearchCV Score:0.9891575722986358\n",
            " ____________________________________________________________________________________________________ \n",
            "\n",
            "The Best Parameters are:{'xgreg__learning_rate': 0.001, 'xgreg__max_depth': 2}\n"
          ],
          "name": "stdout"
        }
      ]
    },
    {
      "cell_type": "code",
      "metadata": {
        "id": "sRjHHPEVorP7"
      },
      "source": [
        "res_feat=pd.Series(xgreg.feature_importances_,index=X.columns)"
      ],
      "execution_count": 125,
      "outputs": []
    },
    {
      "cell_type": "markdown",
      "metadata": {
        "id": "0mB8A1K9ueoJ"
      },
      "source": [
        "### Feature Importance plot"
      ]
    },
    {
      "cell_type": "code",
      "metadata": {
        "colab": {
          "base_uri": "https://localhost:8080/",
          "height": 826
        },
        "id": "af3z8dhnpRFG",
        "outputId": "b3ed7b83-bc63-4dce-814c-d731cc672184"
      },
      "source": [
        "plt.figure(figsize=(12,14))\n",
        "res_feat.plot(kind='barh')"
      ],
      "execution_count": 127,
      "outputs": [
        {
          "output_type": "execute_result",
          "data": {
            "text/plain": [
              "<matplotlib.axes._subplots.AxesSubplot at 0x7feb614e2710>"
            ]
          },
          "metadata": {
            "tags": []
          },
          "execution_count": 127
        },
        {
          "output_type": "display_data",
          "data": {
            "image/png": "[encoded data removed]",
            "text/plain": [
              "<Figure size 864x1008 with 1 Axes>"
            ]
          },
          "metadata": {
            "tags": [],
            "needs_background": "light"
          }
        }
      ]
    },
    {
      "cell_type": "code",
      "metadata": {
        "id": "puxMAHhGx23p"
      },
      "source": [
        "cv_results=pd.DataFrame(grid.cv_results_)"
      ],
      "execution_count": 197,
      "outputs": []
    },
    {
      "cell_type": "markdown",
      "metadata": {
        "id": "9xOKRfIdx8o6"
      },
      "source": [
        "### Cross-validation train and test error"
      ]
    },
    {
      "cell_type": "code",
      "metadata": {
        "colab": {
          "base_uri": "https://localhost:8080/",
          "height": 501
        },
        "id": "yEfxH5LyySgk",
        "outputId": "f2e50afc-b89e-4a84-b45b-b90c93375e25"
      },
      "source": [
        "plt.figure(figsize=(10,8))\n",
        "plt.plot(cv_results['mean_train_score'],label='train_score')\n",
        "plt.plot(cv_results['mean_test_score'],label='test_score')\n",
        "plt.legend()"
      ],
      "execution_count": 210,
      "outputs": [
        {
          "output_type": "execute_result",
          "data": {
            "text/plain": [
              "<matplotlib.legend.Legend at 0x7feb611284d0>"
            ]
          },
          "metadata": {
            "tags": []
          },
          "execution_count": 210
        },
        {
          "output_type": "display_data",
          "data": {
            "image/png": "[encoded data removed]",
            "text/plain": [
              "<Figure size 720x576 with 1 Axes>"
            ]
          },
          "metadata": {
            "tags": [],
            "needs_background": "light"
          }
        }
      ]
    },
    {
      "cell_type": "code",
      "metadata": {
        "colab": {
          "base_uri": "https://localhost:8080/",
          "height": 388
        },
        "id": "9qzHdQGZ0Odl",
        "outputId": "ccb1673e-4da6-400f-f049-fe931d146d12"
      },
      "source": [
        "cv_results.head()"
      ],
      "execution_count": 211,
      "outputs": [
        {
          "output_type": "execute_result",
          "data": {
            "text/html": [
              "<div>\n",
              "<style scoped>\n",
              "    .dataframe tbody tr th:only-of-type {\n",
              "        vertical-align: middle;\n",
              "    }\n",
              "\n",
              "    .dataframe tbody tr th {\n",
              "        vertical-align: top;\n",
              "    }\n",
              "\n",
              "    .dataframe thead th {\n",
              "        text-align: right;\n",
              "    }\n",
              "</style>\n",
              "<table border=\"1\" class=\"dataframe\">\n",
              "  <thead>\n",
              "    <tr style=\"text-align: right;\">\n",
              "      <th></th>\n",
              "      <th>mean_fit_time</th>\n",
              "      <th>std_fit_time</th>\n",
              "      <th>mean_score_time</th>\n",
              "      <th>std_score_time</th>\n",
              "      <th>param_xgreg__learning_rate</th>\n",
              "      <th>param_xgreg__max_depth</th>\n",
              "      <th>params</th>\n",
              "      <th>split0_test_score</th>\n",
              "      <th>split1_test_score</th>\n",
              "      <th>split2_test_score</th>\n",
              "      <th>split3_test_score</th>\n",
              "      <th>split4_test_score</th>\n",
              "      <th>split5_test_score</th>\n",
              "      <th>split6_test_score</th>\n",
              "      <th>split7_test_score</th>\n",
              "      <th>split8_test_score</th>\n",
              "      <th>split9_test_score</th>\n",
              "      <th>split10_test_score</th>\n",
              "      <th>split11_test_score</th>\n",
              "      <th>mean_test_score</th>\n",
              "      <th>std_test_score</th>\n",
              "      <th>rank_test_score</th>\n",
              "      <th>split0_train_score</th>\n",
              "      <th>split1_train_score</th>\n",
              "      <th>split2_train_score</th>\n",
              "      <th>split3_train_score</th>\n",
              "      <th>split4_train_score</th>\n",
              "      <th>split5_train_score</th>\n",
              "      <th>split6_train_score</th>\n",
              "      <th>split7_train_score</th>\n",
              "      <th>split8_train_score</th>\n",
              "      <th>split9_train_score</th>\n",
              "      <th>split10_train_score</th>\n",
              "      <th>split11_train_score</th>\n",
              "      <th>mean_train_score</th>\n",
              "      <th>std_train_score</th>\n",
              "    </tr>\n",
              "  </thead>\n",
              "  <tbody>\n",
              "    <tr>\n",
              "      <th>0</th>\n",
              "      <td>1.984409</td>\n",
              "      <td>0.016636</td>\n",
              "      <td>0.015689</td>\n",
              "      <td>0.000527</td>\n",
              "      <td>0.001</td>\n",
              "      <td>2</td>\n",
              "      <td>{'xgreg__learning_rate': 0.001, 'xgreg__max_de...</td>\n",
              "      <td>0.989515</td>\n",
              "      <td>0.989647</td>\n",
              "      <td>0.98949</td>\n",
              "      <td>0.987221</td>\n",
              "      <td>0.990238</td>\n",
              "      <td>0.987498</td>\n",
              "      <td>0.989941</td>\n",
              "      <td>0.989634</td>\n",
              "      <td>0.987569</td>\n",
              "      <td>0.989831</td>\n",
              "      <td>0.988994</td>\n",
              "      <td>0.990313</td>\n",
              "      <td>0.989158</td>\n",
              "      <td>0.001054</td>\n",
              "      <td>1</td>\n",
              "      <td>0.991216</td>\n",
              "      <td>0.991122</td>\n",
              "      <td>0.991191</td>\n",
              "      <td>0.991189</td>\n",
              "      <td>0.990965</td>\n",
              "      <td>0.991121</td>\n",
              "      <td>0.991106</td>\n",
              "      <td>0.99114</td>\n",
              "      <td>0.99113</td>\n",
              "      <td>0.991204</td>\n",
              "      <td>0.991283</td>\n",
              "      <td>0.990966</td>\n",
              "      <td>0.991136</td>\n",
              "      <td>0.00009</td>\n",
              "    </tr>\n",
              "    <tr>\n",
              "      <th>1</th>\n",
              "      <td>1.988330</td>\n",
              "      <td>0.024717</td>\n",
              "      <td>0.015705</td>\n",
              "      <td>0.000320</td>\n",
              "      <td>0.001</td>\n",
              "      <td>3</td>\n",
              "      <td>{'xgreg__learning_rate': 0.001, 'xgreg__max_de...</td>\n",
              "      <td>0.989515</td>\n",
              "      <td>0.989647</td>\n",
              "      <td>0.98949</td>\n",
              "      <td>0.987221</td>\n",
              "      <td>0.990238</td>\n",
              "      <td>0.987498</td>\n",
              "      <td>0.989941</td>\n",
              "      <td>0.989634</td>\n",
              "      <td>0.987569</td>\n",
              "      <td>0.989831</td>\n",
              "      <td>0.988994</td>\n",
              "      <td>0.990313</td>\n",
              "      <td>0.989158</td>\n",
              "      <td>0.001054</td>\n",
              "      <td>1</td>\n",
              "      <td>0.991216</td>\n",
              "      <td>0.991122</td>\n",
              "      <td>0.991191</td>\n",
              "      <td>0.991189</td>\n",
              "      <td>0.990965</td>\n",
              "      <td>0.991121</td>\n",
              "      <td>0.991106</td>\n",
              "      <td>0.99114</td>\n",
              "      <td>0.99113</td>\n",
              "      <td>0.991204</td>\n",
              "      <td>0.991283</td>\n",
              "      <td>0.990966</td>\n",
              "      <td>0.991136</td>\n",
              "      <td>0.00009</td>\n",
              "    </tr>\n",
              "    <tr>\n",
              "      <th>2</th>\n",
              "      <td>1.983449</td>\n",
              "      <td>0.015391</td>\n",
              "      <td>0.015603</td>\n",
              "      <td>0.000165</td>\n",
              "      <td>0.001</td>\n",
              "      <td>5</td>\n",
              "      <td>{'xgreg__learning_rate': 0.001, 'xgreg__max_de...</td>\n",
              "      <td>0.989515</td>\n",
              "      <td>0.989647</td>\n",
              "      <td>0.98949</td>\n",
              "      <td>0.987221</td>\n",
              "      <td>0.990238</td>\n",
              "      <td>0.987498</td>\n",
              "      <td>0.989941</td>\n",
              "      <td>0.989634</td>\n",
              "      <td>0.987569</td>\n",
              "      <td>0.989831</td>\n",
              "      <td>0.988994</td>\n",
              "      <td>0.990313</td>\n",
              "      <td>0.989158</td>\n",
              "      <td>0.001054</td>\n",
              "      <td>1</td>\n",
              "      <td>0.991216</td>\n",
              "      <td>0.991122</td>\n",
              "      <td>0.991191</td>\n",
              "      <td>0.991189</td>\n",
              "      <td>0.990965</td>\n",
              "      <td>0.991121</td>\n",
              "      <td>0.991106</td>\n",
              "      <td>0.99114</td>\n",
              "      <td>0.99113</td>\n",
              "      <td>0.991204</td>\n",
              "      <td>0.991283</td>\n",
              "      <td>0.990966</td>\n",
              "      <td>0.991136</td>\n",
              "      <td>0.00009</td>\n",
              "    </tr>\n",
              "    <tr>\n",
              "      <th>3</th>\n",
              "      <td>1.991942</td>\n",
              "      <td>0.014639</td>\n",
              "      <td>0.015883</td>\n",
              "      <td>0.000500</td>\n",
              "      <td>0.001</td>\n",
              "      <td>7</td>\n",
              "      <td>{'xgreg__learning_rate': 0.001, 'xgreg__max_de...</td>\n",
              "      <td>0.989515</td>\n",
              "      <td>0.989647</td>\n",
              "      <td>0.98949</td>\n",
              "      <td>0.987221</td>\n",
              "      <td>0.990238</td>\n",
              "      <td>0.987498</td>\n",
              "      <td>0.989941</td>\n",
              "      <td>0.989634</td>\n",
              "      <td>0.987569</td>\n",
              "      <td>0.989831</td>\n",
              "      <td>0.988994</td>\n",
              "      <td>0.990313</td>\n",
              "      <td>0.989158</td>\n",
              "      <td>0.001054</td>\n",
              "      <td>1</td>\n",
              "      <td>0.991216</td>\n",
              "      <td>0.991122</td>\n",
              "      <td>0.991191</td>\n",
              "      <td>0.991189</td>\n",
              "      <td>0.990965</td>\n",
              "      <td>0.991121</td>\n",
              "      <td>0.991106</td>\n",
              "      <td>0.99114</td>\n",
              "      <td>0.99113</td>\n",
              "      <td>0.991204</td>\n",
              "      <td>0.991283</td>\n",
              "      <td>0.990966</td>\n",
              "      <td>0.991136</td>\n",
              "      <td>0.00009</td>\n",
              "    </tr>\n",
              "    <tr>\n",
              "      <th>4</th>\n",
              "      <td>1.992256</td>\n",
              "      <td>0.008288</td>\n",
              "      <td>0.016016</td>\n",
              "      <td>0.001211</td>\n",
              "      <td>0.001</td>\n",
              "      <td>8</td>\n",
              "      <td>{'xgreg__learning_rate': 0.001, 'xgreg__max_de...</td>\n",
              "      <td>0.989515</td>\n",
              "      <td>0.989647</td>\n",
              "      <td>0.98949</td>\n",
              "      <td>0.987221</td>\n",
              "      <td>0.990238</td>\n",
              "      <td>0.987498</td>\n",
              "      <td>0.989941</td>\n",
              "      <td>0.989634</td>\n",
              "      <td>0.987569</td>\n",
              "      <td>0.989831</td>\n",
              "      <td>0.988994</td>\n",
              "      <td>0.990313</td>\n",
              "      <td>0.989158</td>\n",
              "      <td>0.001054</td>\n",
              "      <td>1</td>\n",
              "      <td>0.991216</td>\n",
              "      <td>0.991122</td>\n",
              "      <td>0.991191</td>\n",
              "      <td>0.991189</td>\n",
              "      <td>0.990965</td>\n",
              "      <td>0.991121</td>\n",
              "      <td>0.991106</td>\n",
              "      <td>0.99114</td>\n",
              "      <td>0.99113</td>\n",
              "      <td>0.991204</td>\n",
              "      <td>0.991283</td>\n",
              "      <td>0.990966</td>\n",
              "      <td>0.991136</td>\n",
              "      <td>0.00009</td>\n",
              "    </tr>\n",
              "  </tbody>\n",
              "</table>\n",
              "</div>"
            ],
            "text/plain": [
              "   mean_fit_time  std_fit_time  ...  mean_train_score  std_train_score\n",
              "0       1.984409      0.016636  ...          0.991136          0.00009\n",
              "1       1.988330      0.024717  ...          0.991136          0.00009\n",
              "2       1.983449      0.015391  ...          0.991136          0.00009\n",
              "3       1.991942      0.014639  ...          0.991136          0.00009\n",
              "4       1.992256      0.008288  ...          0.991136          0.00009\n",
              "\n",
              "[5 rows x 36 columns]"
            ]
          },
          "metadata": {
            "tags": []
          },
          "execution_count": 211
        }
      ]
    },
    {
      "cell_type": "markdown",
      "metadata": {
        "id": "1yhG6tbU23uQ"
      },
      "source": [
        "### Hyperparameter's Score"
      ]
    },
    {
      "cell_type": "code",
      "metadata": {
        "colab": {
          "base_uri": "https://localhost:8080/",
          "height": 476
        },
        "id": "UtKae_LRySSt",
        "outputId": "25831c2f-421a-4fe9-db6f-b3df74994c85"
      },
      "source": [
        "_=plt.figure(figsize=(15,8))\n",
        "g = sns.FacetGrid(cv_results, col=\"param_xgreg__max_depth\",col_wrap=4,sharex=False, \n",
        "                  sharey=False)\n",
        "g.map_dataframe(sns.lineplot, x=\"param_xgreg__learning_rate\",\n",
        "                y='mean_train_score',color='red')\n",
        "g.map_dataframe(sns.lineplot, x=\"param_xgreg__learning_rate\",\n",
        "                y='mean_test_score')"
      ],
      "execution_count": 229,
      "outputs": [
        {
          "output_type": "execute_result",
          "data": {
            "text/plain": [
              "<matplotlib.legend.Legend at 0x7feb55c11850>"
            ]
          },
          "metadata": {
            "tags": []
          },
          "execution_count": 229
        },
        {
          "output_type": "display_data",
          "data": {
            "text/plain": [
              "<Figure size 1080x576 with 0 Axes>"
            ]
          },
          "metadata": {
            "tags": []
          }
        },
        {
          "output_type": "display_data",
          "data": {
            "image/png": "[encoded data removed]",
            "text/plain": [
              "<Figure size 872x432 with 7 Axes>"
            ]
          },
          "metadata": {
            "tags": [],
            "needs_background": "light"
          }
        }
      ]
    },
    {
      "cell_type": "markdown",
      "metadata": {
        "id": "G2t15yiIpFhu"
      },
      "source": [
        "### Test data predict"
      ]
    },
    {
      "cell_type": "code",
      "metadata": {
        "id": "yT5WV7BupJ8q"
      },
      "source": [
        "test_predict=grid.predict(new_test.drop(columns=['Customer ID','Name','Property ID']))"
      ],
      "execution_count": 187,
      "outputs": []
    },
    {
      "cell_type": "code",
      "metadata": {
        "id": "A5gbUMglt2_b"
      },
      "source": [
        "result_sub=pd.DataFrame({'Customer ID':new_test['Customer ID'],'Loan Sanction Amount(USD)':test_predict})"
      ],
      "execution_count": 193,
      "outputs": []
    },
    {
      "cell_type": "code",
      "metadata": {
        "colab": {
          "base_uri": "https://localhost:8080/",
          "height": 414
        },
        "id": "I9xCNcX2uV-y",
        "outputId": "acbe7ee4-25a3-4852-966a-ec7e692e768f"
      },
      "source": [
        "result_sub"
      ],
      "execution_count": 194,
      "outputs": [
        {
          "output_type": "execute_result",
          "data": {
            "text/html": [
              "<div>\n",
              "<style scoped>\n",
              "    .dataframe tbody tr th:only-of-type {\n",
              "        vertical-align: middle;\n",
              "    }\n",
              "\n",
              "    .dataframe tbody tr th {\n",
              "        vertical-align: top;\n",
              "    }\n",
              "\n",
              "    .dataframe thead th {\n",
              "        text-align: right;\n",
              "    }\n",
              "</style>\n",
              "<table border=\"1\" class=\"dataframe\">\n",
              "  <thead>\n",
              "    <tr style=\"text-align: right;\">\n",
              "      <th></th>\n",
              "      <th>Customer ID</th>\n",
              "      <th>Loan Sanction Amount(USD)</th>\n",
              "    </tr>\n",
              "  </thead>\n",
              "  <tbody>\n",
              "    <tr>\n",
              "      <th>108</th>\n",
              "      <td>C-14817</td>\n",
              "      <td>39087.039062</td>\n",
              "    </tr>\n",
              "    <tr>\n",
              "      <th>114</th>\n",
              "      <td>C-24508</td>\n",
              "      <td>92113.156250</td>\n",
              "    </tr>\n",
              "    <tr>\n",
              "      <th>290</th>\n",
              "      <td>C-18811</td>\n",
              "      <td>53837.875000</td>\n",
              "    </tr>\n",
              "    <tr>\n",
              "      <th>322</th>\n",
              "      <td>C-15078</td>\n",
              "      <td>53065.660156</td>\n",
              "    </tr>\n",
              "    <tr>\n",
              "      <th>421</th>\n",
              "      <td>C-17364</td>\n",
              "      <td>105754.531250</td>\n",
              "    </tr>\n",
              "    <tr>\n",
              "      <th>...</th>\n",
              "      <td>...</td>\n",
              "      <td>...</td>\n",
              "    </tr>\n",
              "    <tr>\n",
              "      <th>19995</th>\n",
              "      <td>C-9076</td>\n",
              "      <td>105572.265625</td>\n",
              "    </tr>\n",
              "    <tr>\n",
              "      <th>19996</th>\n",
              "      <td>C-17587</td>\n",
              "      <td>32843.867188</td>\n",
              "    </tr>\n",
              "    <tr>\n",
              "      <th>19997</th>\n",
              "      <td>C-46479</td>\n",
              "      <td>14338.073242</td>\n",
              "    </tr>\n",
              "    <tr>\n",
              "      <th>19998</th>\n",
              "      <td>C-3099</td>\n",
              "      <td>73575.828125</td>\n",
              "    </tr>\n",
              "    <tr>\n",
              "      <th>19999</th>\n",
              "      <td>C-43482</td>\n",
              "      <td>85731.632812</td>\n",
              "    </tr>\n",
              "  </tbody>\n",
              "</table>\n",
              "<p>20340 rows × 2 columns</p>\n",
              "</div>"
            ],
            "text/plain": [
              "      Customer ID  Loan Sanction Amount(USD)\n",
              "108       C-14817               39087.039062\n",
              "114       C-24508               92113.156250\n",
              "290       C-18811               53837.875000\n",
              "322       C-15078               53065.660156\n",
              "421       C-17364              105754.531250\n",
              "...           ...                        ...\n",
              "19995      C-9076              105572.265625\n",
              "19996     C-17587               32843.867188\n",
              "19997     C-46479               14338.073242\n",
              "19998      C-3099               73575.828125\n",
              "19999     C-43482               85731.632812\n",
              "\n",
              "[20340 rows x 2 columns]"
            ]
          },
          "metadata": {
            "tags": []
          },
          "execution_count": 194
        }
      ]
    }
  ]
}